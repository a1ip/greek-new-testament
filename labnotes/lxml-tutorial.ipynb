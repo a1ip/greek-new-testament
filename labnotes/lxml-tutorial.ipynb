{
 "cells": [
  {
   "cell_type": "markdown",
   "metadata": {},
   "source": [
    "# Tutorial: Python 3, lxml, and Greek Syntax Trees"
   ]
  },
  {
   "cell_type": "markdown",
   "metadata": {},
   "source": [
    "[jonathanrobie.biblicalhumanities.org](http://jonathanrobie.biblicalhumanities.org)"
   ]
  },
  {
   "cell_type": "markdown",
   "metadata": {},
   "source": [
    "** NOTE: This notebook does not render correctly on some mobile devices.  If it looks like a JSON document, read it with a desktop-based web browser **"
   ]
  },
  {
   "cell_type": "markdown",
   "metadata": {},
   "source": [
    "This Jupyter Notebook shows how to work with the biblicalhumanities.org [Greek syntax trees](github.com/biblicalhumanities/greek-new-testament/syntax-trees) using Python 3, and the [lxml library](http://lxml.de/xpathxslt.html). These syntax trees are represented as XML text files. In this tutorial, we parse the files once and find what we want using XPath.  The lxml library supports only XPath 1.0 - I will explore using XPath 3.1 and XQuery 3.1 using the [BaseX Client API](https://github.com/BaseXdb/basex/tree/master/basex-api/src/main/python) in a future notebook."
   ]
  },
  {
   "cell_type": "markdown",
   "metadata": {},
   "source": [
    "## Install Jupyter\n",
    "\n",
    "Follow the instructions [here](https://jupyter.org/install.html)."
   ]
  },
  {
   "cell_type": "markdown",
   "metadata": {},
   "source": [
    "## Install lxml"
   ]
  },
  {
   "cell_type": "markdown",
   "metadata": {},
   "source": [
    "Install lxml - see instructions [here](http://lxml.de/installation.html).\n",
    "\n",
    "If you want to create notebooks (highly recommended!) then install Jupyter - see instructions [here](https://jupyter.org/install.html)."
   ]
  },
  {
   "cell_type": "markdown",
   "metadata": {},
   "source": [
    "## Get the Syntax trees"
   ]
  },
  {
   "cell_type": "markdown",
   "metadata": {},
   "source": [
    "Get the syntax trees using git:\n",
    "\n",
    "```\n",
    "$ git clone https://github.com/biblicalhumanities/greek-new-testament\n",
    "```\n",
    "\n",
    "On my machine, I clone repos into the ~/git subdirectory. If you use a different directory structure, set the following variable to the location of the file `nestle1904lowfat.xml` on your machine."
   ]
  },
  {
   "cell_type": "code",
   "execution_count": 1,
   "metadata": {
    "collapsed": true
   },
   "outputs": [],
   "source": [
    "TREEBANK = \"/Users/jonathan/git/greek-new-testament/syntax-trees/nestle1904-lowfat/xml/nestle1904lowfat.xml\""
   ]
  },
  {
   "cell_type": "markdown",
   "metadata": {},
   "source": [
    "This file contains a series of XInclude statements that each include one file from the Greek New Testament:\n",
    "\n",
    "```xml\n",
    "<gnt xmlns:xi=\"http://www.w3.org/2001/XInclude\">\n",
    "    <xi:include href=\"01-matthew.xml\"/>\n",
    "    <xi:include href=\"02-mark.xml\"/>\n",
    "    <xi:include href=\"03-luke.xml\"/>\n",
    "    <xi:include href=\"04-john.xml\"/>\n",
    "    !!! SNIP !!!\n",
    "</gnt>\n",
    "```\n",
    "\n",
    "Each of these included files contains a `<book/>` element that looks like this:\n",
    "\n",
    "```xml \n",
    "<book xml:base=\"01-matthew.xml\">\n",
    "  <sentence>\n",
    "    <milestone unit=\"verse\" id=\"Matt.1.1\">Matt.1.1</milestone>\n",
    "    <p>Βίβλος γενέσεως Ἰησοῦ Χριστοῦ υἱοῦ Δαυεὶδ υἱοῦ Ἀβραάμ.</p>\n",
    "    <wg class=\"cl\">\n",
    "      <wg class=\"cl\" n=\"400010010010082\">\n",
    "        <wg role=\"p\" class=\"np\" n=\"400010010010080\">\n",
    "          <w class=\"noun\"\n",
    "             type=\"common\"\n",
    "             osisId=\"Matt.1.1!1\"\n",
    "             n=\"400010010010010\"\n",
    "             lemma=\"βίβλος\"\n",
    "             normalized=\"Βίβλος\"\n",
    "             strong=\"976\"\n",
    "             number=\"singular\"\n",
    "             gender=\"feminine\"\n",
    "             case=\"nominative\"\n",
    "             head=\"true\">Βίβλος</w>\n",
    "    !!! SNIP !!!\n",
    "```\n",
    "\n",
    "Note the following:\n",
    "\n",
    "- The `<book/>` element contains a sequence of `<sentence/>` elements, which represent the sentences of a book.\n",
    "- When expanded with XInclude, the `xml:base` attribute identifies the book.  \n",
    "- Verses are represented using `<milestone/>` elements that occur within sentences.\n",
    "- For the sake of readability, each sentence has a `<p/>` element that contains the sentence in plain text.\n",
    "- Sentences contain word groups (`<wg/>`) and words (`<w/>`), which can each contain `class` and `role` elements.  For instance, a clause is a word group where `class=\"cl\"`, a noun phrase is a word group where `class=\"np\"`.\n",
    "- More details on this format can be found in the [Nestle1904 Lowfat README](https://github.com/biblicalhumanities/greek-new-testament/tree/master/syntax-trees/nestle1904-lowfat/README.md).  The values that an attribute can take are more fully documented in the [Nestle 1904 Documentation](https://github.com/biblicalhumanities/greek-new-testament/blob/master/syntax-trees/nestle1904/doc/SBLGNT%20Treebank%20Documentation.pdf)."
   ]
  },
  {
   "cell_type": "markdown",
   "metadata": {},
   "source": [
    "## Import lxml and parse the syntax trees."
   ]
  },
  {
   "cell_type": "markdown",
   "metadata": {},
   "source": [
    "Import the `lxml` library and parse `gnt.xml`, then use XInclude to expand each book inline."
   ]
  },
  {
   "cell_type": "code",
   "execution_count": 2,
   "metadata": {
    "collapsed": true
   },
   "outputs": [],
   "source": [
    "from lxml import etree"
   ]
  },
  {
   "cell_type": "code",
   "execution_count": 3,
   "metadata": {
    "collapsed": true
   },
   "outputs": [],
   "source": [
    "tree = etree.parse(TREEBANK)"
   ]
  },
  {
   "cell_type": "code",
   "execution_count": 4,
   "metadata": {
    "collapsed": true
   },
   "outputs": [],
   "source": [
    "tree.xinclude()"
   ]
  },
  {
   "cell_type": "markdown",
   "metadata": {},
   "source": [
    "## Books, verses"
   ]
  },
  {
   "cell_type": "markdown",
   "metadata": {},
   "source": [
    "Most realistic use cases involving books and verses require both linguistic units (sentences, word groups, words) too, but let's start by showing just the books and verses.  After we introduce linguistic units, we will show how to combine the two."
   ]
  },
  {
   "cell_type": "markdown",
   "metadata": {},
   "source": [
    "### Books"
   ]
  },
  {
   "cell_type": "markdown",
   "metadata": {},
   "source": [
    "Each book is an element located directly under the `<gnt/>` element:\n",
    "\n",
    "```xml\n",
    "<gnt xmlns:xi=\"http://www.w3.org/2001/XInclude\">\n",
    "    <book xml:base=\"01-matthew.xml\">\n",
    "```\n",
    "\n",
    "Let's use XPath to find the books. \n",
    "    "
   ]
  },
  {
   "cell_type": "code",
   "execution_count": 5,
   "metadata": {
    "collapsed": true
   },
   "outputs": [],
   "source": [
    "books = tree.xpath('/gnt/book')"
   ]
  },
  {
   "cell_type": "code",
   "execution_count": 6,
   "metadata": {},
   "outputs": [
    {
     "data": {
      "text/plain": [
       "27"
      ]
     },
     "execution_count": 6,
     "metadata": {},
     "output_type": "execute_result"
    }
   ],
   "source": [
    "len(books)"
   ]
  },
  {
   "cell_type": "markdown",
   "metadata": {},
   "source": [
    "Now let's print out the `osisId` attribute of each book to make sure that we have the books we are expecting."
   ]
  },
  {
   "cell_type": "code",
   "execution_count": 7,
   "metadata": {},
   "outputs": [
    {
     "name": "stdout",
     "output_type": "stream",
     "text": [
      "Matt\n",
      "Mark\n",
      "Luke\n",
      "John\n",
      "Acts\n",
      "Rom\n",
      "1Cor\n",
      "2Cor\n",
      "Gal\n",
      "Eph\n",
      "Phil\n",
      "Col\n",
      "1Thess\n",
      "2Thess\n",
      "1Tim\n",
      "2Tim\n",
      "Titus\n",
      "Phlm\n",
      "Heb\n",
      "Jas\n",
      "1Pet\n",
      "2Pet\n",
      "1John\n",
      "2John\n",
      "3John\n",
      "Jude\n",
      "Rev\n"
     ]
    }
   ],
   "source": [
    "for book in books:\n",
    "    print(book.get(\"osisId\"))"
   ]
  },
  {
   "cell_type": "markdown",
   "metadata": {},
   "source": [
    "### Verses"
   ]
  },
  {
   "cell_type": "markdown",
   "metadata": {},
   "source": [
    "Verses can be found in several ways. Each sentence has a milestone element identifying the starting verse for the sentence:\n",
    "\n",
    "```xml\n",
    " <sentence>\n",
    "    <milestone unit=\"verse\" id=\"Matt.1.1\">Matt.1.1</milestone>\n",
    "    <p>Βίβλος γενέσεως Ἰησοῦ Χριστοῦ υἱοῦ Δαυεὶδ υἱοῦ Ἀβραάμ.</p>\n",
    "```\n",
    "\n",
    "Note that the milestones correspond to the starting point of a sentence, so the count will be the same as the count of sentences. Because many verses contain multiple sentences, the number of milestones is larger than the number of verses.  Also, be aware that some sentences span multiple verses."
   ]
  },
  {
   "cell_type": "code",
   "execution_count": 8,
   "metadata": {
    "collapsed": true
   },
   "outputs": [],
   "source": [
    "verses = tree.xpath('//milestone[@unit=\"verse\"]')"
   ]
  },
  {
   "cell_type": "code",
   "execution_count": 9,
   "metadata": {},
   "outputs": [
    {
     "data": {
      "text/plain": [
       "'Matt.1.1'"
      ]
     },
     "execution_count": 9,
     "metadata": {},
     "output_type": "execute_result"
    }
   ],
   "source": [
    "verses[0].text"
   ]
  },
  {
   "cell_type": "markdown",
   "metadata": {},
   "source": [
    "In Python, `-1` means the last item in a list, so the following finds the last milestone:"
   ]
  },
  {
   "cell_type": "code",
   "execution_count": 10,
   "metadata": {},
   "outputs": [
    {
     "data": {
      "text/plain": [
       "'Rev.22.21'"
      ]
     },
     "execution_count": 10,
     "metadata": {},
     "output_type": "execute_result"
    }
   ],
   "source": [
    "verses[-1].text"
   ]
  },
  {
   "cell_type": "markdown",
   "metadata": {},
   "source": [
    "You can search for verses in a book by looking for verses that start with the name of the book: "
   ]
  },
  {
   "cell_type": "code",
   "execution_count": 11,
   "metadata": {
    "collapsed": true
   },
   "outputs": [],
   "source": [
    "john_verses = tree.xpath('//milestone[@unit=\"verse\" and starts-with(., \"John.\")]')"
   ]
  },
  {
   "cell_type": "markdown",
   "metadata": {},
   "source": [
    "## Linguistic units\n",
    "\n",
    "Let's look at the sentences, clauses, and words in our treebank.  \n",
    "\n",
    "### Sentences\n",
    "\n",
    "First, let's count all sentences in our treebank:"
   ]
  },
  {
   "cell_type": "code",
   "execution_count": 12,
   "metadata": {
    "collapsed": true
   },
   "outputs": [],
   "source": [
    "sentences = tree.xpath('//sentence')"
   ]
  },
  {
   "cell_type": "code",
   "execution_count": 13,
   "metadata": {},
   "outputs": [
    {
     "data": {
      "text/plain": [
       "8011"
      ]
     },
     "execution_count": 13,
     "metadata": {},
     "output_type": "execute_result"
    }
   ],
   "source": [
    "len(sentences)"
   ]
  },
  {
   "cell_type": "markdown",
   "metadata": {},
   "source": [
    "Now let's look at just the sentences in John 3 - that is, sentences containing a milestone that starts with the string `John.3.`:"
   ]
  },
  {
   "cell_type": "code",
   "execution_count": 14,
   "metadata": {
    "collapsed": true
   },
   "outputs": [],
   "source": [
    "sentences = tree.xpath('//sentence[ milestone[@unit=\"verse\" and starts-with(., \"John.3.\")] ]')"
   ]
  },
  {
   "cell_type": "code",
   "execution_count": 15,
   "metadata": {},
   "outputs": [
    {
     "data": {
      "text/plain": [
       "42"
      ]
     },
     "execution_count": 15,
     "metadata": {},
     "output_type": "execute_result"
    }
   ],
   "source": [
    "len(sentences)"
   ]
  },
  {
   "cell_type": "markdown",
   "metadata": {},
   "source": [
    "### Clauses and Phrases\n",
    "\n",
    "Now let's look at clauses and noun phrases, which are both represented as `<wg/>` elements.  The `class` attribute identifies the class of the word group:"
   ]
  },
  {
   "cell_type": "code",
   "execution_count": 16,
   "metadata": {
    "collapsed": true
   },
   "outputs": [],
   "source": [
    "clauses = tree.xpath('//wg[@class=\"cl\"]')"
   ]
  },
  {
   "cell_type": "code",
   "execution_count": 17,
   "metadata": {},
   "outputs": [
    {
     "data": {
      "text/plain": [
       "61551"
      ]
     },
     "execution_count": 17,
     "metadata": {},
     "output_type": "execute_result"
    }
   ],
   "source": [
    "len(clauses)"
   ]
  },
  {
   "cell_type": "markdown",
   "metadata": {},
   "source": [
    "We can pick one of these clauses and use XPath to see the words that it contains:"
   ]
  },
  {
   "cell_type": "code",
   "execution_count": 18,
   "metadata": {},
   "outputs": [
    {
     "data": {
      "text/plain": [
       "['Βίβλος', 'γενέσεως', 'Ἰησοῦ', 'Χριστοῦ', 'υἱοῦ', 'Δαυεὶδ', 'υἱοῦ', 'Ἀβραάμ.']"
      ]
     },
     "execution_count": 18,
     "metadata": {},
     "output_type": "execute_result"
    }
   ],
   "source": [
    "clauses[1].xpath(\".//w/text()\")"
   ]
  },
  {
   "cell_type": "markdown",
   "metadata": {},
   "source": [
    "Now let's look at noun phrases:"
   ]
  },
  {
   "cell_type": "code",
   "execution_count": 19,
   "metadata": {
    "collapsed": true
   },
   "outputs": [],
   "source": [
    "nps = tree.xpath('//wg[@class=\"np\"]')"
   ]
  },
  {
   "cell_type": "code",
   "execution_count": 20,
   "metadata": {},
   "outputs": [
    {
     "data": {
      "text/plain": [
       "38507"
      ]
     },
     "execution_count": 20,
     "metadata": {},
     "output_type": "execute_result"
    }
   ],
   "source": [
    "len(nps)"
   ]
  },
  {
   "cell_type": "code",
   "execution_count": 21,
   "metadata": {},
   "outputs": [
    {
     "data": {
      "text/plain": [
       "['Ἰησοῦ', 'Χριστοῦ', 'υἱοῦ', 'Δαυεὶδ', 'υἱοῦ', 'Ἀβραάμ.']"
      ]
     },
     "execution_count": 21,
     "metadata": {},
     "output_type": "execute_result"
    }
   ],
   "source": [
    "nps[2].xpath(\".//w/text()\")"
   ]
  },
  {
   "cell_type": "markdown",
   "metadata": {},
   "source": [
    "### Words\n",
    "\n",
    "Now let's look at individual words."
   ]
  },
  {
   "cell_type": "code",
   "execution_count": 22,
   "metadata": {
    "collapsed": true
   },
   "outputs": [],
   "source": [
    "words = tree.xpath('//w')"
   ]
  },
  {
   "cell_type": "code",
   "execution_count": 23,
   "metadata": {},
   "outputs": [
    {
     "data": {
      "text/plain": [
       "137779"
      ]
     },
     "execution_count": 23,
     "metadata": {},
     "output_type": "execute_result"
    }
   ],
   "source": [
    "len(words)"
   ]
  },
  {
   "cell_type": "code",
   "execution_count": 24,
   "metadata": {},
   "outputs": [
    {
     "data": {
      "text/plain": [
       "'Βίβλος'"
      ]
     },
     "execution_count": 24,
     "metadata": {},
     "output_type": "execute_result"
    }
   ],
   "source": [
    "words[0].text"
   ]
  },
  {
   "cell_type": "code",
   "execution_count": 25,
   "metadata": {},
   "outputs": [
    {
     "data": {
      "text/plain": [
       "'πάντων.'"
      ]
     },
     "execution_count": 25,
     "metadata": {},
     "output_type": "execute_result"
    }
   ],
   "source": [
    "words[-1].text"
   ]
  },
  {
   "cell_type": "markdown",
   "metadata": {},
   "source": [
    "We can choose words of a given class, e.g. nouns or verbs:"
   ]
  },
  {
   "cell_type": "code",
   "execution_count": 26,
   "metadata": {
    "collapsed": true
   },
   "outputs": [],
   "source": [
    "nouns = tree.xpath('//w[@class=\"noun\"]')"
   ]
  },
  {
   "cell_type": "code",
   "execution_count": 27,
   "metadata": {},
   "outputs": [
    {
     "data": {
      "text/plain": [
       "28455"
      ]
     },
     "execution_count": 27,
     "metadata": {},
     "output_type": "execute_result"
    }
   ],
   "source": [
    "len(nouns)"
   ]
  },
  {
   "cell_type": "code",
   "execution_count": 28,
   "metadata": {},
   "outputs": [
    {
     "data": {
      "text/plain": [
       "'Βίβλος'"
      ]
     },
     "execution_count": 28,
     "metadata": {},
     "output_type": "execute_result"
    }
   ],
   "source": [
    "nouns[0].text"
   ]
  },
  {
   "cell_type": "code",
   "execution_count": 29,
   "metadata": {},
   "outputs": [
    {
     "data": {
      "text/plain": [
       "'Ἰησοῦ'"
      ]
     },
     "execution_count": 29,
     "metadata": {},
     "output_type": "execute_result"
    }
   ],
   "source": [
    "nouns[-1].text"
   ]
  },
  {
   "cell_type": "code",
   "execution_count": 30,
   "metadata": {
    "collapsed": true
   },
   "outputs": [],
   "source": [
    "verbs =  tree.xpath('//w[@class=\"verb\"]')"
   ]
  },
  {
   "cell_type": "code",
   "execution_count": 31,
   "metadata": {},
   "outputs": [
    {
     "data": {
      "text/plain": [
       "28357"
      ]
     },
     "execution_count": 31,
     "metadata": {},
     "output_type": "execute_result"
    }
   ],
   "source": [
    "len(verbs)"
   ]
  },
  {
   "cell_type": "code",
   "execution_count": 32,
   "metadata": {},
   "outputs": [
    {
     "data": {
      "text/plain": [
       "'ἐγέννησεν'"
      ]
     },
     "execution_count": 32,
     "metadata": {},
     "output_type": "execute_result"
    }
   ],
   "source": [
    "verbs[0].text"
   ]
  },
  {
   "cell_type": "code",
   "execution_count": 33,
   "metadata": {},
   "outputs": [
    {
     "data": {
      "text/plain": [
       "'ἔρχου'"
      ]
     },
     "execution_count": 33,
     "metadata": {},
     "output_type": "execute_result"
    }
   ],
   "source": [
    "verbs[-1].text"
   ]
  },
  {
   "cell_type": "markdown",
   "metadata": {},
   "source": [
    "## Morphology\n",
    "\n",
    "Words contain attributes that describe their morphology.  These can be used in queries on words.  For instance, here is an example of a word in John 3:16:\n",
    "\n",
    "```xml\n",
    "   <w role=\"v\"\n",
    "      class=\"verb\"\n",
    "      osisId=\"John.3.16!17\"\n",
    "      n=\"430030160170010\"\n",
    "      lemma=\"πιστεύω\"\n",
    "      normalized=\"πιστεύων\"\n",
    "      strong=\"4100\"\n",
    "      number=\"singular\"\n",
    "      gender=\"masculine\"\n",
    "      case=\"nominative\"\n",
    "      tense=\"present\"\n",
    "      voice=\"active\"\n",
    "      mood=\"participle\"\n",
    "      head=\"true\">πιστεύων</w>\n",
    "```\n",
    "\n",
    "Let's do some queries using the attributes we see in this example.  \n",
    "\n",
    "How many times do we see the word πιστεύω?"
   ]
  },
  {
   "cell_type": "code",
   "execution_count": 34,
   "metadata": {
    "collapsed": true
   },
   "outputs": [],
   "source": [
    "pisteuw = tree.xpath('//w[@lemma=\"πιστεύω\"]')"
   ]
  },
  {
   "cell_type": "code",
   "execution_count": 35,
   "metadata": {},
   "outputs": [
    {
     "data": {
      "text/plain": [
       "241"
      ]
     },
     "execution_count": 35,
     "metadata": {},
     "output_type": "execute_result"
    }
   ],
   "source": [
    "len(pisteuw)"
   ]
  },
  {
   "cell_type": "markdown",
   "metadata": {},
   "source": [
    "Because we did not specify morphology, this verb will occur in many forms.  Let's look at the first few:"
   ]
  },
  {
   "cell_type": "code",
   "execution_count": 36,
   "metadata": {},
   "outputs": [
    {
     "data": {
      "text/plain": [
       "'ἐπίστευσας'"
      ]
     },
     "execution_count": 36,
     "metadata": {},
     "output_type": "execute_result"
    }
   ],
   "source": [
    "pisteuw[0].text"
   ]
  },
  {
   "cell_type": "code",
   "execution_count": 37,
   "metadata": {},
   "outputs": [
    {
     "data": {
      "text/plain": [
       "'Πιστεύετε'"
      ]
     },
     "execution_count": 37,
     "metadata": {},
     "output_type": "execute_result"
    }
   ],
   "source": [
    "pisteuw[1].text"
   ]
  },
  {
   "cell_type": "markdown",
   "metadata": {},
   "source": [
    "The osisId identifies the verse in which each word occurs:"
   ]
  },
  {
   "cell_type": "code",
   "execution_count": 38,
   "metadata": {},
   "outputs": [
    {
     "data": {
      "text/plain": [
       "'Matt.8.13!9'"
      ]
     },
     "execution_count": 38,
     "metadata": {},
     "output_type": "execute_result"
    }
   ],
   "source": [
    "pisteuw[0].get(\"osisId\")"
   ]
  },
  {
   "cell_type": "code",
   "execution_count": 39,
   "metadata": {},
   "outputs": [
    {
     "data": {
      "text/plain": [
       "'Matt.9.28!15'"
      ]
     },
     "execution_count": 39,
     "metadata": {},
     "output_type": "execute_result"
    }
   ],
   "source": [
    "pisteuw[1].get(\"osisId\")"
   ]
  },
  {
   "cell_type": "markdown",
   "metadata": {},
   "source": [
    "Now let's look for participle forms of this verb that are singular, masculine, and nominative:"
   ]
  },
  {
   "cell_type": "code",
   "execution_count": 40,
   "metadata": {
    "collapsed": true
   },
   "outputs": [],
   "source": [
    "smn = tree.xpath('//w[@mood=\"participle\" and @number=\"singular\" and @gender=\"masculine\" and @case=\"nominative\" and @lemma=\"πιστεύω\"]')"
   ]
  },
  {
   "cell_type": "code",
   "execution_count": 41,
   "metadata": {},
   "outputs": [
    {
     "data": {
      "text/plain": [
       "27"
      ]
     },
     "execution_count": 41,
     "metadata": {},
     "output_type": "execute_result"
    }
   ],
   "source": [
    "len(smn)"
   ]
  },
  {
   "cell_type": "markdown",
   "metadata": {},
   "source": [
    "That still allows multiple forms, e.g. both present and aorist forms of the verb:"
   ]
  },
  {
   "cell_type": "code",
   "execution_count": 42,
   "metadata": {},
   "outputs": [
    {
     "data": {
      "text/plain": [
       "'πιστεύσας'"
      ]
     },
     "execution_count": 42,
     "metadata": {},
     "output_type": "execute_result"
    }
   ],
   "source": [
    "smn[0].text"
   ]
  },
  {
   "cell_type": "code",
   "execution_count": 43,
   "metadata": {},
   "outputs": [
    {
     "data": {
      "text/plain": [
       "'πιστεύων'"
      ]
     },
     "execution_count": 43,
     "metadata": {},
     "output_type": "execute_result"
    }
   ],
   "source": [
    "smn[1].text"
   ]
  },
  {
   "cell_type": "markdown",
   "metadata": {},
   "source": [
    "Now let's query based on tense, voice, and mood, allowing a different set of possible forms:"
   ]
  },
  {
   "cell_type": "code",
   "execution_count": 44,
   "metadata": {
    "collapsed": true
   },
   "outputs": [],
   "source": [
    "pap = tree.xpath('//w[@tense=\"present\" and @voice=\"active\" and @mood=\"participle\" and @lemma=\"πιστεύω\"]')"
   ]
  },
  {
   "cell_type": "code",
   "execution_count": 45,
   "metadata": {},
   "outputs": [
    {
     "data": {
      "text/plain": [
       "53"
      ]
     },
     "execution_count": 45,
     "metadata": {},
     "output_type": "execute_result"
    }
   ],
   "source": [
    "len(pap)"
   ]
  },
  {
   "cell_type": "code",
   "execution_count": 46,
   "metadata": {},
   "outputs": [
    {
     "data": {
      "text/plain": [
       "'πιστευόντων'"
      ]
     },
     "execution_count": 46,
     "metadata": {},
     "output_type": "execute_result"
    }
   ],
   "source": [
    "pap[0].text"
   ]
  },
  {
   "cell_type": "code",
   "execution_count": 47,
   "metadata": {},
   "outputs": [
    {
     "data": {
      "text/plain": [
       "'πιστεύοντες'"
      ]
     },
     "execution_count": 47,
     "metadata": {},
     "output_type": "execute_result"
    }
   ],
   "source": [
    "pap[1].text"
   ]
  },
  {
   "cell_type": "code",
   "execution_count": 48,
   "metadata": {},
   "outputs": [
    {
     "data": {
      "text/plain": [
       "'πιστεύοντι.'"
      ]
     },
     "execution_count": 48,
     "metadata": {},
     "output_type": "execute_result"
    }
   ],
   "source": [
    "pap[2].text"
   ]
  },
  {
   "cell_type": "markdown",
   "metadata": {},
   "source": [
    "## Syntax\n",
    "\n",
    "Syntax is largely about exploring relationships among clauses, and the `@role` attribute expresses some particularly important relationships.  First, let's take a look at all clauses."
   ]
  },
  {
   "cell_type": "code",
   "execution_count": 49,
   "metadata": {
    "collapsed": true
   },
   "outputs": [],
   "source": [
    "clauses = tree.xpath('//wg[@class=\"cl\"]')"
   ]
  },
  {
   "cell_type": "code",
   "execution_count": 50,
   "metadata": {},
   "outputs": [
    {
     "data": {
      "text/plain": [
       "61551"
      ]
     },
     "execution_count": 50,
     "metadata": {},
     "output_type": "execute_result"
    }
   ],
   "source": [
    "len(clauses)"
   ]
  },
  {
   "cell_type": "markdown",
   "metadata": {},
   "source": [
    "Adverbial clauses are marked with the role `adv`:"
   ]
  },
  {
   "cell_type": "code",
   "execution_count": 51,
   "metadata": {
    "collapsed": true
   },
   "outputs": [],
   "source": [
    "adverbial_clauses = tree.xpath('//wg[@role=\"adv\" and @class=\"cl\"]')"
   ]
  },
  {
   "cell_type": "code",
   "execution_count": 52,
   "metadata": {},
   "outputs": [
    {
     "data": {
      "text/plain": [
       "2622"
      ]
     },
     "execution_count": 52,
     "metadata": {},
     "output_type": "execute_result"
    }
   ],
   "source": [
    "len(adverbial_clauses)"
   ]
  },
  {
   "cell_type": "code",
   "execution_count": 53,
   "metadata": {},
   "outputs": [
    {
     "data": {
      "text/plain": [
       "['πρὶν', 'ἢ', 'συνελθεῖν', 'αὐτοὺς']"
      ]
     },
     "execution_count": 53,
     "metadata": {},
     "output_type": "execute_result"
    }
   ],
   "source": [
    "adverbial_clauses[0].xpath('.//w/text()')"
   ]
  },
  {
   "cell_type": "markdown",
   "metadata": {},
   "source": [
    "And we can also look for clauses that contain adverbial clauses:"
   ]
  },
  {
   "cell_type": "code",
   "execution_count": 54,
   "metadata": {
    "collapsed": true
   },
   "outputs": [],
   "source": [
    "clauses_containing_adverbial_clauses = tree.xpath('//wg[@class=\"cl\" and wg[@role=\"adv\" and @class=\"cl\"]]')"
   ]
  },
  {
   "cell_type": "code",
   "execution_count": 55,
   "metadata": {},
   "outputs": [
    {
     "data": {
      "text/plain": [
       "2343"
      ]
     },
     "execution_count": 55,
     "metadata": {},
     "output_type": "execute_result"
    }
   ],
   "source": [
    "len(clauses_containing_adverbial_clauses)"
   ]
  },
  {
   "cell_type": "code",
   "execution_count": 56,
   "metadata": {},
   "outputs": [
    {
     "data": {
      "text/plain": [
       "['πρὶν',\n",
       " 'ἢ',\n",
       " 'συνελθεῖν',\n",
       " 'αὐτοὺς',\n",
       " 'εὑρέθη',\n",
       " 'ἐν',\n",
       " 'γαστρὶ',\n",
       " 'ἔχουσα',\n",
       " 'ἐκ',\n",
       " 'Πνεύματος',\n",
       " 'Ἁγίου.']"
      ]
     },
     "execution_count": 56,
     "metadata": {},
     "output_type": "execute_result"
    }
   ],
   "source": [
    "clauses_containing_adverbial_clauses[0].xpath('.//w/text()')"
   ]
  },
  {
   "cell_type": "markdown",
   "metadata": {},
   "source": [
    "A clause can also be the object of another clause:"
   ]
  },
  {
   "cell_type": "code",
   "execution_count": 57,
   "metadata": {
    "collapsed": true
   },
   "outputs": [],
   "source": [
    "object_clauses = tree.xpath('//wg[@role=\"o\" and @class=\"cl\"]')"
   ]
  },
  {
   "cell_type": "code",
   "execution_count": 58,
   "metadata": {},
   "outputs": [
    {
     "data": {
      "text/plain": [
       "1284"
      ]
     },
     "execution_count": 58,
     "metadata": {},
     "output_type": "execute_result"
    }
   ],
   "source": [
    "len(object_clauses)"
   ]
  },
  {
   "cell_type": "code",
   "execution_count": 59,
   "metadata": {},
   "outputs": [
    {
     "data": {
      "text/plain": [
       "['αὐτὴν', 'δειγματίσαι,']"
      ]
     },
     "execution_count": 59,
     "metadata": {},
     "output_type": "execute_result"
    }
   ],
   "source": [
    "object_clauses[1].xpath(\".//w/text()\")"
   ]
  },
  {
   "cell_type": "code",
   "execution_count": 60,
   "metadata": {
    "collapsed": true
   },
   "outputs": [],
   "source": [
    "clauses_containing_object_clauses = tree.xpath('//wg[@class=\"cl\" and wg[@role=\"o\" and @class=\"cl\"]]')"
   ]
  },
  {
   "cell_type": "code",
   "execution_count": 61,
   "metadata": {},
   "outputs": [
    {
     "data": {
      "text/plain": [
       "1284"
      ]
     },
     "execution_count": 61,
     "metadata": {},
     "output_type": "execute_result"
    }
   ],
   "source": [
    "len(clauses_containing_object_clauses)"
   ]
  },
  {
   "cell_type": "code",
   "execution_count": 62,
   "metadata": {},
   "outputs": [
    {
     "data": {
      "text/plain": [
       "['Ἰωσὴφ',\n",
       " 'ὁ',\n",
       " 'ἀνὴρ',\n",
       " 'αὐτῆς,',\n",
       " 'δίκαιος',\n",
       " 'ὢν',\n",
       " 'καὶ',\n",
       " 'μὴ',\n",
       " 'θέλων',\n",
       " 'αὐτὴν',\n",
       " 'δειγματίσαι,',\n",
       " 'ἐβουλήθη',\n",
       " 'λάθρᾳ',\n",
       " 'ἀπολῦσαι',\n",
       " 'αὐτήν.']"
      ]
     },
     "execution_count": 62,
     "metadata": {},
     "output_type": "execute_result"
    }
   ],
   "source": [
    "clauses_containing_object_clauses[1].xpath(\".//w/text()\")"
   ]
  },
  {
   "cell_type": "code",
   "execution_count": null,
   "metadata": {
    "collapsed": true
   },
   "outputs": [],
   "source": []
  }
 ],
 "metadata": {
  "kernelspec": {
   "display_name": "Python 3",
   "language": "python",
   "name": "python3"
  },
  "language_info": {
   "codemirror_mode": {
    "name": "ipython",
    "version": 3
   },
   "file_extension": ".py",
   "mimetype": "text/x-python",
   "name": "python",
   "nbconvert_exporter": "python",
   "pygments_lexer": "ipython3",
   "version": "3.6.3"
  }
 },
 "nbformat": 4,
 "nbformat_minor": 2
}

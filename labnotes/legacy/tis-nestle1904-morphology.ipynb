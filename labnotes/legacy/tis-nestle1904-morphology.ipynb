{
 "cells": [
  {
   "cell_type": "markdown",
   "metadata": {
    "toc": true
   },
   "source": [
    "<h1>Table of Contents<span class=\"tocSkip\"></span></h1>\n",
    "<div class=\"toc\" style=\"margin-top: 1em;\"><ul class=\"toc-item\"><li><span><a href=\"#@lemma='τὶς'-and-@type='interrogative'\" data-toc-modified-id=\"@lemma='τὶς'-and-@type='interrogative'-1\"><span class=\"toc-item-num\">1&nbsp;&nbsp;</span>@lemma='τὶς' and @type='interrogative'</a></span><ul class=\"toc-item\"><li><span><a href=\"#Acts-25:14\" data-toc-modified-id=\"Acts-25:14-1.1\"><span class=\"toc-item-num\">1.1&nbsp;&nbsp;</span>Acts 25:14</a></span></li><li><span><a href=\"#Romans-8:24\" data-toc-modified-id=\"Romans-8:24-1.2\"><span class=\"toc-item-num\">1.2&nbsp;&nbsp;</span>Romans 8:24</a></span></li><li><span><a href=\"#1-Cor-10:19\" data-toc-modified-id=\"1-Cor-10:19-1.3\"><span class=\"toc-item-num\">1.3&nbsp;&nbsp;</span>1 Cor 10:19</a></span></li><li><span><a href=\"#1-Pet-5:8\" data-toc-modified-id=\"1-Pet-5:8-1.4\"><span class=\"toc-item-num\">1.4&nbsp;&nbsp;</span>1 Pet 5:8</a></span></li></ul></li><li><span><a href=\"#@lemma='τίς'-and-@type='indefinite'\" data-toc-modified-id=\"@lemma='τίς'-and-@type='indefinite'-2\"><span class=\"toc-item-num\">2&nbsp;&nbsp;</span>@lemma='τίς' and @type='indefinite'</a></span><ul class=\"toc-item\"><li><span><a href=\"#Luke-19:15\" data-toc-modified-id=\"Luke-19:15-2.1\"><span class=\"toc-item-num\">2.1&nbsp;&nbsp;</span>Luke 19:15</a></span></li><li><span><a href=\"#Acts-25:26\" data-toc-modified-id=\"Acts-25:26-2.2\"><span class=\"toc-item-num\">2.2&nbsp;&nbsp;</span>Acts 25:26</a></span></li><li><span><a href=\"#Hebrews-3:16\" data-toc-modified-id=\"Hebrews-3:16-2.3\"><span class=\"toc-item-num\">2.3&nbsp;&nbsp;</span>Hebrews 3:16</a></span></li></ul></li><li><span><a href=\"#Comparison-to-Ulrik's-morphology\" data-toc-modified-id=\"Comparison-to-Ulrik's-morphology-3\"><span class=\"toc-item-num\">3&nbsp;&nbsp;</span>Comparison to Ulrik's morphology</a></span></li></ul></div>"
   ]
  },
  {
   "cell_type": "code",
   "execution_count": 1,
   "metadata": {},
   "outputs": [
    {
     "name": "stdout",
     "output_type": "stream",
     "text": [
      "Database 'nestle1904-morph' was opened in 1.28 ms.\n",
      "\n",
      "Database 'nestle1904lowfat' was opened in 4.37 ms.\n",
      "\n",
      "Database 'proiel-lowfat' was opened in 3.35 ms.\n",
      "\n"
     ]
    }
   ],
   "source": [
    "from greeksyntax.lowfat import *\n",
    "\n",
    "m = lowfat(\"nestle1904-morph\")\n",
    "q = lowfat(\"nestle1904lowfat\")\n",
    "p = lowfat(\"proiel-lowfat\")"
   ]
  },
  {
   "cell_type": "markdown",
   "metadata": {},
   "source": [
    "The Nestle 1904 Lowfat trees seem to be confused about τὶς / τὶς in interrogative and relative pronouns. This data illustrates the problem:"
   ]
  },
  {
   "cell_type": "code",
   "execution_count": 2,
   "metadata": {},
   "outputs": [
    {
     "data": {
      "text/html": [
       "<style type=\"text/css\">.highlight .hll { background-color: #ffffcc }\n",
       ".highlight  { background: #f8f8f8; }\n",
       ".highlight .c { color: #408080; font-style: italic } /* Comment */\n",
       ".highlight .err { border: 1px solid #FF0000 } /* Error */\n",
       ".highlight .k { color: #008000; font-weight: bold } /* Keyword */\n",
       ".highlight .o { color: #666666 } /* Operator */\n",
       ".highlight .ch { color: #408080; font-style: italic } /* Comment.Hashbang */\n",
       ".highlight .cm { color: #408080; font-style: italic } /* Comment.Multiline */\n",
       ".highlight .cp { color: #BC7A00 } /* Comment.Preproc */\n",
       ".highlight .cpf { color: #408080; font-style: italic } /* Comment.PreprocFile */\n",
       ".highlight .c1 { color: #408080; font-style: italic } /* Comment.Single */\n",
       ".highlight .cs { color: #408080; font-style: italic } /* Comment.Special */\n",
       ".highlight .gd { color: #A00000 } /* Generic.Deleted */\n",
       ".highlight .ge { font-style: italic } /* Generic.Emph */\n",
       ".highlight .gr { color: #FF0000 } /* Generic.Error */\n",
       ".highlight .gh { color: #000080; font-weight: bold } /* Generic.Heading */\n",
       ".highlight .gi { color: #00A000 } /* Generic.Inserted */\n",
       ".highlight .go { color: #888888 } /* Generic.Output */\n",
       ".highlight .gp { color: #000080; font-weight: bold } /* Generic.Prompt */\n",
       ".highlight .gs { font-weight: bold } /* Generic.Strong */\n",
       ".highlight .gu { color: #800080; font-weight: bold } /* Generic.Subheading */\n",
       ".highlight .gt { color: #0044DD } /* Generic.Traceback */\n",
       ".highlight .kc { color: #008000; font-weight: bold } /* Keyword.Constant */\n",
       ".highlight .kd { color: #008000; font-weight: bold } /* Keyword.Declaration */\n",
       ".highlight .kn { color: #008000; font-weight: bold } /* Keyword.Namespace */\n",
       ".highlight .kp { color: #008000 } /* Keyword.Pseudo */\n",
       ".highlight .kr { color: #008000; font-weight: bold } /* Keyword.Reserved */\n",
       ".highlight .kt { color: #B00040 } /* Keyword.Type */\n",
       ".highlight .m { color: #666666 } /* Literal.Number */\n",
       ".highlight .s { color: #BA2121 } /* Literal.String */\n",
       ".highlight .na { color: #7D9029 } /* Name.Attribute */\n",
       ".highlight .nb { color: #008000 } /* Name.Builtin */\n",
       ".highlight .nc { color: #0000FF; font-weight: bold } /* Name.Class */\n",
       ".highlight .no { color: #880000 } /* Name.Constant */\n",
       ".highlight .nd { color: #AA22FF } /* Name.Decorator */\n",
       ".highlight .ni { color: #999999; font-weight: bold } /* Name.Entity */\n",
       ".highlight .ne { color: #D2413A; font-weight: bold } /* Name.Exception */\n",
       ".highlight .nf { color: #0000FF } /* Name.Function */\n",
       ".highlight .nl { color: #A0A000 } /* Name.Label */\n",
       ".highlight .nn { color: #0000FF; font-weight: bold } /* Name.Namespace */\n",
       ".highlight .nt { color: #008000; font-weight: bold } /* Name.Tag */\n",
       ".highlight .nv { color: #19177C } /* Name.Variable */\n",
       ".highlight .ow { color: #AA22FF; font-weight: bold } /* Operator.Word */\n",
       ".highlight .w { color: #bbbbbb } /* Text.Whitespace */\n",
       ".highlight .mb { color: #666666 } /* Literal.Number.Bin */\n",
       ".highlight .mf { color: #666666 } /* Literal.Number.Float */\n",
       ".highlight .mh { color: #666666 } /* Literal.Number.Hex */\n",
       ".highlight .mi { color: #666666 } /* Literal.Number.Integer */\n",
       ".highlight .mo { color: #666666 } /* Literal.Number.Oct */\n",
       ".highlight .sa { color: #BA2121 } /* Literal.String.Affix */\n",
       ".highlight .sb { color: #BA2121 } /* Literal.String.Backtick */\n",
       ".highlight .sc { color: #BA2121 } /* Literal.String.Char */\n",
       ".highlight .dl { color: #BA2121 } /* Literal.String.Delimiter */\n",
       ".highlight .sd { color: #BA2121; font-style: italic } /* Literal.String.Doc */\n",
       ".highlight .s2 { color: #BA2121 } /* Literal.String.Double */\n",
       ".highlight .se { color: #BB6622; font-weight: bold } /* Literal.String.Escape */\n",
       ".highlight .sh { color: #BA2121 } /* Literal.String.Heredoc */\n",
       ".highlight .si { color: #BB6688; font-weight: bold } /* Literal.String.Interpol */\n",
       ".highlight .sx { color: #008000 } /* Literal.String.Other */\n",
       ".highlight .sr { color: #BB6688 } /* Literal.String.Regex */\n",
       ".highlight .s1 { color: #BA2121 } /* Literal.String.Single */\n",
       ".highlight .ss { color: #19177C } /* Literal.String.Symbol */\n",
       ".highlight .bp { color: #008000 } /* Name.Builtin.Pseudo */\n",
       ".highlight .fm { color: #0000FF } /* Name.Function.Magic */\n",
       ".highlight .vc { color: #19177C } /* Name.Variable.Class */\n",
       ".highlight .vg { color: #19177C } /* Name.Variable.Global */\n",
       ".highlight .vi { color: #19177C } /* Name.Variable.Instance */\n",
       ".highlight .vm { color: #19177C } /* Name.Variable.Magic */\n",
       ".highlight .il { color: #666666 } /* Literal.Number.Integer.Long */</style><div class=\"highlight\"><pre><span></span><span class=\"nt\">&lt;w</span> <span class=\"na\">xmlns:xi=</span><span class=\"s\">&quot;http://www.w3.org/2001/XInclude&quot;</span> <span class=\"na\">class=</span><span class=\"s\">&quot;pron&quot;</span> <span class=\"na\">type=</span><span class=\"s\">&quot;interrogative&quot;</span> <span class=\"na\">osisId=</span><span class=\"s\">&quot;Acts.25.14!18&quot;</span> <span class=\"na\">n=</span><span class=\"s\">&quot;440250140180010&quot;</span> <span class=\"na\">lemma=</span><span class=\"s\">&quot;τὶς&quot;</span> <span class=\"na\">normalized=</span><span class=\"s\">&quot;τίς&quot;</span> <span class=\"na\">strong=</span><span class=\"s\">&quot;5100&quot;</span> <span class=\"na\">number=</span><span class=\"s\">&quot;singular&quot;</span> <span class=\"na\">gender=</span><span class=\"s\">&quot;masculine&quot;</span> <span class=\"na\">case=</span><span class=\"s\">&quot;nominative&quot;</span> <span class=\"na\">gloss=</span><span class=\"s\">&quot;certain&quot;</span><span class=\"nt\">&gt;</span>τίς<span class=\"nt\">&lt;/w&gt;</span>\n",
       "<span class=\"nt\">&lt;w</span> <span class=\"na\">xmlns:xi=</span><span class=\"s\">&quot;http://www.w3.org/2001/XInclude&quot;</span> <span class=\"na\">role=</span><span class=\"s\">&quot;s&quot;</span> <span class=\"na\">class=</span><span class=\"s\">&quot;pron&quot;</span> <span class=\"na\">type=</span><span class=\"s\">&quot;interrogative&quot;</span> <span class=\"na\">osisId=</span><span class=\"s\">&quot;Rom.8.24!14&quot;</span> <span class=\"na\">n=</span><span class=\"s\">&quot;450080240140010&quot;</span> <span class=\"na\">lemma=</span><span class=\"s\">&quot;τὶς&quot;</span> <span class=\"na\">normalized=</span><span class=\"s\">&quot;τις&quot;</span> <span class=\"na\">strong=</span><span class=\"s\">&quot;5100&quot;</span> <span class=\"na\">number=</span><span class=\"s\">&quot;singular&quot;</span> <span class=\"na\">gender=</span><span class=\"s\">&quot;feminine&quot;</span> <span class=\"na\">case=</span><span class=\"s\">&quot;nominative&quot;</span> <span class=\"na\">gloss=</span><span class=\"s\">&quot;any&quot;</span><span class=\"nt\">&gt;</span>τις,<span class=\"nt\">&lt;/w&gt;</span>\n",
       "<span class=\"nt\">&lt;w</span> <span class=\"na\">xmlns:xi=</span><span class=\"s\">&quot;http://www.w3.org/2001/XInclude&quot;</span> <span class=\"na\">role=</span><span class=\"s\">&quot;p&quot;</span> <span class=\"na\">class=</span><span class=\"s\">&quot;pron&quot;</span> <span class=\"na\">type=</span><span class=\"s\">&quot;interrogative&quot;</span> <span class=\"na\">osisId=</span><span class=\"s\">&quot;1Cor.10.19!6&quot;</span> <span class=\"na\">n=</span><span class=\"s\">&quot;460100190060010&quot;</span> <span class=\"na\">lemma=</span><span class=\"s\">&quot;τὶς&quot;</span> <span class=\"na\">normalized=</span><span class=\"s\">&quot;τί&quot;</span> <span class=\"na\">strong=</span><span class=\"s\">&quot;5100&quot;</span> <span class=\"na\">number=</span><span class=\"s\">&quot;singular&quot;</span> <span class=\"na\">gender=</span><span class=\"s\">&quot;neuter&quot;</span> <span class=\"na\">case=</span><span class=\"s\">&quot;nominative&quot;</span> <span class=\"na\">head=</span><span class=\"s\">&quot;true&quot;</span> <span class=\"na\">gloss=</span><span class=\"s\">&quot;anything&quot;</span><span class=\"nt\">&gt;</span>τί<span class=\"nt\">&lt;/w&gt;</span>\n",
       "<span class=\"nt\">&lt;w</span> <span class=\"na\">xmlns:xi=</span><span class=\"s\">&quot;http://www.w3.org/2001/XInclude&quot;</span> <span class=\"na\">role=</span><span class=\"s\">&quot;o&quot;</span> <span class=\"na\">class=</span><span class=\"s\">&quot;pron&quot;</span> <span class=\"na\">type=</span><span class=\"s\">&quot;interrogative&quot;</span> <span class=\"na\">osisId=</span><span class=\"s\">&quot;1Pet.5.8!12&quot;</span> <span class=\"na\">n=</span><span class=\"s\">&quot;600050080120010&quot;</span> <span class=\"na\">lemma=</span><span class=\"s\">&quot;τὶς&quot;</span> <span class=\"na\">normalized=</span><span class=\"s\">&quot;τινα&quot;</span> <span class=\"na\">strong=</span><span class=\"s\">&quot;5100&quot;</span> <span class=\"na\">number=</span><span class=\"s\">&quot;singular&quot;</span> <span class=\"na\">gender=</span><span class=\"s\">&quot;masculine&quot;</span> <span class=\"na\">case=</span><span class=\"s\">&quot;accusative&quot;</span> <span class=\"na\">gloss=</span><span class=\"s\">&quot;whom&quot;</span><span class=\"nt\">&gt;</span>τινα<span class=\"nt\">&lt;/w&gt;</span>\n",
       "</pre></div>\n"
      ],
      "text/plain": [
       "<IPython.core.display.HTML object>"
      ]
     },
     "metadata": {},
     "output_type": "display_data"
    }
   ],
   "source": [
    "query = \"//w[@lemma='τὶς' and @type='interrogative']\"\n",
    "pretty(q.xquery(query))"
   ]
  },
  {
   "cell_type": "markdown",
   "metadata": {},
   "source": [
    "τίς is the lemma for the interrogative pronoun. τὶς is the lemma for the indefinite pronoun."
   ]
  },
  {
   "cell_type": "markdown",
   "metadata": {},
   "source": [
    "Let's look at 4 cases. The first two are expected and good."
   ]
  },
  {
   "cell_type": "code",
   "execution_count": 3,
   "metadata": {},
   "outputs": [
    {
     "data": {
      "text/html": [
       "553"
      ],
      "text/plain": [
       "<IPython.core.display.HTML object>"
      ]
     },
     "metadata": {},
     "output_type": "display_data"
    }
   ],
   "source": [
    "query = \"//w[@lemma='τίς' and @type='interrogative']\"\n",
    "q.count(query)"
   ]
  },
  {
   "cell_type": "code",
   "execution_count": 4,
   "metadata": {},
   "outputs": [
    {
     "data": {
      "text/html": [
       "525"
      ],
      "text/plain": [
       "<IPython.core.display.HTML object>"
      ]
     },
     "metadata": {},
     "output_type": "display_data"
    }
   ],
   "source": [
    "query = \"//w[@lemma='τὶς' and @type='indefinite']\"\n",
    "q.count(query)"
   ]
  },
  {
   "cell_type": "markdown",
   "metadata": {},
   "source": [
    "The next two queries seem to highlight mistakes in the analysis."
   ]
  },
  {
   "cell_type": "markdown",
   "metadata": {},
   "source": [
    "# @lemma='τὶς' and @type='interrogative'"
   ]
  },
  {
   "cell_type": "code",
   "execution_count": 5,
   "metadata": {},
   "outputs": [
    {
     "data": {
      "text/html": [
       "4"
      ],
      "text/plain": [
       "<IPython.core.display.HTML object>"
      ]
     },
     "metadata": {},
     "output_type": "display_data"
    }
   ],
   "source": [
    "query = \"//w[@lemma='τὶς' and @type='interrogative']\"\n",
    "q.count(query)"
   ]
  },
  {
   "cell_type": "code",
   "execution_count": 6,
   "metadata": {},
   "outputs": [
    {
     "data": {
      "text/html": [
       "<p>\n",
       "  <b>Acts.25.14 Acts.25.15 Acts.25.16</b>\n",
       "  <span title=\"conj :  ὡς  -  As\">ὡς</span>\n",
       "  <span title=\"conj :  δέ  -  now\">δὲ</span>\n",
       "  <span title=\"adj :  πολύς plural feminine accusative  -  many\">πλείους</span>\n",
       "  <span title=\"noun :  ἡμέρα plural feminine accusative  -  days\">ἡμέρας</span>\n",
       "  <span title=\"verb :  διατρίβω plural imperfect active indicative  -  they stayed\">διέτριβον</span>\n",
       "  <span title=\"adv :  ἐκεῖ  -  there\">ἐκεῖ,</span>\n",
       "  <span title=\"det :  ὁ singular masculine nominative  -  -\">ὁ</span>\n",
       "  <span title=\"noun :  Φῆστος singular masculine nominative  -  Festus\">Φῆστος</span>\n",
       "  <span title=\"det :  ὁ singular masculine dative  -  the\">τῷ</span>\n",
       "  <span title=\"noun :  βασιλεύς singular masculine dative  -  king\">βασιλεῖ</span>\n",
       "  <span title=\"verb :  ἀνατίθημι singular aorist middle indicative  -  laid before\">ἀνέθετο</span>\n",
       "  <span title=\"det :  ὁ plural neuter accusative  -  the things\">τὰ</span>\n",
       "  <span title=\"prep :  κατά  -  relating to\">κατὰ</span>\n",
       "  <span title=\"det :  ὁ singular masculine accusative  -  -\">τὸν</span>\n",
       "  <span title=\"noun :  Παῦλος singular masculine accusative  -  Paul\">Παῦλον</span>\n",
       "  <span title=\"verb :  λέγω singular masculine nominative present active participle  -  saying\">λέγων</span>\n",
       "  <span title=\"noun :  ἀνήρ singular masculine nominative  -  A man\">Ἀνήρ</span>\n",
       "  <span style=\"color:red\" title=\"pron :  τὶς singular masculine nominative  -  certain\">τίς</span>\n",
       "  <span title=\"verb :  εἰμί singular present active indicative  -  there is\">ἐστιν</span>\n",
       "  <span title=\"verb :  καταλείπω singular masculine nominative perfect passive participle  -  left\">καταλελειμμένος</span>\n",
       "  <span title=\"prep :  ὑπό  -  by\">ὑπὸ</span>\n",
       "  <span title=\"noun :  Φῆλιξ singular masculine genitive  -  Felix\">Φήλικος</span>\n",
       "  <span title=\"noun :  δέσμιος singular masculine nominative  -  [as] a prisoner\">δέσμιος,</span>\n",
       "  <span title=\"prep :  περί  -  concerning\">περὶ</span>\n",
       "  <span title=\"pron :  ὅς singular masculine genitive  -  whom\">οὗ</span>\n",
       "  <span title=\"verb :  γίνομαι singular masculine genitive aorist middle participle  -  having been\">γενομένου</span>\n",
       "  <span title=\"pron :  ἐγώ singular genitive  -  my\">μου</span>\n",
       "  <span title=\"prep :  εἰς  -  in\">εἰς</span>\n",
       "  <span title=\"noun :  Ἱεροσόλυμα plural neuter accusative  -  Jerusalem\">Ἱεροσόλυμα</span>\n",
       "  <span title=\"verb :  ἐμφανίζω plural aorist active indicative  -  made a presentation\">ἐνεφάνισαν</span>\n",
       "  <span title=\"det :  ὁ plural masculine nominative  -  the\">οἱ</span>\n",
       "  <span title=\"noun :  ἀρχιερεύς plural masculine nominative  -  chief priests\">ἀρχιερεῖς</span>\n",
       "  <span title=\"conj :  καί  -  and\">καὶ</span>\n",
       "  <span title=\"det :  ὁ plural masculine nominative  -  the\">οἱ</span>\n",
       "  <span title=\"adj :  πρεσβύτερος plural masculine nominative  -  elders\">πρεσβύτεροι</span>\n",
       "  <span title=\"det :  ὁ plural masculine genitive  -  of the\">τῶν</span>\n",
       "  <span title=\"adj :  Ἰουδαῖος plural masculine genitive  -  Jews\">Ἰουδαίων,</span>\n",
       "  <span title=\"verb :  αἰτέω plural masculine nominative present middle participle  -  asking\">αἰτούμενοι</span>\n",
       "  <span title=\"prep :  κατά  -  against\">κατ’</span>\n",
       "  <span title=\"pron :  αὐτός singular masculine genitive  -  him\">αὐτοῦ</span>\n",
       "  <span title=\"noun :  καταδίκη singular feminine accusative  -  judgment\">καταδίκην·</span>\n",
       "  <span title=\"prep :  πρός  -  to\">πρὸς</span>\n",
       "  <span title=\"pron :  ὅς plural masculine accusative  -  whom\">οὓς</span>\n",
       "  <span title=\"verb :  ἀποκρίνομαι singular aorist middle indicative  -  I answered\">ἀπεκρίθην</span>\n",
       "  <span title=\"conj :  ὅτι  -  that\">ὅτι</span>\n",
       "  <span title=\"adv :  οὐ  -  not\">οὐκ</span>\n",
       "  <span title=\"verb :  εἰμί singular present active indicative  -  it is\">ἔστιν</span>\n",
       "  <span title=\"noun :  ἔθος singular neuter nominative  -  [the] custom\">ἔθος</span>\n",
       "  <span title=\"adj :  Ῥωμαῖος plural masculine dative  -  with Romans\">Ῥωμαίοις</span>\n",
       "  <span title=\"verb :  χαρίζομαι present middlepassive infinitive  -  to give up\">χαρίζεσθαί</span>\n",
       "  <span title=\"pron :  τὶς singular masculine accusative  -  any\">τινα</span>\n",
       "  <span title=\"noun :  ἄνθρωπος singular masculine accusative  -  man\">ἄνθρωπον</span>\n",
       "  <span title=\"conj :  πρίν  -  before\">πρὶν</span>\n",
       "  <span title=\"conj :  ἤ  -  that\">ἢ</span>\n",
       "  <span title=\"det :  ὁ singular masculine nominative  -  the [one]\">ὁ</span>\n",
       "  <span title=\"verb :  κατηγορέω singular masculine nominative present passive participle  -  being accused\">κατηγορούμενος</span>\n",
       "  <span title=\"prep :  κατά  -  to\">κατὰ</span>\n",
       "  <span title=\"noun :  πρόσωπον singular neuter accusative  -  face\">πρόσωπον</span>\n",
       "  <span title=\"verb :  ἔχω singular present active optative  -  may have [it]\">ἔχοι</span>\n",
       "  <span title=\"det :  ὁ plural masculine accusative  -  the\">τοὺς</span>\n",
       "  <span title=\"noun :  κατήγορος plural masculine accusative  -  accusers\">κατηγόρους</span>\n",
       "  <span title=\"noun :  τόπος singular masculine accusative  -  [the] opportunity\">τόπον</span>\n",
       "  <span title=\"conj :  τέ  -  and\">τε</span>\n",
       "  <span title=\"noun :  ἀπολογία singular feminine genitive  -  of defense\">ἀπολογίας</span>\n",
       "  <span title=\"verb :  λαμβάνω singular aorist active optative  -  he may have\">λάβοι</span>\n",
       "  <span title=\"prep :  περί  -  concerning\">περὶ</span>\n",
       "  <span title=\"det :  ὁ singular neuter genitive  -  the\">τοῦ</span>\n",
       "  <span title=\"noun :  ἔγκλημα singular neuter genitive  -  accusation\">ἐγκλήματος.</span>\n",
       "</p>\n",
       "<p>\n",
       "  <b>Rom.8.24</b>\n",
       "  <span title=\"pron :  ὅς singular neuter accusative  -  what\">ὃ</span>\n",
       "  <span title=\"conj :  γάρ  -  for\">γὰρ</span>\n",
       "  <span title=\"verb :  βλέπω singular present active indicative  -  sees\">βλέπει</span>\n",
       "  <span style=\"color:red\" title=\"pron :  τὶς singular feminine nominative  -  any\">τις,</span>\n",
       "  <span title=\"pron :  τίς singular neuter accusative  -  one\">τί</span>\n",
       "  <span title=\"verb :  ἐλπίζω singular present active indicative  -  does he hope for\">ἐλπίζει;</span>\n",
       "</p>\n",
       "<p>\n",
       "  <b>1Cor.10.19</b>\n",
       "  <span title=\"conj :  ὅτι  -  That\">ὅτι</span>\n",
       "  <span title=\"adj :  εἰδωλόθυτος singular neuter nominative  -  what is sacrificed to an idol\">εἰδωλόθυτόν</span>\n",
       "  <span style=\"color:red\" title=\"pron :  τὶς singular neuter nominative  -  anything\">τί</span>\n",
       "  <span title=\"verb :  εἰμί singular present active indicative  -  is\">ἐστιν;</span>\n",
       "  <span title=\"conj :  ἤ  -  or\">ἢ</span>\n",
       "  <span title=\"conj :  ὅτι  -  that\">ὅτι</span>\n",
       "  <span title=\"noun :  εἴδωλον singular neuter nominative  -  an idol\">εἴδωλόν</span>\n",
       "  <span title=\"pron :  τὶς singular neuter nominative  -  anything\">τί</span>\n",
       "  <span title=\"verb :  εἰμί singular present active indicative  -  is\">ἐστιν;</span>\n",
       "</p>\n",
       "<p>\n",
       "  <b>1Pet.5.8 1Pet.5.9</b>\n",
       "  <span title=\"det :  ὁ singular masculine nominative  -  The\">ὁ</span>\n",
       "  <span title=\"noun :  ἀντίδικος singular masculine nominative  -  adversary\">ἀντίδικος</span>\n",
       "  <span title=\"pron :  σύ plural genitive  -  of You\">ὑμῶν</span>\n",
       "  <span title=\"adj :  διάβολος singular masculine nominative  -  [the] devil\">διάβολος</span>\n",
       "  <span title=\"conj :  ὡς  -  as\">ὡς</span>\n",
       "  <span title=\"noun :  λέων singular masculine nominative  -  a lion\">λέων</span>\n",
       "  <span title=\"verb :  ὠρύομαι singular masculine nominative present middlepassive participle  -  roaring\">ὠρυόμενος</span>\n",
       "  <span title=\"verb :  περιπατέω singular present active indicative  -  prowls about\">περιπατεῖ</span>\n",
       "  <span title=\"verb :  ζητέω singular masculine nominative present active participle  -  seeking\">ζητῶν</span>\n",
       "  <span style=\"color:red\" title=\"pron :  τὶς singular masculine accusative  -  whom\">τινα</span>\n",
       "  <span title=\"verb :  καταπίνω aorist active infinitive  -  to devour\">καταπιεῖν·</span>\n",
       "  <span title=\"pron :  ὅς singular masculine dative  -  whom\">ᾧ</span>\n",
       "  <span title=\"verb :  ἀνθίστημι plural aorist active imperative  -  you should resist\">ἀντίστητε</span>\n",
       "  <span title=\"adj :  στερεός plural masculine nominative  -  firm\">στερεοὶ</span>\n",
       "  <span title=\"det :  ὁ singular feminine dative  -  in the\">τῇ</span>\n",
       "  <span title=\"noun :  πίστις singular feminine dative  -  faith\">πίστει,</span>\n",
       "  <span title=\"verb :  οἶδα plural masculine nominative perfect active participle  -  knowing\">εἰδότες</span>\n",
       "  <span title=\"det :  ὁ plural neuter accusative  -  the\">τὰ</span>\n",
       "  <span title=\"pron :  αὐτός plural neuter accusative  -  same\">αὐτὰ</span>\n",
       "  <span title=\"det :  ὁ plural neuter genitive  -  -\">τῶν</span>\n",
       "  <span title=\"noun :  πάθημα plural neuter genitive  -  sufferings\">παθημάτων</span>\n",
       "  <span title=\"det :  ὁ singular feminine dative  -  -\">τῇ</span>\n",
       "  <span title=\"prep :  ἐν  -  throughout\">ἐν</span>\n",
       "  <span title=\"det :  ὁ singular masculine dative  -  the\">τῷ</span>\n",
       "  <span title=\"noun :  κόσμος singular masculine dative  -  world\">κόσμῳ</span>\n",
       "  <span title=\"pron :  σύ plural genitive  -  in your\">ὑμῶν</span>\n",
       "  <span title=\"noun :  ἀδελφότης singular feminine dative  -  brotherhood\">ἀδελφότητι</span>\n",
       "  <span title=\"verb :  ἐπιτελέω present passive infinitive  -  to be accomplished\">ἐπιτελεῖσθαι.</span>\n",
       "</p>"
      ],
      "text/plain": [
       "<IPython.core.display.HTML object>"
      ]
     },
     "metadata": {},
     "output_type": "display_data"
    }
   ],
   "source": [
    "q.highlight(query)"
   ]
  },
  {
   "cell_type": "markdown",
   "metadata": {},
   "source": [
    "## Acts 25:14"
   ]
  },
  {
   "cell_type": "markdown",
   "metadata": {},
   "source": [
    "In Acts 25:14, the pronoun should be indefinite, not interrogative.\n",
    "\n",
    "```\n",
    "                              <w class=\"pron\"\n",
    "-                                 type=\"interrogative\"\n",
    "+                                 type=\"indefinite\"\n",
    "                                  osisId=\"Acts.25.14!18\"\n",
    "                                  n=\"440250140180010\"\n",
    "                                  lemma=\"τὶς\"```"
   ]
  },
  {
   "cell_type": "markdown",
   "metadata": {},
   "source": [
    "## Romans 8:24"
   ]
  },
  {
   "cell_type": "markdown",
   "metadata": {},
   "source": [
    "In Romans 8:24 the pronoun should be indefinite, not interrogative.\n",
    "\n",
    "```\n",
    "                      <w role=\"s\"\n",
    "                         class=\"pron\"\n",
    "-                        type=\"interrogative\"\n",
    "+                        type=\"indefinite\"\n",
    "                         osisId=\"Rom.8.24!14\"\n",
    "                         n=\"450080240140010\"\n",
    "                         lemma=\"τὶς\"```"
   ]
  },
  {
   "cell_type": "markdown",
   "metadata": {},
   "source": [
    "## 1 Cor 10:19"
   ]
  },
  {
   "cell_type": "markdown",
   "metadata": {},
   "source": [
    "In 1 Cor 10:19, the analysis is correct but the wrong lemma was chosen.\n",
    "\n",
    "```\n",
    "                      type=\"interrogative\"\n",
    "                      osisId=\"1Cor.10.19!6\"\n",
    "                      n=\"460100190060010\"\n",
    "-                     lemma=\"τὶς\"\n",
    "+                     lemma=\"τίς\"\n",
    "                      normalized=\"τί\"\n",
    "                      strong=\"5100\"\n",
    "                      number=\"singular\"```"
   ]
  },
  {
   "cell_type": "markdown",
   "metadata": {},
   "source": [
    "## 1 Pet 5:8"
   ]
  },
  {
   "cell_type": "markdown",
   "metadata": {},
   "source": [
    "In 1 Peter 5:8, the pronoun should be treated as an indefinite, not an interrogative.\n",
    "\n",
    "```\n",
    "                   <wg role=\"o\" class=\"cl\" n=\"600050080120020\" rule=\"O-V\">\n",
    "                      <w role=\"o\"\n",
    "                         class=\"pron\"\n",
    "-                        type=\"interrogative\"\n",
    "+                        type=\"indefinite\"\n",
    "                         osisId=\"1Pet.5.8!12\"\n",
    "                         n=\"600050080120010\"\n",
    "                         lemma=\"τὶς\"```"
   ]
  },
  {
   "cell_type": "markdown",
   "metadata": {},
   "source": [
    "# @lemma='τίς' and @type='indefinite'"
   ]
  },
  {
   "cell_type": "code",
   "execution_count": 7,
   "metadata": {},
   "outputs": [
    {
     "data": {
      "text/html": [
       "3"
      ],
      "text/plain": [
       "<IPython.core.display.HTML object>"
      ]
     },
     "metadata": {},
     "output_type": "display_data"
    }
   ],
   "source": [
    "query = \"//w[@lemma='τίς' and @type='indefinite']\"\n",
    "q.count(query)"
   ]
  },
  {
   "cell_type": "code",
   "execution_count": 8,
   "metadata": {},
   "outputs": [
    {
     "data": {
      "text/html": [
       "<p>\n",
       "  <b>Luke.19.15</b>\n",
       "  <span title=\"conj :  καί  -  And\">καὶ</span>\n",
       "  <span title=\"verb :  γίνομαι singular aorist middle indicative  -  it came to pass\">ἐγένετο</span>\n",
       "  <span title=\"prep :  ἐν  -  on\">ἐν</span>\n",
       "  <span title=\"det :  ὁ singular neuter dative  -  the\">τῷ</span>\n",
       "  <span title=\"verb :  ἐπανέρχομαι aorist active infinitive  -  returning\">ἐπανελθεῖν</span>\n",
       "  <span title=\"pron :  αὐτός singular masculine accusative  -  of him\">αὐτὸν</span>\n",
       "  <span title=\"verb :  λαμβάνω singular masculine accusative aorist active participle  -  having received\">λαβόντα</span>\n",
       "  <span title=\"det :  ὁ singular feminine accusative  -  the\">τὴν</span>\n",
       "  <span title=\"noun :  βασιλεία singular feminine accusative  -  kingdom\">βασιλείαν</span>\n",
       "  <span title=\"conj :  καί  -  that\">καὶ</span>\n",
       "  <span title=\"verb :  λέγω singular aorist active indicative  -  he directed\">εἶπεν</span>\n",
       "  <span title=\"verb :  φωνέω aorist passive infinitive  -  to be called\">φωνηθῆναι</span>\n",
       "  <span title=\"pron :  αὐτός singular masculine dative  -  to him\">αὐτῷ</span>\n",
       "  <span title=\"det :  ὁ plural masculine accusative  -  the\">τοὺς</span>\n",
       "  <span title=\"noun :  δοῦλος (II) plural masculine accusative  -  servants\">δούλους</span>\n",
       "  <span title=\"pron :  οὗτος plural masculine accusative  -  these\">τούτους</span>\n",
       "  <span title=\"pron :  ὅς plural masculine dative  -  to whom\">οἷς</span>\n",
       "  <span title=\"verb :  δίδωμι singular pluperfect active indicative  -  he had given\">δεδώκει</span>\n",
       "  <span title=\"det :  ὁ singular neuter accusative  -  the\">τὸ</span>\n",
       "  <span title=\"noun :  ἀργύριον singular neuter accusative  -  money\">ἀργύριον,</span>\n",
       "  <span title=\"conj :  ἵνα  -  in order that\">ἵνα</span>\n",
       "  <span title=\"verb :  γινώσκω singular aorist active subjunctive  -  he might know\">γνοῖ</span>\n",
       "  <span style=\"color:red\" title=\"pron :  τίς singular masculine nominative  -  each\">τίς</span>\n",
       "  <span title=\"pron :  τίς singular neuter accusative  -  what\">τί</span>\n",
       "  <span title=\"verb :  διαπραγματεύομαι singular aorist middle indicative  -  had gained by trading\">διεπραγματεύσατο.</span>\n",
       "</p>\n",
       "<p>\n",
       "  <b>Acts.25.26</b>\n",
       "  <span title=\"conj :  διό  -  Therefore\">διὸ</span>\n",
       "  <span title=\"verb :  προάγω singular aorist active indicative  -  I have brought\">προήγαγον</span>\n",
       "  <span title=\"pron :  αὐτός singular masculine accusative  -  him\">αὐτὸν</span>\n",
       "  <span title=\"prep :  ἐπί  -  before\">ἐφ’</span>\n",
       "  <span title=\"pron :  σύ plural genitive  -  you all\">ὑμῶν</span>\n",
       "  <span title=\"conj :  καί  -  and\">καὶ</span>\n",
       "  <span title=\"adv :  μάλιστα  -  especially\">μάλιστα</span>\n",
       "  <span title=\"prep :  ἐπί  -  before\">ἐπὶ</span>\n",
       "  <span title=\"pron :  σύ singular genitive  -  you\">σοῦ,</span>\n",
       "  <span title=\"noun :  βασιλεύς singular masculine vocative  -  King\">βασιλεῦ</span>\n",
       "  <span title=\"noun :  Ἀγρίππας singular masculine vocative  -  Agrippa\">Ἀγρίππα,</span>\n",
       "  <span title=\"conj :  ὅπως  -  so that\">ὅπως</span>\n",
       "  <span title=\"det :  ὁ singular feminine genitive  -  the\">τῆς</span>\n",
       "  <span title=\"noun :  ἀνάκρισις singular feminine genitive  -  examination\">ἀνακρίσεως</span>\n",
       "  <span title=\"verb :  γίνομαι singular feminine genitive aorist middle participle  -  having taken place\">γενομένης</span>\n",
       "  <span title=\"verb :  ἔχω singular aorist active subjunctive  -  I might have\">σχῶ</span>\n",
       "  <span style=\"color:red\" title=\"pron :  τίς singular neuter accusative  -  something\">τί</span>\n",
       "  <span title=\"verb :  γράφω singular aorist active subjunctive  -  to write\">γράψω·</span>\n",
       "</p>\n",
       "<p>\n",
       "  <b>Heb.3.16</b>\n",
       "  <span style=\"color:red\" title=\"pron :  τίς plural masculine nominative  -  Who\">τίνες</span>\n",
       "  <span title=\"conj :  γάρ  -  for\">γὰρ</span>\n",
       "  <span title=\"verb :  ἀκούω plural masculine nominative aorist active participle  -  [were those] having heard\">ἀκούσαντες</span>\n",
       "  <span title=\"verb :  παραπικραίνω plural aorist active indicative  -  rebelled\">παρεπίκραναν;</span>\n",
       "</p>"
      ],
      "text/plain": [
       "<IPython.core.display.HTML object>"
      ]
     },
     "metadata": {},
     "output_type": "display_data"
    }
   ],
   "source": [
    "q.highlight(query)"
   ]
  },
  {
   "cell_type": "markdown",
   "metadata": {},
   "source": [
    "## Luke 19:15"
   ]
  },
  {
   "cell_type": "markdown",
   "metadata": {},
   "source": [
    "For Luke 19:15, I disagree with the syntactic analysis. "
   ]
  },
  {
   "cell_type": "code",
   "execution_count": 9,
   "metadata": {},
   "outputs": [
    {
     "data": {
      "text/html": [
       "<style type=\"text/css\">wg[class=header] {\n",
       "    display: block;\n",
       "    position: fixed;\n",
       "    width=6em;\n",
       "    top: 5px;\n",
       "    left: 15px;\n",
       "    background-color: white;\n",
       "    opacity: 1;\n",
       "    overflow: scroll;\n",
       "}\n",
       "\n",
       "milestone {\n",
       "    color: blue;\n",
       "    display: block;\n",
       "    padding-right: 6px;\n",
       "}\n",
       "\n",
       "p {\n",
       "    margin-top: 1em;\n",
       "    margin-bottom: 1em;\n",
       "}\n",
       "\n",
       "div[class=book]  {\n",
       "  margin-top: 1in;\n",
       "  margin-left: 1in;\n",
       "  margin-bottom: 1in;\n",
       "  line-height: 1.2;\n",
       "  background-color: white;\n",
       "  opacity: 1;\n",
       "}\n",
       "\n",
       "book, passage,root {\n",
       "  line-height: 1.5;\n",
       "  margin-left: 5em;\n",
       "  margin-right: 10em;\n",
       "  /* background: linen; */\n",
       "}\n",
       "\n",
       "\n",
       "\n",
       "/* WGs */\n",
       "\n",
       "wg[class=sentence] {\n",
       "}\n",
       "\n",
       "wg[class=sentence] wg[class=cl]::before {\n",
       "  content: \"\";\n",
       "}\n",
       "\n",
       "wg[class=cl] {\n",
       "  /*\n",
       "    The nub of the spacing problem:\n",
       "\n",
       "    You really want spacing down to the last role before a word.\n",
       "    After that, you really don't want it.  Is there some way to\n",
       "    have it both ways with .css?\n",
       "  */\n",
       "\n",
       "  padding-top: 0.25em;\n",
       "  padding-bottom: 0.25em;\n",
       "  padding-left: 1em;\n",
       "  display: block;\n",
       "}\n",
       "\n",
       "*[role] ~ *::before {\n",
       "  color: cadetblue;\n",
       "  content: \"+\";\n",
       "  size: small;\n",
       "}\n",
       "\n",
       "wg[role]::before {\n",
       "  color: cadetblue;\n",
       "  content: attr(role);\n",
       "  size: small;\n",
       "}\n",
       "\n",
       "/* If wg[role] is indented, w[role] must be indented the same amount. */\n",
       "wg[role] {\n",
       "    position: relative;\n",
       "    display: block;\n",
       "    padding-left: 1em;\n",
       "}\n",
       "\n",
       "/* Words */\n",
       "\n",
       "w[role=v][mood=participle]::before {\n",
       "  color: cadetblue;\n",
       "  content: \"v.part \";\n",
       "  size: small;\n",
       "}\n",
       "\n",
       "w[role=v][mood=infinitive]::before {\n",
       "  color: cadetblue;\n",
       "  content: \"v.inf \";\n",
       "  size: small;\n",
       "}\n",
       "\n",
       "w[role]::before {\n",
       "  color: cadetblue;\n",
       "  content: attr(role) \" \";\n",
       "  size: small;\n",
       "}\n",
       "\n",
       "w[discontinuous]::after {\n",
       "  content: \"*\";\n",
       "  vertical-align: super;\n",
       "  color: cadetblue;\n",
       "  size: x-small;\n",
       "}\n",
       "\n",
       "/* If you indent this, indent wg[role] and w[case=vocative] by the same amount. */\n",
       "w[role] {\n",
       "    position: relative;\n",
       "    display: block;\n",
       "    padding-left: 1em;\n",
       "}\n",
       "\n",
       "/* -----  Experimental stuff goes here -------- */\n",
       "/* boxwood.css */\n",
       "\n",
       "wg[class=cl] {\n",
       "  /* \n",
       "    The nub of the spacing problem: \n",
       "  \n",
       "    You really want spacing down to the last role before a word.\n",
       "    After that, you really don't want it.  Is there some way to\n",
       "    have it both ways with .css?\n",
       "  */\n",
       "  /*\n",
       "  position: relative;\n",
       "  display: block; \n",
       "  */\n",
       "  padding-top: 0.25em;\n",
       "  padding-bottom: 0.25em;\n",
       "  padding-left: 1em;\n",
       "  display: block;\n",
       "\n",
       "  border-left: 1px inset lightgrey;\n",
       "  border-top: 1px inset lightgrey;\n",
       "  border-bottom: 1px inset lightgrey; \n",
       "}\n",
       "\n",
       "/* ### Labels and positioning for clauses with roles ### */\n",
       "\n",
       "wg[class=cl][role]::before {\n",
       "/*  position: absolute;\n",
       "  right: 100%; top: 0;\n",
       "  width: 1em; */\n",
       "}\n",
       "\n",
       "wg[class=cl][role] {\n",
       "  padding-left: 2em;\n",
       "}\n",
       "\n",
       "\n",
       "sentence>wg[class=\"cl\"] {\n",
       "  border-left: none;\n",
       "  border-top: none;\n",
       "  border-bottom: none;   \n",
       "}\n",
       "</style><sentence xmlns:xi=\"http://www.w3.org/2001/XInclude\">\n",
       "  <p>\n",
       "    <milestone unit=\"verse\" id=\"Luke.19.15\">Luke.19.15</milestone>καὶ ἐγένετο ἐν τῷ ἐπανελθεῖν αὐτὸν λαβόντα τὴν βασιλείαν καὶ εἶπεν φωνηθῆναι αὐτῷ τοὺς δούλους τούτους οἷς δεδώκει τὸ ἀργύριον, ἵνα γνοῖ τίς τί διεπραγματεύσατο.</p>\n",
       "  <wg role=\"cl\">\n",
       "    <wg class=\"cl\" n=\"420190150010250\" rule=\"Conj-CL\">\n",
       "      <w class=\"conj\" osisId=\"Luke.19.15!1\" n=\"420190150010010\" lemma=\"καί\" normalized=\"καί\" strong=\"2532\" gloss=\"And\">καὶ</w>\n",
       "      <wg class=\"cl\" n=\"420190150020240\" rule=\"CLandCL2\">\n",
       "        <wg class=\"cl\" n=\"420190150020080\" rule=\"V-ADV\">\n",
       "          <w role=\"v\" class=\"verb\" osisId=\"Luke.19.15!2\" n=\"420190150020010\" lemma=\"γίνομαι\" normalized=\"ἐγένετο\" strong=\"1096\" number=\"singular\" person=\"third\" tense=\"aorist\" voice=\"middle\" mood=\"indicative\" head=\"true\" gloss=\"it came to pass\">ἐγένετο</w>\n",
       "          <wg role=\"adv\" class=\"pp\" n=\"420190150030070\" articular=\"true\" rule=\"PrepNp\">\n",
       "            <w class=\"prep\" osisId=\"Luke.19.15!3\" n=\"420190150030010\" lemma=\"ἐν\" normalized=\"ἐν\" strong=\"1722\" gloss=\"on\">ἐν</w>\n",
       "            <wg class=\"np\" n=\"420190150040060\" articular=\"true\" head=\"true\" rule=\"DetCL\">\n",
       "              <w class=\"det\" osisId=\"Luke.19.15!4\" n=\"420190150040010\" lemma=\"ὁ\" normalized=\"τῷ\" strong=\"3588\" number=\"singular\" gender=\"neuter\" case=\"dative\" gloss=\"the\">τῷ</w>\n",
       "              <wg class=\"cl\" n=\"420190150050050\" head=\"true\" rule=\"V-S-ADV\">\n",
       "                <w role=\"v\" class=\"verb\" osisId=\"Luke.19.15!5\" n=\"420190150050010\" lemma=\"ἐπανέρχομαι\" normalized=\"ἐπανελθεῖν\" strong=\"1880\" tense=\"aorist\" voice=\"active\" mood=\"infinitive\" type=\"?\" head=\"true\" gloss=\"returning\">ἐπανελθεῖν</w>\n",
       "                <w role=\"s\" class=\"pron\" type=\"personal\" osisId=\"Luke.19.15!6\" n=\"420190150060010\" lemma=\"αὐτός\" normalized=\"αὐτόν\" strong=\"846\" number=\"singular\" gender=\"masculine\" case=\"accusative\" gloss=\"of him\">αὐτὸν</w>\n",
       "                <wg role=\"adv\" class=\"cl\" n=\"420190150070030\" rule=\"V-O\">\n",
       "                  <w role=\"v\" class=\"verb\" osisId=\"Luke.19.15!7\" n=\"420190150070010\" lemma=\"λαμβάνω\" normalized=\"λαβόντα\" strong=\"2983\" number=\"singular\" gender=\"masculine\" case=\"accusative\" tense=\"aorist\" voice=\"active\" mood=\"participle\" type=\"?\" head=\"true\" gloss=\"having received\">λαβόντα</w>\n",
       "                  <wg role=\"o\" class=\"np\" n=\"420190150080020\" articular=\"true\" rule=\"DetNP\">\n",
       "                    <w class=\"det\" osisId=\"Luke.19.15!8\" n=\"420190150080010\" lemma=\"ὁ\" normalized=\"τήν\" strong=\"3588\" number=\"singular\" gender=\"feminine\" case=\"accusative\" gloss=\"the\">τὴν</w>\n",
       "                    <w class=\"noun\" type=\"common\" osisId=\"Luke.19.15!9\" n=\"420190150090010\" lemma=\"βασιλεία\" normalized=\"βασιλείαν\" strong=\"932\" number=\"singular\" gender=\"feminine\" case=\"accusative\" head=\"true\" gloss=\"kingdom\">βασιλείαν</w>\n",
       "                  </wg>\n",
       "                </wg>\n",
       "              </wg>\n",
       "            </wg>\n",
       "          </wg>\n",
       "        </wg>\n",
       "        <w class=\"conj\" osisId=\"Luke.19.15!10\" n=\"420190150100010\" lemma=\"καί\" normalized=\"καί\" strong=\"2532\" gloss=\"that\">καὶ</w>\n",
       "        <wg class=\"cl\" n=\"420190150110150\" head=\"true\" rule=\"ClCl\">\n",
       "          <wg class=\"cl\" n=\"420190150110100\" head=\"true\" rule=\"V-O\">\n",
       "            <w role=\"v\" class=\"verb\" osisId=\"Luke.19.15!11\" n=\"420190150110010\" lemma=\"λέγω\" normalized=\"εἶπεν\" strong=\"3004\" number=\"singular\" person=\"third\" tense=\"aorist\" voice=\"active\" mood=\"indicative\" head=\"true\" gloss=\"he directed\">εἶπεν</w>\n",
       "            <wg role=\"o\" class=\"cl\" n=\"420190150120090\" rule=\"V-IO-S\">\n",
       "              <w role=\"v\" class=\"verb\" osisId=\"Luke.19.15!12\" n=\"420190150120010\" lemma=\"φωνέω\" normalized=\"φωνηθῆναι\" strong=\"5455\" tense=\"aorist\" voice=\"passive\" mood=\"infinitive\" type=\"?\" head=\"true\" gloss=\"to be called\">φωνηθῆναι</w>\n",
       "              <w role=\"io\" class=\"pron\" type=\"personal\" osisId=\"Luke.19.15!13\" n=\"420190150130010\" lemma=\"αὐτός\" normalized=\"αὐτῷ\" strong=\"846\" number=\"singular\" gender=\"masculine\" case=\"dative\" gloss=\"to him\">αὐτῷ</w>\n",
       "              <wg role=\"s\" class=\"np\" n=\"420190150140070\" articular=\"true\" rule=\"NP-CL\">\n",
       "                <wg class=\"np\" n=\"420190150140030\" articular=\"true\" head=\"true\" rule=\"NP-Demo\">\n",
       "                  <wg class=\"np\" n=\"420190150140020\" articular=\"true\" head=\"true\" rule=\"DetNP\">\n",
       "                    <w class=\"det\" osisId=\"Luke.19.15!14\" n=\"420190150140010\" lemma=\"ὁ\" normalized=\"τούς\" strong=\"3588\" number=\"plural\" gender=\"masculine\" case=\"accusative\" gloss=\"the\">τοὺς</w>\n",
       "                    <w class=\"noun\" type=\"common\" osisId=\"Luke.19.15!15\" n=\"420190150150010\" lemma=\"δοῦλος (II)\" normalized=\"δούλους\" strong=\"1401\" number=\"plural\" gender=\"masculine\" case=\"accusative\" head=\"true\" gloss=\"servants\">δούλους</w>\n",
       "                  </wg>\n",
       "                  <w class=\"pron\" type=\"demonstrative\" osisId=\"Luke.19.15!16\" n=\"420190150160010\" lemma=\"οὗτος\" normalized=\"τούτους\" strong=\"3778\" number=\"plural\" gender=\"masculine\" case=\"accusative\" gloss=\"these\">τούτους</w>\n",
       "                </wg>\n",
       "                <wg class=\"cl\" n=\"420190150170040\" rule=\"IO-V-O\">\n",
       "                  <w role=\"io\" class=\"pron\" type=\"relative\" osisId=\"Luke.19.15!17\" n=\"420190150170010\" lemma=\"ὅς\" normalized=\"οἷς\" strong=\"3739\" number=\"plural\" gender=\"masculine\" case=\"dative\" gloss=\"to whom\">οἷς</w>\n",
       "                  <w role=\"v\" class=\"verb\" osisId=\"Luke.19.15!18\" n=\"420190150180010\" lemma=\"δίδωμι\" normalized=\"δεδώκει\" strong=\"1325\" number=\"singular\" person=\"third\" tense=\"pluperfect\" voice=\"active\" mood=\"indicative\" head=\"true\" gloss=\"he had given\">δεδώκει</w>\n",
       "                  <wg role=\"o\" class=\"np\" n=\"420190150190020\" articular=\"true\" rule=\"DetNP\">\n",
       "                    <w class=\"det\" osisId=\"Luke.19.15!19\" n=\"420190150190010\" lemma=\"ὁ\" normalized=\"τό\" strong=\"3588\" number=\"singular\" gender=\"neuter\" case=\"accusative\" gloss=\"the\">τὸ</w>\n",
       "                    <w class=\"noun\" type=\"common\" osisId=\"Luke.19.15!20\" n=\"420190150200010\" lemma=\"ἀργύριον\" normalized=\"ἀργύριον\" strong=\"694\" number=\"singular\" gender=\"neuter\" case=\"accusative\" head=\"true\" gloss=\"money\">ἀργύριον,</w>\n",
       "                  </wg>\n",
       "                </wg>\n",
       "              </wg>\n",
       "            </wg>\n",
       "          </wg>\n",
       "          <wg class=\"cl\" n=\"420190150210050\" rule=\"sub-CL\">\n",
       "            <w class=\"conj\" osisId=\"Luke.19.15!21\" n=\"420190150210010\" lemma=\"ἵνα\" normalized=\"ἵνα\" strong=\"2443\" gloss=\"in order that\">ἵνα</w>\n",
       "            <wg class=\"cl\" n=\"420190150220040\" rule=\"V-S-O\">\n",
       "              <w role=\"v\" class=\"verb\" osisId=\"Luke.19.15!22\" n=\"420190150220010\" lemma=\"γινώσκω\" normalized=\"γνοῖ\" strong=\"1097\" number=\"singular\" person=\"third\" tense=\"aorist\" voice=\"active\" mood=\"subjunctive\" head=\"true\" gloss=\"he might know\">γνοῖ</w>\n",
       "              <w role=\"s\" class=\"pron\" type=\"indefinite\" osisId=\"Luke.19.15!23\" n=\"420190150230010\" lemma=\"τίς\" normalized=\"τίς\" strong=\"5101\" number=\"singular\" gender=\"masculine\" case=\"nominative\" gloss=\"each\">τίς</w>\n",
       "              <wg role=\"o\" class=\"cl\" n=\"420190150240020\" rule=\"O-V\">\n",
       "                <w role=\"o\" class=\"pron\" type=\"interrogative\" osisId=\"Luke.19.15!24\" n=\"420190150240010\" lemma=\"τίς\" normalized=\"τί\" strong=\"5101\" number=\"singular\" gender=\"neuter\" case=\"accusative\" gloss=\"what\">τί</w>\n",
       "                <w role=\"v\" class=\"verb\" osisId=\"Luke.19.15!25\" n=\"420190150250010\" lemma=\"διαπραγματεύομαι\" normalized=\"διεπραγματεύσατο\" strong=\"1281\" number=\"singular\" person=\"third\" tense=\"aorist\" voice=\"middle\" mood=\"indicative\" head=\"true\" gloss=\"had gained by trading\">διεπραγματεύσατο.</w>\n",
       "              </wg>\n",
       "            </wg>\n",
       "          </wg>\n",
       "        </wg>\n",
       "      </wg>\n",
       "    </wg>\n",
       "  </wg>\n",
       "</sentence>"
      ],
      "text/plain": [
       "<IPython.core.display.HTML object>"
      ]
     },
     "metadata": {},
     "output_type": "display_data"
    }
   ],
   "source": [
    "q.treedown(milestone(\"Luke.19.15\"), box=True)"
   ]
  },
  {
   "cell_type": "markdown",
   "metadata": {},
   "source": [
    "Perhaps the right way to understand this is as an indirect question that would require two interrogatives. This is compatible with Ulrik's analysis.\n",
    "\n",
    "```\n",
    "ἵνα\n",
    "    v γνοῖ\n",
    "        s τίς \n",
    "        o τί \n",
    "        v διεπραγματεύσατο```"
   ]
  },
  {
   "cell_type": "markdown",
   "metadata": {},
   "source": [
    "Which is equivalent to this:"
   ]
  },
  {
   "cell_type": "markdown",
   "metadata": {},
   "source": [
    " ```xml\n",
    " <wg class=\"cl\" n=\"420190150220040\" rule=\"V-O\">\n",
    "    <w role=\"v\"\n",
    "       class=\"verb\"\n",
    "       osisId=\"Luke.19.15!22\"\n",
    "       n=\"420190150220010\"\n",
    "       lemma=\"γινώσκω\"\n",
    "       normalized=\"γνοῖ\"\n",
    "       strong=\"1097\"\n",
    "       number=\"singular\"\n",
    "       person=\"third\"\n",
    "       tense=\"aorist\"\n",
    "       voice=\"active\"\n",
    "       mood=\"subjunctive\"\n",
    "       head=\"true\"\n",
    "       gloss=\"he might know\">γνοῖ</w>\n",
    "    <wg role=\"o\" class=\"cl\" n=\"420190150240020\" rule=\"S-O-V\">\n",
    "       <w role=\"s\"\n",
    "          class=\"pron\"\n",
    "          type=\"interrogative\"\n",
    "          osisId=\"Luke.19.15!23\"\n",
    "          n=\"420190150230010\"\n",
    "          lemma=\"τίς\"\n",
    "          normalized=\"τίς\"\n",
    "          strong=\"5101\"\n",
    "          number=\"singular\"\n",
    "          gender=\"masculine\"\n",
    "          case=\"nominative\"\n",
    "          gloss=\"each\">τίς</w>\n",
    "       <w role=\"o\"\n",
    "          class=\"pron\"\n",
    "          type=\"interrogative\"\n",
    "          osisId=\"Luke.19.15!24\"\n",
    "          n=\"420190150240010\"\n",
    "          lemma=\"τίς\"\n",
    "          normalized=\"τί\"\n",
    "          strong=\"5101\"\n",
    "          number=\"singular\"\n",
    "          gender=\"neuter\"\n",
    "          case=\"accusative\"\n",
    "          gloss=\"what\">τί</w>\n",
    "       <w role=\"v\"\n",
    "          class=\"verb\"\n",
    "          osisId=\"Luke.19.15!25\"\n",
    "          n=\"420190150250010\"\n",
    "          lemma=\"διαπραγματεύομαι\"\n",
    "          normalized=\"διεπραγματεύσατο\"\n",
    "          strong=\"1281\"\n",
    "          number=\"singular\"\n",
    "          person=\"third\"\n",
    "          tense=\"aorist\"\n",
    "          voice=\"middle\"\n",
    "          mood=\"indicative\"\n",
    "          head=\"true\"\n",
    "          gloss=\"had gained by trading\">διεπραγματεύσατο.</w>\n",
    "    </wg>\n",
    " </wg>\n",
    "```"
   ]
  },
  {
   "cell_type": "markdown",
   "metadata": {},
   "source": [
    "## Acts 25:26"
   ]
  },
  {
   "cell_type": "markdown",
   "metadata": {},
   "source": [
    "In Acts 25:26, τί in ὅπως τῆς ἀνακρίσεως γενομένης σχῶ τί γράψω· is correctly analyzed as an interrogative - \"that I might have something to write\" - but with the wrong lemma.\n",
    "\n",
    "```\n",
    "                               type=\"indefinite\"\n",
    "                               osisId=\"Acts.25.26!26\"\n",
    "                               n=\"440250260260010\"\n",
    "-                              lemma=\"τίς\"\n",
    "+                              lemma=\"τὶς\"\n",
    "                               normalized=\"τί\"\n",
    "                               strong=\"5100\"\n",
    "                               number=\"singular\"```"
   ]
  },
  {
   "cell_type": "markdown",
   "metadata": {},
   "source": [
    "## Hebrews 3:16"
   ]
  },
  {
   "cell_type": "markdown",
   "metadata": {},
   "source": [
    "In τίνες γὰρ ἀκούσαντες παρεπίκραναν; the pronoun τίνες is interrogative, not indefinite.\n",
    "\n",
    "```\n",
    "                <w role=\"s\"\n",
    "                   class=\"pron\"\n",
    "-                  type=\"indefinite\"\n",
    "+                  type=\"interrogative\"\n",
    "                   osisId=\"Heb.3.16!1\"\n",
    "                   n=\"580030160010010\"\n",
    "                   lemma=\"τίς\"```"
   ]
  },
  {
   "cell_type": "markdown",
   "metadata": {},
   "source": [
    "# Comparison to Ulrik's morphology"
   ]
  },
  {
   "cell_type": "markdown",
   "metadata": {},
   "source": [
    "TODO: Ulrik's morphology is consistent, but not always correct.  I need to work the above changes into the morphology for the sake of consistency."
   ]
  },
  {
   "cell_type": "code",
   "execution_count": 11,
   "metadata": {},
   "outputs": [
    {
     "data": {
      "text/html": [
       "529"
      ],
      "text/plain": [
       "<IPython.core.display.HTML object>"
      ]
     },
     "metadata": {},
     "output_type": "display_data"
    }
   ],
   "source": [
    "query=\"\"\"\n",
    "  //record[entry[6]='τὶς' and starts-with(entry[3], 'X-')]\n",
    "\"\"\"\n",
    "m.count(query)"
   ]
  },
  {
   "cell_type": "code",
   "execution_count": 12,
   "metadata": {},
   "outputs": [
    {
     "data": {
      "text/html": [
       "0"
      ],
      "text/plain": [
       "<IPython.core.display.HTML object>"
      ]
     },
     "metadata": {},
     "output_type": "display_data"
    }
   ],
   "source": [
    "query=\"\"\"\n",
    "  //record[entry[6]='τίς' and starts-with(entry[3], 'X-')]\n",
    "\"\"\"\n",
    "m.count(query)"
   ]
  },
  {
   "cell_type": "code",
   "execution_count": 13,
   "metadata": {},
   "outputs": [
    {
     "data": {
      "text/html": [
       "0"
      ],
      "text/plain": [
       "<IPython.core.display.HTML object>"
      ]
     },
     "metadata": {},
     "output_type": "display_data"
    }
   ],
   "source": [
    "query=\"\"\"\n",
    "  //record[entry[6]='τὶς' and starts-with(entry[3], 'I-')]\n",
    "\"\"\"\n",
    "m.count(query)"
   ]
  },
  {
   "cell_type": "code",
   "execution_count": 14,
   "metadata": {},
   "outputs": [
    {
     "data": {
      "text/html": [
       "562"
      ],
      "text/plain": [
       "<IPython.core.display.HTML object>"
      ]
     },
     "metadata": {},
     "output_type": "display_data"
    }
   ],
   "source": [
    "query=\"\"\"\n",
    "  //record[entry[6]='τίς' and starts-with(entry[3], 'I-')]\n",
    "\"\"\"\n",
    "m.count(query)"
   ]
  }
 ],
 "metadata": {
  "_draft": {
   "nbviewer_url": "https://gist.github.com/6c8e124767f18ba7b21c0ca78c2aa6f6"
  },
  "gist": {
   "data": {
    "description": "tis-nestle1904-morphology.ipynb",
    "public": true
   },
   "id": "6c8e124767f18ba7b21c0ca78c2aa6f6"
  },
  "kernelspec": {
   "display_name": "Python 3",
   "language": "python",
   "name": "python3"
  },
  "language_info": {
   "codemirror_mode": {
    "name": "ipython",
    "version": 3
   },
   "file_extension": ".py",
   "mimetype": "text/x-python",
   "name": "python",
   "nbconvert_exporter": "python",
   "pygments_lexer": "ipython3",
   "version": "3.6.3"
  },
  "toc": {
   "nav_menu": {},
   "number_sections": true,
   "sideBar": true,
   "skip_h1_title": false,
   "toc_cell": true,
   "toc_position": {
    "height": "551px",
    "left": "0px",
    "right": "1068px",
    "top": "106px",
    "width": "212px"
   },
   "toc_section_display": "block",
   "toc_window_display": true
  }
 },
 "nbformat": 4,
 "nbformat_minor": 2
}

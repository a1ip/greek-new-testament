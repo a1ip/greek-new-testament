{
 "cells": [
  {
   "cell_type": "markdown",
   "metadata": {},
   "source": [
    "# Tutorial: Python 3, BaseX, and Greek Syntax Trees"
   ]
  },
  {
   "cell_type": "markdown",
   "metadata": {},
   "source": [
    "[jonathanrobie.biblicalhumanities.org](http://jonathanrobie.biblicalhumanities.org)"
   ]
  },
  {
   "cell_type": "markdown",
   "metadata": {},
   "source": [
    "This Jupyter Notebook shows how to work with the biblicalhumanities.org [Greek syntax trees](github.com/biblicalhumanities/greek-new-testament/syntax-trees) using Python 3 and the [BaseXClient Library](https://pypi.python.org/pypi/BaseXClient/8.4.4).  Using BaseX provides several useful advantages:\n",
    "\n",
    "- Fully supports XQuery 3.1 and XPath 3.1, including grouping, windowing, and JSON support\n",
    "- Indexes and query optimization\n",
    "- BaseX GUI is very productive for testing and optimizing queries"
   ]
  },
  {
   "cell_type": "markdown",
   "metadata": {},
   "source": [
    "## Install BaseX and the BaseX Client"
   ]
  },
  {
   "cell_type": "markdown",
   "metadata": {},
   "source": [
    "First, [download and install BaseX](http://basex.org/products/download/all-downloads/).\n",
    "\n",
    "Then install the BaseXClient for Python 3 using `pip` or `pip3` (depending on your system):\n",
    "\n",
    "```\n",
    "$ pip install BaseXClient\n",
    "Collecting BaseXClient\n",
    "  Using cached BaseXClient-8.4.4-py2.py3-none-any.whl\n",
    "Installing collected packages: BaseXClient\n",
    "Successfully installed BaseXClient-8.4.4\n",
    "```"
   ]
  },
  {
   "cell_type": "markdown",
   "metadata": {},
   "source": [
    "## Get the Syntax trees, add to BaseX using BaseX GUI"
   ]
  },
  {
   "cell_type": "markdown",
   "metadata": {},
   "source": [
    "Get the syntax trees using git:\n",
    "\n",
    "```\n",
    "$ git clone https://github.com/biblicalhumanities/greek-new-testament\n",
    "```\n",
    "\n",
    "Follow these BaseX instructions to create a database:\n",
    "\n",
    "- [Create Database](http://docs.basex.org/wiki/Graphical_User_Interface#Create_Database)\n",
    "\n",
    "On my machine, I clone repos into the ~/git subdirectory, and the XML file you need to create the database is here:\n",
    "\n",
    "```\n",
    "~/git/greek-new-testament/syntax-trees/nestle1904-lowfat/xml/nestle1904lowfat.xml\n",
    "```"
   ]
  },
  {
   "cell_type": "markdown",
   "metadata": {},
   "source": [
    "This file contains a series of XInclude statements that each include one file from the Greek New Testament:\n",
    "\n",
    "```xml\n",
    "<gnt xmlns:xi=\"http://www.w3.org/2001/XInclude\">\n",
    "    <xi:include href=\"01-matthew.xml\"/>\n",
    "    <xi:include href=\"02-mark.xml\"/>\n",
    "    <xi:include href=\"03-luke.xml\"/>\n",
    "    <xi:include href=\"04-john.xml\"/>\n",
    "    !!! SNIP !!!\n",
    "</gnt>\n",
    "```\n",
    "\n",
    "Each of these included files contains a `<book/>` element that looks like this:\n",
    "\n",
    "```xml \n",
    "<book xml:base=\"01-matthew.xml\">\n",
    "  <sentence>\n",
    "    <milestone unit=\"verse\" id=\"Matt.1.1\">Matt.1.1</milestone>\n",
    "    <p>Βίβλος γενέσεως Ἰησοῦ Χριστοῦ υἱοῦ Δαυεὶδ υἱοῦ Ἀβραάμ.</p>\n",
    "    <wg class=\"cl\">\n",
    "      <wg class=\"cl\" n=\"400010010010082\">\n",
    "        <wg role=\"p\" class=\"np\" n=\"400010010010080\">\n",
    "          <w class=\"noun\"\n",
    "             type=\"common\"\n",
    "             osisId=\"Matt.1.1!1\"\n",
    "             n=\"400010010010010\"\n",
    "             lemma=\"βίβλος\"\n",
    "             normalized=\"Βίβλος\"\n",
    "             strong=\"976\"\n",
    "             number=\"singular\"\n",
    "             gender=\"feminine\"\n",
    "             case=\"nominative\"\n",
    "             head=\"true\">Βίβλος</w>\n",
    "    !!! SNIP !!!\n",
    "```\n",
    "\n",
    "Note the following:\n",
    "\n",
    "- The `<book/>` element contains a sequence of `<sentence/>` elements, which represent the sentences of a book.\n",
    "- When expanded with XInclude, the `xml:base` attribute identifies the book.  \n",
    "- Verses are represented using `<milestone/>` elements that occur within sentences.\n",
    "- For the sake of readability, each sentence has a `<p/>` element that contains the sentence in plain text.\n",
    "- Sentences contain word groups (`<wg/>`) and words (`<w/>`), which can each contain `class` and `role` elements.  For instance, a clause is a word group where `class=\"cl\"`, a noun phrase is a word group where `class=\"np\"`.\n",
    "- More details on this format can be found in the [Nestle1904 Lowfat README](https://github.com/biblicalhumanities/greek-new-testament/tree/master/syntax-trees/nestle1904-lowfat/README.md).  The values that an attribute can take are more fully documented in the [Nestle 1904 Documentation](https://github.com/biblicalhumanities/greek-new-testament/blob/master/syntax-trees/nestle1904/doc/SBLGNT%20Treebank%20Documentation.pdf)."
   ]
  },
  {
   "cell_type": "markdown",
   "metadata": {},
   "source": [
    "## Import BaseXClient and open the database"
   ]
  },
  {
   "cell_type": "markdown",
   "metadata": {},
   "source": [
    "Import the client and open the database"
   ]
  },
  {
   "cell_type": "code",
   "execution_count": 1,
   "metadata": {
    "collapsed": true
   },
   "outputs": [],
   "source": [
    "from BaseXClient import BaseXClient"
   ]
  },
  {
   "cell_type": "code",
   "execution_count": 2,
   "metadata": {
    "collapsed": true
   },
   "outputs": [],
   "source": [
    "session = BaseXClient.Session('localhost', 1984, 'admin', 'admin')"
   ]
  },
  {
   "cell_type": "code",
   "execution_count": 3,
   "metadata": {},
   "outputs": [
    {
     "data": {
      "text/plain": [
       "''"
      ]
     },
     "execution_count": 3,
     "metadata": {},
     "output_type": "execute_result"
    }
   ],
   "source": [
    "session.execute(\"open nestle1904lowfat\")"
   ]
  },
  {
   "cell_type": "markdown",
   "metadata": {},
   "source": [
    "## Define some helper functions\n",
    "\n",
    "Sometimes we want to return query results as text, sometimes we want to return results as an etree to make it easier to process the XML in Python, sometimes we just want to print the result.  Let's define a function to do each."
   ]
  },
  {
   "cell_type": "code",
   "execution_count": 4,
   "metadata": {},
   "outputs": [],
   "source": [
    "from lxml import etree\n",
    "\n",
    "def xquery(query):\n",
    "    return session.query(query).execute()\n",
    "\n",
    "def xquery_etree(query):\n",
    "    return etree.XML(xquery(query))\n",
    "\n",
    "# https://stackoverflow.com/questions/40085818/jupyter-notebook-output-cell-syntax-highlighting\n",
    "\n",
    "from pygments import highlight\n",
    "from pygments.lexers import XmlLexer\n",
    "from pygments.formatters import HtmlFormatter\n",
    "import IPython\n",
    "\n",
    "def xml_display(xml):\n",
    "    formatter = HtmlFormatter()\n",
    "    display(\n",
    "        IPython.display.HTML('<style type=\"text/css\">{}</style>{}'.format (\n",
    "            formatter.get_style_defs('.highlight'),\n",
    "            highlight(xml, XmlLexer(), formatter))))\n",
    "\n",
    "def xquery_display(query):\n",
    "    xml_display(xquery(query))"
   ]
  },
  {
   "cell_type": "markdown",
   "metadata": {},
   "source": [
    "Now let's demonstrate each of these functions with a simple query. The `xquery()` function does a query and returns the result as a string."
   ]
  },
  {
   "cell_type": "code",
   "execution_count": 5,
   "metadata": {},
   "outputs": [
    {
     "data": {
      "text/plain": [
       "'<milestone xmlns:xi=\"http://www.w3.org/2001/XInclude\" unit=\"verse\" id=\"Matt.1.1\">Matt.1.1</milestone>'"
      ]
     },
     "execution_count": 5,
     "metadata": {},
     "output_type": "execute_result"
    }
   ],
   "source": [
    "xquery(\"//milestone[@id='Matt.1.1']\")"
   ]
  },
  {
   "cell_type": "markdown",
   "metadata": {},
   "source": [
    "The `xquery_etree()` function does a query and returns the result as an `etree` object."
   ]
  },
  {
   "cell_type": "code",
   "execution_count": 6,
   "metadata": {},
   "outputs": [
    {
     "data": {
      "text/plain": [
       "<Element milestone at 0x1109b3f08>"
      ]
     },
     "execution_count": 6,
     "metadata": {},
     "output_type": "execute_result"
    }
   ],
   "source": [
    "xquery_etree(\"//milestone[@id='Matt.1.1']\")"
   ]
  },
  {
   "cell_type": "markdown",
   "metadata": {},
   "source": [
    "The `xml_display()` function formats and displays a string of XML."
   ]
  },
  {
   "cell_type": "code",
   "execution_count": 7,
   "metadata": {},
   "outputs": [
    {
     "data": {
      "text/html": [
       "<style type=\"text/css\">.highlight .hll { background-color: #ffffcc }\n",
       ".highlight  { background: #f8f8f8; }\n",
       ".highlight .c { color: #408080; font-style: italic } /* Comment */\n",
       ".highlight .err { border: 1px solid #FF0000 } /* Error */\n",
       ".highlight .k { color: #008000; font-weight: bold } /* Keyword */\n",
       ".highlight .o { color: #666666 } /* Operator */\n",
       ".highlight .ch { color: #408080; font-style: italic } /* Comment.Hashbang */\n",
       ".highlight .cm { color: #408080; font-style: italic } /* Comment.Multiline */\n",
       ".highlight .cp { color: #BC7A00 } /* Comment.Preproc */\n",
       ".highlight .cpf { color: #408080; font-style: italic } /* Comment.PreprocFile */\n",
       ".highlight .c1 { color: #408080; font-style: italic } /* Comment.Single */\n",
       ".highlight .cs { color: #408080; font-style: italic } /* Comment.Special */\n",
       ".highlight .gd { color: #A00000 } /* Generic.Deleted */\n",
       ".highlight .ge { font-style: italic } /* Generic.Emph */\n",
       ".highlight .gr { color: #FF0000 } /* Generic.Error */\n",
       ".highlight .gh { color: #000080; font-weight: bold } /* Generic.Heading */\n",
       ".highlight .gi { color: #00A000 } /* Generic.Inserted */\n",
       ".highlight .go { color: #888888 } /* Generic.Output */\n",
       ".highlight .gp { color: #000080; font-weight: bold } /* Generic.Prompt */\n",
       ".highlight .gs { font-weight: bold } /* Generic.Strong */\n",
       ".highlight .gu { color: #800080; font-weight: bold } /* Generic.Subheading */\n",
       ".highlight .gt { color: #0044DD } /* Generic.Traceback */\n",
       ".highlight .kc { color: #008000; font-weight: bold } /* Keyword.Constant */\n",
       ".highlight .kd { color: #008000; font-weight: bold } /* Keyword.Declaration */\n",
       ".highlight .kn { color: #008000; font-weight: bold } /* Keyword.Namespace */\n",
       ".highlight .kp { color: #008000 } /* Keyword.Pseudo */\n",
       ".highlight .kr { color: #008000; font-weight: bold } /* Keyword.Reserved */\n",
       ".highlight .kt { color: #B00040 } /* Keyword.Type */\n",
       ".highlight .m { color: #666666 } /* Literal.Number */\n",
       ".highlight .s { color: #BA2121 } /* Literal.String */\n",
       ".highlight .na { color: #7D9029 } /* Name.Attribute */\n",
       ".highlight .nb { color: #008000 } /* Name.Builtin */\n",
       ".highlight .nc { color: #0000FF; font-weight: bold } /* Name.Class */\n",
       ".highlight .no { color: #880000 } /* Name.Constant */\n",
       ".highlight .nd { color: #AA22FF } /* Name.Decorator */\n",
       ".highlight .ni { color: #999999; font-weight: bold } /* Name.Entity */\n",
       ".highlight .ne { color: #D2413A; font-weight: bold } /* Name.Exception */\n",
       ".highlight .nf { color: #0000FF } /* Name.Function */\n",
       ".highlight .nl { color: #A0A000 } /* Name.Label */\n",
       ".highlight .nn { color: #0000FF; font-weight: bold } /* Name.Namespace */\n",
       ".highlight .nt { color: #008000; font-weight: bold } /* Name.Tag */\n",
       ".highlight .nv { color: #19177C } /* Name.Variable */\n",
       ".highlight .ow { color: #AA22FF; font-weight: bold } /* Operator.Word */\n",
       ".highlight .w { color: #bbbbbb } /* Text.Whitespace */\n",
       ".highlight .mb { color: #666666 } /* Literal.Number.Bin */\n",
       ".highlight .mf { color: #666666 } /* Literal.Number.Float */\n",
       ".highlight .mh { color: #666666 } /* Literal.Number.Hex */\n",
       ".highlight .mi { color: #666666 } /* Literal.Number.Integer */\n",
       ".highlight .mo { color: #666666 } /* Literal.Number.Oct */\n",
       ".highlight .sa { color: #BA2121 } /* Literal.String.Affix */\n",
       ".highlight .sb { color: #BA2121 } /* Literal.String.Backtick */\n",
       ".highlight .sc { color: #BA2121 } /* Literal.String.Char */\n",
       ".highlight .dl { color: #BA2121 } /* Literal.String.Delimiter */\n",
       ".highlight .sd { color: #BA2121; font-style: italic } /* Literal.String.Doc */\n",
       ".highlight .s2 { color: #BA2121 } /* Literal.String.Double */\n",
       ".highlight .se { color: #BB6622; font-weight: bold } /* Literal.String.Escape */\n",
       ".highlight .sh { color: #BA2121 } /* Literal.String.Heredoc */\n",
       ".highlight .si { color: #BB6688; font-weight: bold } /* Literal.String.Interpol */\n",
       ".highlight .sx { color: #008000 } /* Literal.String.Other */\n",
       ".highlight .sr { color: #BB6688 } /* Literal.String.Regex */\n",
       ".highlight .s1 { color: #BA2121 } /* Literal.String.Single */\n",
       ".highlight .ss { color: #19177C } /* Literal.String.Symbol */\n",
       ".highlight .bp { color: #008000 } /* Name.Builtin.Pseudo */\n",
       ".highlight .fm { color: #0000FF } /* Name.Function.Magic */\n",
       ".highlight .vc { color: #19177C } /* Name.Variable.Class */\n",
       ".highlight .vg { color: #19177C } /* Name.Variable.Global */\n",
       ".highlight .vi { color: #19177C } /* Name.Variable.Instance */\n",
       ".highlight .vm { color: #19177C } /* Name.Variable.Magic */\n",
       ".highlight .il { color: #666666 } /* Literal.Number.Integer.Long */</style><div class=\"highlight\"><pre><span></span><span class=\"nt\">&lt;milestone</span> <span class=\"na\">xmlns:xi=</span><span class=\"s\">&quot;http://www.w3.org/2001/XInclude&quot;</span> <span class=\"na\">unit=</span><span class=\"s\">&quot;verse&quot;</span> <span class=\"na\">id=</span><span class=\"s\">&quot;Matt.1.1&quot;</span><span class=\"nt\">&gt;</span>Matt.1.1<span class=\"nt\">&lt;/milestone&gt;</span>\n",
       "</pre></div>\n"
      ],
      "text/plain": [
       "<IPython.core.display.HTML object>"
      ]
     },
     "metadata": {},
     "output_type": "display_data"
    }
   ],
   "source": [
    "xml_display('<milestone xmlns:xi=\"http://www.w3.org/2001/XInclude\" unit=\"verse\" id=\"Matt.1.1\">Matt.1.1</milestone>')"
   ]
  },
  {
   "cell_type": "markdown",
   "metadata": {},
   "source": [
    "The `xquery_display()` function does a query, then formats and displays the result."
   ]
  },
  {
   "cell_type": "code",
   "execution_count": 8,
   "metadata": {},
   "outputs": [
    {
     "data": {
      "text/html": [
       "<style type=\"text/css\">.highlight .hll { background-color: #ffffcc }\n",
       ".highlight  { background: #f8f8f8; }\n",
       ".highlight .c { color: #408080; font-style: italic } /* Comment */\n",
       ".highlight .err { border: 1px solid #FF0000 } /* Error */\n",
       ".highlight .k { color: #008000; font-weight: bold } /* Keyword */\n",
       ".highlight .o { color: #666666 } /* Operator */\n",
       ".highlight .ch { color: #408080; font-style: italic } /* Comment.Hashbang */\n",
       ".highlight .cm { color: #408080; font-style: italic } /* Comment.Multiline */\n",
       ".highlight .cp { color: #BC7A00 } /* Comment.Preproc */\n",
       ".highlight .cpf { color: #408080; font-style: italic } /* Comment.PreprocFile */\n",
       ".highlight .c1 { color: #408080; font-style: italic } /* Comment.Single */\n",
       ".highlight .cs { color: #408080; font-style: italic } /* Comment.Special */\n",
       ".highlight .gd { color: #A00000 } /* Generic.Deleted */\n",
       ".highlight .ge { font-style: italic } /* Generic.Emph */\n",
       ".highlight .gr { color: #FF0000 } /* Generic.Error */\n",
       ".highlight .gh { color: #000080; font-weight: bold } /* Generic.Heading */\n",
       ".highlight .gi { color: #00A000 } /* Generic.Inserted */\n",
       ".highlight .go { color: #888888 } /* Generic.Output */\n",
       ".highlight .gp { color: #000080; font-weight: bold } /* Generic.Prompt */\n",
       ".highlight .gs { font-weight: bold } /* Generic.Strong */\n",
       ".highlight .gu { color: #800080; font-weight: bold } /* Generic.Subheading */\n",
       ".highlight .gt { color: #0044DD } /* Generic.Traceback */\n",
       ".highlight .kc { color: #008000; font-weight: bold } /* Keyword.Constant */\n",
       ".highlight .kd { color: #008000; font-weight: bold } /* Keyword.Declaration */\n",
       ".highlight .kn { color: #008000; font-weight: bold } /* Keyword.Namespace */\n",
       ".highlight .kp { color: #008000 } /* Keyword.Pseudo */\n",
       ".highlight .kr { color: #008000; font-weight: bold } /* Keyword.Reserved */\n",
       ".highlight .kt { color: #B00040 } /* Keyword.Type */\n",
       ".highlight .m { color: #666666 } /* Literal.Number */\n",
       ".highlight .s { color: #BA2121 } /* Literal.String */\n",
       ".highlight .na { color: #7D9029 } /* Name.Attribute */\n",
       ".highlight .nb { color: #008000 } /* Name.Builtin */\n",
       ".highlight .nc { color: #0000FF; font-weight: bold } /* Name.Class */\n",
       ".highlight .no { color: #880000 } /* Name.Constant */\n",
       ".highlight .nd { color: #AA22FF } /* Name.Decorator */\n",
       ".highlight .ni { color: #999999; font-weight: bold } /* Name.Entity */\n",
       ".highlight .ne { color: #D2413A; font-weight: bold } /* Name.Exception */\n",
       ".highlight .nf { color: #0000FF } /* Name.Function */\n",
       ".highlight .nl { color: #A0A000 } /* Name.Label */\n",
       ".highlight .nn { color: #0000FF; font-weight: bold } /* Name.Namespace */\n",
       ".highlight .nt { color: #008000; font-weight: bold } /* Name.Tag */\n",
       ".highlight .nv { color: #19177C } /* Name.Variable */\n",
       ".highlight .ow { color: #AA22FF; font-weight: bold } /* Operator.Word */\n",
       ".highlight .w { color: #bbbbbb } /* Text.Whitespace */\n",
       ".highlight .mb { color: #666666 } /* Literal.Number.Bin */\n",
       ".highlight .mf { color: #666666 } /* Literal.Number.Float */\n",
       ".highlight .mh { color: #666666 } /* Literal.Number.Hex */\n",
       ".highlight .mi { color: #666666 } /* Literal.Number.Integer */\n",
       ".highlight .mo { color: #666666 } /* Literal.Number.Oct */\n",
       ".highlight .sa { color: #BA2121 } /* Literal.String.Affix */\n",
       ".highlight .sb { color: #BA2121 } /* Literal.String.Backtick */\n",
       ".highlight .sc { color: #BA2121 } /* Literal.String.Char */\n",
       ".highlight .dl { color: #BA2121 } /* Literal.String.Delimiter */\n",
       ".highlight .sd { color: #BA2121; font-style: italic } /* Literal.String.Doc */\n",
       ".highlight .s2 { color: #BA2121 } /* Literal.String.Double */\n",
       ".highlight .se { color: #BB6622; font-weight: bold } /* Literal.String.Escape */\n",
       ".highlight .sh { color: #BA2121 } /* Literal.String.Heredoc */\n",
       ".highlight .si { color: #BB6688; font-weight: bold } /* Literal.String.Interpol */\n",
       ".highlight .sx { color: #008000 } /* Literal.String.Other */\n",
       ".highlight .sr { color: #BB6688 } /* Literal.String.Regex */\n",
       ".highlight .s1 { color: #BA2121 } /* Literal.String.Single */\n",
       ".highlight .ss { color: #19177C } /* Literal.String.Symbol */\n",
       ".highlight .bp { color: #008000 } /* Name.Builtin.Pseudo */\n",
       ".highlight .fm { color: #0000FF } /* Name.Function.Magic */\n",
       ".highlight .vc { color: #19177C } /* Name.Variable.Class */\n",
       ".highlight .vg { color: #19177C } /* Name.Variable.Global */\n",
       ".highlight .vi { color: #19177C } /* Name.Variable.Instance */\n",
       ".highlight .vm { color: #19177C } /* Name.Variable.Magic */\n",
       ".highlight .il { color: #666666 } /* Literal.Number.Integer.Long */</style><div class=\"highlight\"><pre><span></span><span class=\"nt\">&lt;milestone</span> <span class=\"na\">xmlns:xi=</span><span class=\"s\">&quot;http://www.w3.org/2001/XInclude&quot;</span> <span class=\"na\">unit=</span><span class=\"s\">&quot;verse&quot;</span> <span class=\"na\">id=</span><span class=\"s\">&quot;Matt.1.1&quot;</span><span class=\"nt\">&gt;</span>Matt.1.1<span class=\"nt\">&lt;/milestone&gt;</span>\n",
       "</pre></div>\n"
      ],
      "text/plain": [
       "<IPython.core.display.HTML object>"
      ]
     },
     "metadata": {},
     "output_type": "display_data"
    }
   ],
   "source": [
    "xquery_display(\"//milestone[@id='Matt.1.1']\")"
   ]
  },
  {
   "cell_type": "markdown",
   "metadata": {},
   "source": [
    "## Books, Verses"
   ]
  },
  {
   "cell_type": "markdown",
   "metadata": {},
   "source": [
    "Most realistic use cases involving books and verses require both linguistic units (sentences, word groups, words) too, but let's start by showing just the books and verses.  As we introduce linguistic units, we will show how to combine the two."
   ]
  },
  {
   "cell_type": "markdown",
   "metadata": {},
   "source": [
    "### Books"
   ]
  },
  {
   "cell_type": "markdown",
   "metadata": {},
   "source": [
    "Each book is an element located directly under the `<gnt/>` element:\n",
    "\n",
    "```xml\n",
    "<gnt xmlns:xi=\"http://www.w3.org/2001/XInclude\">\n",
    "    <book xml:base=\"01-matthew.xml\">\n",
    "```\n",
    "\n",
    "Let's use XPath to find the books. First, let's just count the books to make sure we get the right number.\n",
    "    "
   ]
  },
  {
   "cell_type": "code",
   "execution_count": 9,
   "metadata": {},
   "outputs": [
    {
     "data": {
      "text/plain": [
       "'27'"
      ]
     },
     "execution_count": 9,
     "metadata": {},
     "output_type": "execute_result"
    }
   ],
   "source": [
    "xquery(\"count(//book)\")"
   ]
  },
  {
   "cell_type": "markdown",
   "metadata": {},
   "source": [
    "Books are too long to display entirely, so look at the first sentence of the first book to make sure that we are looking at the right thing."
   ]
  },
  {
   "cell_type": "code",
   "execution_count": 10,
   "metadata": {},
   "outputs": [],
   "source": [
    "matthew = xquery(\"//book[1]\")"
   ]
  },
  {
   "cell_type": "code",
   "execution_count": 11,
   "metadata": {},
   "outputs": [
    {
     "data": {
      "text/html": [
       "<style type=\"text/css\">.highlight .hll { background-color: #ffffcc }\n",
       ".highlight  { background: #f8f8f8; }\n",
       ".highlight .c { color: #408080; font-style: italic } /* Comment */\n",
       ".highlight .err { border: 1px solid #FF0000 } /* Error */\n",
       ".highlight .k { color: #008000; font-weight: bold } /* Keyword */\n",
       ".highlight .o { color: #666666 } /* Operator */\n",
       ".highlight .ch { color: #408080; font-style: italic } /* Comment.Hashbang */\n",
       ".highlight .cm { color: #408080; font-style: italic } /* Comment.Multiline */\n",
       ".highlight .cp { color: #BC7A00 } /* Comment.Preproc */\n",
       ".highlight .cpf { color: #408080; font-style: italic } /* Comment.PreprocFile */\n",
       ".highlight .c1 { color: #408080; font-style: italic } /* Comment.Single */\n",
       ".highlight .cs { color: #408080; font-style: italic } /* Comment.Special */\n",
       ".highlight .gd { color: #A00000 } /* Generic.Deleted */\n",
       ".highlight .ge { font-style: italic } /* Generic.Emph */\n",
       ".highlight .gr { color: #FF0000 } /* Generic.Error */\n",
       ".highlight .gh { color: #000080; font-weight: bold } /* Generic.Heading */\n",
       ".highlight .gi { color: #00A000 } /* Generic.Inserted */\n",
       ".highlight .go { color: #888888 } /* Generic.Output */\n",
       ".highlight .gp { color: #000080; font-weight: bold } /* Generic.Prompt */\n",
       ".highlight .gs { font-weight: bold } /* Generic.Strong */\n",
       ".highlight .gu { color: #800080; font-weight: bold } /* Generic.Subheading */\n",
       ".highlight .gt { color: #0044DD } /* Generic.Traceback */\n",
       ".highlight .kc { color: #008000; font-weight: bold } /* Keyword.Constant */\n",
       ".highlight .kd { color: #008000; font-weight: bold } /* Keyword.Declaration */\n",
       ".highlight .kn { color: #008000; font-weight: bold } /* Keyword.Namespace */\n",
       ".highlight .kp { color: #008000 } /* Keyword.Pseudo */\n",
       ".highlight .kr { color: #008000; font-weight: bold } /* Keyword.Reserved */\n",
       ".highlight .kt { color: #B00040 } /* Keyword.Type */\n",
       ".highlight .m { color: #666666 } /* Literal.Number */\n",
       ".highlight .s { color: #BA2121 } /* Literal.String */\n",
       ".highlight .na { color: #7D9029 } /* Name.Attribute */\n",
       ".highlight .nb { color: #008000 } /* Name.Builtin */\n",
       ".highlight .nc { color: #0000FF; font-weight: bold } /* Name.Class */\n",
       ".highlight .no { color: #880000 } /* Name.Constant */\n",
       ".highlight .nd { color: #AA22FF } /* Name.Decorator */\n",
       ".highlight .ni { color: #999999; font-weight: bold } /* Name.Entity */\n",
       ".highlight .ne { color: #D2413A; font-weight: bold } /* Name.Exception */\n",
       ".highlight .nf { color: #0000FF } /* Name.Function */\n",
       ".highlight .nl { color: #A0A000 } /* Name.Label */\n",
       ".highlight .nn { color: #0000FF; font-weight: bold } /* Name.Namespace */\n",
       ".highlight .nt { color: #008000; font-weight: bold } /* Name.Tag */\n",
       ".highlight .nv { color: #19177C } /* Name.Variable */\n",
       ".highlight .ow { color: #AA22FF; font-weight: bold } /* Operator.Word */\n",
       ".highlight .w { color: #bbbbbb } /* Text.Whitespace */\n",
       ".highlight .mb { color: #666666 } /* Literal.Number.Bin */\n",
       ".highlight .mf { color: #666666 } /* Literal.Number.Float */\n",
       ".highlight .mh { color: #666666 } /* Literal.Number.Hex */\n",
       ".highlight .mi { color: #666666 } /* Literal.Number.Integer */\n",
       ".highlight .mo { color: #666666 } /* Literal.Number.Oct */\n",
       ".highlight .sa { color: #BA2121 } /* Literal.String.Affix */\n",
       ".highlight .sb { color: #BA2121 } /* Literal.String.Backtick */\n",
       ".highlight .sc { color: #BA2121 } /* Literal.String.Char */\n",
       ".highlight .dl { color: #BA2121 } /* Literal.String.Delimiter */\n",
       ".highlight .sd { color: #BA2121; font-style: italic } /* Literal.String.Doc */\n",
       ".highlight .s2 { color: #BA2121 } /* Literal.String.Double */\n",
       ".highlight .se { color: #BB6622; font-weight: bold } /* Literal.String.Escape */\n",
       ".highlight .sh { color: #BA2121 } /* Literal.String.Heredoc */\n",
       ".highlight .si { color: #BB6688; font-weight: bold } /* Literal.String.Interpol */\n",
       ".highlight .sx { color: #008000 } /* Literal.String.Other */\n",
       ".highlight .sr { color: #BB6688 } /* Literal.String.Regex */\n",
       ".highlight .s1 { color: #BA2121 } /* Literal.String.Single */\n",
       ".highlight .ss { color: #19177C } /* Literal.String.Symbol */\n",
       ".highlight .bp { color: #008000 } /* Name.Builtin.Pseudo */\n",
       ".highlight .fm { color: #0000FF } /* Name.Function.Magic */\n",
       ".highlight .vc { color: #19177C } /* Name.Variable.Class */\n",
       ".highlight .vg { color: #19177C } /* Name.Variable.Global */\n",
       ".highlight .vi { color: #19177C } /* Name.Variable.Instance */\n",
       ".highlight .vm { color: #19177C } /* Name.Variable.Magic */\n",
       ".highlight .il { color: #666666 } /* Literal.Number.Integer.Long */</style><div class=\"highlight\"><pre><span></span><span class=\"nt\">&lt;book</span> <span class=\"na\">xmlns:xi=</span><span class=\"s\">&quot;http://www.w3.org/2001/XInclude&quot;</span> <span class=\"na\">osisId=</span><span class=\"s\">&quot;Matt&quot;</span> <span class=\"na\">xml:base=</span><span class=\"s\">&quot;01-matthew.xml&quot;</span><span class=\"nt\">&gt;</span>\n",
       "  <span class=\"nt\">&lt;sentence&gt;</span>\n",
       "    <span class=\"nt\">&lt;milestone</span> <span class=\"na\">unit=</span><span class=\"s\">&quot;verse&quot;</span> <span class=\"na\">id=</span><span class=\"s\">&quot;Matt.1.1&quot;</span><span class=\"nt\">&gt;</span>Matt.1.1<span class=\"nt\">&lt;/milestone&gt;</span>\n",
       "    <span class=\"nt\">&lt;p&gt;</span>Βίβλος γενέσεως Ἰησοῦ Χριστοῦ υἱοῦ Δαυεὶδ υἱοῦ Ἀβραάμ.<span class=\"nt\">&lt;/p&gt;</span>\n",
       "    <span class=\"nt\">&lt;wg</span> <span class=\"na\">class=</span><span class=\"s\">&quot;cl&quot;</span><span class=\"nt\">&gt;</span>\n",
       "      <span class=\"nt\">&lt;wg</span> <span class=\"na\">class=</span><span class=\"s\">&quot;cl&quot;</span> <span class=\"na\">n=</span><span class=\"s\">&quot;400010010010082&quot;</span><span class=\"nt\">&gt;</span>\n",
       "        <span class=\"nt\">&lt;wg</span> <span class=\"na\">role=</span><span class=\"s\">&quot;p&quot;</span> <span class=\"na\">class=</span><span class=\"s\">&quot;np&quot;</span> <span class=\"na\">n=</span><span class=\"s\">&quot;400010010010080&quot;</span><span class=\"nt\">&gt;</span>\n",
       "          <span class=\"nt\">&lt;w</span> <span class=\"na\">class=</span><span class=\"s\">&quot;noun&quot;</span> <span class=\"na\">type=</span><span class=\"s\">&quot;common&quot;</span> <span class=\"na\">osisId=</span><span class=\"s\">&quot;Matt.1.1!1&quot;</span> <span class=\"na\">n=</span><span class=\"s\">&quot;400010010010010&quot;</span> <span class=\"na\">lemma=</span><span class=\"s\">&quot;βίβλος&quot;</span> <span class=\"na\">normalized=</span><span class=\"s\">&quot;Βίβλος&quot;</span> <span class=\"na\">strong=</span><span class=\"s\">&quot;976&quot;</span> <span class=\"na\">number=</span><span class=\"s\">&quot;singular&quot;</span> <span class=\"na\">gender=</span><span class=\"s\">&quot;feminine&quot;</span> <span class=\"na\">case=</span><span class=\"s\">&quot;nominative&quot;</span> <span class=\"na\">head=</span><span class=\"s\">&quot;true&quot;</span><span class=\"nt\">&gt;</span>Βίβλος<span class=\"nt\">&lt;/w&gt;</span>\n",
       "          <span class=\"nt\">&lt;wg</span> <span class=\"na\">class=</span><span class=\"s\">&quot;np&quot;</span> <span class=\"na\">n=</span><span class=\"s\">&quot;400010010020070&quot;</span><span class=\"nt\">&gt;</span>\n",
       "            <span class=\"nt\">&lt;w</span> <span class=\"na\">class=</span><span class=\"s\">&quot;noun&quot;</span> <span class=\"na\">type=</span><span class=\"s\">&quot;common&quot;</span> <span class=\"na\">osisId=</span><span class=\"s\">&quot;Matt.1.1!2&quot;</span> <span class=\"na\">n=</span><span class=\"s\">&quot;400010010020010&quot;</span> <span class=\"na\">lemma=</span><span class=\"s\">&quot;γένεσις&quot;</span> <span class=\"na\">normalized=</span><span class=\"s\">&quot;γενέσεως&quot;</span> <span class=\"na\">strong=</span><span class=\"s\">&quot;1078&quot;</span> <span class=\"na\">number=</span><span class=\"s\">&quot;singular&quot;</span> <span class=\"na\">gender=</span><span class=\"s\">&quot;feminine&quot;</span> <span class=\"na\">case=</span><span class=\"s\">&quot;genitive&quot;</span> <span class=\"na\">head=</span><span class=\"s\">&quot;true&quot;</span><span class=\"nt\">&gt;</span>γενέσεως<span class=\"nt\">&lt;/w&gt;</span>\n",
       "            <span class=\"nt\">&lt;wg</span> <span class=\"na\">class=</span><span class=\"s\">&quot;np&quot;</span> <span class=\"na\">n=</span><span class=\"s\">&quot;400010010030060&quot;</span><span class=\"nt\">&gt;</span>\n",
       "              <span class=\"nt\">&lt;wg</span> <span class=\"na\">class=</span><span class=\"s\">&quot;np&quot;</span> <span class=\"na\">n=</span><span class=\"s\">&quot;400010010030040&quot;</span> <span class=\"na\">head=</span><span class=\"s\">&quot;true&quot;</span><span class=\"nt\">&gt;</span>\n",
       "                <span class=\"nt\">&lt;wg</span> <span class=\"na\">class=</span><span class=\"s\">&quot;np&quot;</span> <span class=\"na\">n=</span><span class=\"s\">&quot;400010010030020&quot;</span> <span class=\"na\">head=</span><span class=\"s\">&quot;true&quot;</span><span class=\"nt\">&gt;</span>\n",
       "                 \n",
       "</pre></div>\n"
      ],
      "text/plain": [
       "<IPython.core.display.HTML object>"
      ]
     },
     "metadata": {},
     "output_type": "display_data"
    }
   ],
   "source": [
    "xml_display(matthew[0:1000])"
   ]
  },
  {
   "cell_type": "markdown",
   "metadata": {},
   "source": [
    "Note the `osisId` attribute, which can be used to identify a book, and the `xml:base` attribute, which identifies the file that contains the book.  Let's make sure we have all the books of the New Testament, and that they are in the right order."
   ]
  },
  {
   "cell_type": "code",
   "execution_count": 12,
   "metadata": {},
   "outputs": [
    {
     "data": {
      "text/html": [
       "<style type=\"text/css\">.highlight .hll { background-color: #ffffcc }\n",
       ".highlight  { background: #f8f8f8; }\n",
       ".highlight .c { color: #408080; font-style: italic } /* Comment */\n",
       ".highlight .err { border: 1px solid #FF0000 } /* Error */\n",
       ".highlight .k { color: #008000; font-weight: bold } /* Keyword */\n",
       ".highlight .o { color: #666666 } /* Operator */\n",
       ".highlight .ch { color: #408080; font-style: italic } /* Comment.Hashbang */\n",
       ".highlight .cm { color: #408080; font-style: italic } /* Comment.Multiline */\n",
       ".highlight .cp { color: #BC7A00 } /* Comment.Preproc */\n",
       ".highlight .cpf { color: #408080; font-style: italic } /* Comment.PreprocFile */\n",
       ".highlight .c1 { color: #408080; font-style: italic } /* Comment.Single */\n",
       ".highlight .cs { color: #408080; font-style: italic } /* Comment.Special */\n",
       ".highlight .gd { color: #A00000 } /* Generic.Deleted */\n",
       ".highlight .ge { font-style: italic } /* Generic.Emph */\n",
       ".highlight .gr { color: #FF0000 } /* Generic.Error */\n",
       ".highlight .gh { color: #000080; font-weight: bold } /* Generic.Heading */\n",
       ".highlight .gi { color: #00A000 } /* Generic.Inserted */\n",
       ".highlight .go { color: #888888 } /* Generic.Output */\n",
       ".highlight .gp { color: #000080; font-weight: bold } /* Generic.Prompt */\n",
       ".highlight .gs { font-weight: bold } /* Generic.Strong */\n",
       ".highlight .gu { color: #800080; font-weight: bold } /* Generic.Subheading */\n",
       ".highlight .gt { color: #0044DD } /* Generic.Traceback */\n",
       ".highlight .kc { color: #008000; font-weight: bold } /* Keyword.Constant */\n",
       ".highlight .kd { color: #008000; font-weight: bold } /* Keyword.Declaration */\n",
       ".highlight .kn { color: #008000; font-weight: bold } /* Keyword.Namespace */\n",
       ".highlight .kp { color: #008000 } /* Keyword.Pseudo */\n",
       ".highlight .kr { color: #008000; font-weight: bold } /* Keyword.Reserved */\n",
       ".highlight .kt { color: #B00040 } /* Keyword.Type */\n",
       ".highlight .m { color: #666666 } /* Literal.Number */\n",
       ".highlight .s { color: #BA2121 } /* Literal.String */\n",
       ".highlight .na { color: #7D9029 } /* Name.Attribute */\n",
       ".highlight .nb { color: #008000 } /* Name.Builtin */\n",
       ".highlight .nc { color: #0000FF; font-weight: bold } /* Name.Class */\n",
       ".highlight .no { color: #880000 } /* Name.Constant */\n",
       ".highlight .nd { color: #AA22FF } /* Name.Decorator */\n",
       ".highlight .ni { color: #999999; font-weight: bold } /* Name.Entity */\n",
       ".highlight .ne { color: #D2413A; font-weight: bold } /* Name.Exception */\n",
       ".highlight .nf { color: #0000FF } /* Name.Function */\n",
       ".highlight .nl { color: #A0A000 } /* Name.Label */\n",
       ".highlight .nn { color: #0000FF; font-weight: bold } /* Name.Namespace */\n",
       ".highlight .nt { color: #008000; font-weight: bold } /* Name.Tag */\n",
       ".highlight .nv { color: #19177C } /* Name.Variable */\n",
       ".highlight .ow { color: #AA22FF; font-weight: bold } /* Operator.Word */\n",
       ".highlight .w { color: #bbbbbb } /* Text.Whitespace */\n",
       ".highlight .mb { color: #666666 } /* Literal.Number.Bin */\n",
       ".highlight .mf { color: #666666 } /* Literal.Number.Float */\n",
       ".highlight .mh { color: #666666 } /* Literal.Number.Hex */\n",
       ".highlight .mi { color: #666666 } /* Literal.Number.Integer */\n",
       ".highlight .mo { color: #666666 } /* Literal.Number.Oct */\n",
       ".highlight .sa { color: #BA2121 } /* Literal.String.Affix */\n",
       ".highlight .sb { color: #BA2121 } /* Literal.String.Backtick */\n",
       ".highlight .sc { color: #BA2121 } /* Literal.String.Char */\n",
       ".highlight .dl { color: #BA2121 } /* Literal.String.Delimiter */\n",
       ".highlight .sd { color: #BA2121; font-style: italic } /* Literal.String.Doc */\n",
       ".highlight .s2 { color: #BA2121 } /* Literal.String.Double */\n",
       ".highlight .se { color: #BB6622; font-weight: bold } /* Literal.String.Escape */\n",
       ".highlight .sh { color: #BA2121 } /* Literal.String.Heredoc */\n",
       ".highlight .si { color: #BB6688; font-weight: bold } /* Literal.String.Interpol */\n",
       ".highlight .sx { color: #008000 } /* Literal.String.Other */\n",
       ".highlight .sr { color: #BB6688 } /* Literal.String.Regex */\n",
       ".highlight .s1 { color: #BA2121 } /* Literal.String.Single */\n",
       ".highlight .ss { color: #19177C } /* Literal.String.Symbol */\n",
       ".highlight .bp { color: #008000 } /* Name.Builtin.Pseudo */\n",
       ".highlight .fm { color: #0000FF } /* Name.Function.Magic */\n",
       ".highlight .vc { color: #19177C } /* Name.Variable.Class */\n",
       ".highlight .vg { color: #19177C } /* Name.Variable.Global */\n",
       ".highlight .vi { color: #19177C } /* Name.Variable.Instance */\n",
       ".highlight .vm { color: #19177C } /* Name.Variable.Magic */\n",
       ".highlight .il { color: #666666 } /* Literal.Number.Integer.Long */</style><div class=\"highlight\"><pre><span></span><span class=\"nt\">&lt;book</span> <span class=\"na\">osisId=</span><span class=\"s\">&quot;Matt&quot;</span> <span class=\"na\">xml:base=</span><span class=\"s\">&quot;01-matthew.xml&quot;</span><span class=\"nt\">/&gt;</span>\n",
       "<span class=\"nt\">&lt;book</span> <span class=\"na\">osisId=</span><span class=\"s\">&quot;Mark&quot;</span> <span class=\"na\">xml:base=</span><span class=\"s\">&quot;02-mark.xml&quot;</span><span class=\"nt\">/&gt;</span>\n",
       "<span class=\"nt\">&lt;book</span> <span class=\"na\">osisId=</span><span class=\"s\">&quot;Luke&quot;</span> <span class=\"na\">xml:base=</span><span class=\"s\">&quot;03-luke.xml&quot;</span><span class=\"nt\">/&gt;</span>\n",
       "<span class=\"nt\">&lt;book</span> <span class=\"na\">osisId=</span><span class=\"s\">&quot;John&quot;</span> <span class=\"na\">xml:base=</span><span class=\"s\">&quot;04-john.xml&quot;</span><span class=\"nt\">/&gt;</span>\n",
       "<span class=\"nt\">&lt;book</span> <span class=\"na\">osisId=</span><span class=\"s\">&quot;Acts&quot;</span> <span class=\"na\">xml:base=</span><span class=\"s\">&quot;05-acts.xml&quot;</span><span class=\"nt\">/&gt;</span>\n",
       "<span class=\"nt\">&lt;book</span> <span class=\"na\">osisId=</span><span class=\"s\">&quot;Rom&quot;</span> <span class=\"na\">xml:base=</span><span class=\"s\">&quot;06-romans.xml&quot;</span><span class=\"nt\">/&gt;</span>\n",
       "<span class=\"nt\">&lt;book</span> <span class=\"na\">osisId=</span><span class=\"s\">&quot;1Cor&quot;</span> <span class=\"na\">xml:base=</span><span class=\"s\">&quot;07-1corinthians.xml&quot;</span><span class=\"nt\">/&gt;</span>\n",
       "<span class=\"nt\">&lt;book</span> <span class=\"na\">osisId=</span><span class=\"s\">&quot;2Cor&quot;</span> <span class=\"na\">xml:base=</span><span class=\"s\">&quot;08-2corinthians.xml&quot;</span><span class=\"nt\">/&gt;</span>\n",
       "<span class=\"nt\">&lt;book</span> <span class=\"na\">osisId=</span><span class=\"s\">&quot;Gal&quot;</span> <span class=\"na\">xml:base=</span><span class=\"s\">&quot;09-galatians.xml&quot;</span><span class=\"nt\">/&gt;</span>\n",
       "<span class=\"nt\">&lt;book</span> <span class=\"na\">osisId=</span><span class=\"s\">&quot;Eph&quot;</span> <span class=\"na\">xml:base=</span><span class=\"s\">&quot;10-ephesians.xml&quot;</span><span class=\"nt\">/&gt;</span>\n",
       "<span class=\"nt\">&lt;book</span> <span class=\"na\">osisId=</span><span class=\"s\">&quot;Phil&quot;</span> <span class=\"na\">xml:base=</span><span class=\"s\">&quot;11-philippians.xml&quot;</span><span class=\"nt\">/&gt;</span>\n",
       "<span class=\"nt\">&lt;book</span> <span class=\"na\">osisId=</span><span class=\"s\">&quot;Col&quot;</span> <span class=\"na\">xml:base=</span><span class=\"s\">&quot;12-colossians.xml&quot;</span><span class=\"nt\">/&gt;</span>\n",
       "<span class=\"nt\">&lt;book</span> <span class=\"na\">osisId=</span><span class=\"s\">&quot;1Thess&quot;</span> <span class=\"na\">xml:base=</span><span class=\"s\">&quot;13-1thessalonians.xml&quot;</span><span class=\"nt\">/&gt;</span>\n",
       "<span class=\"nt\">&lt;book</span> <span class=\"na\">osisId=</span><span class=\"s\">&quot;2Thess&quot;</span> <span class=\"na\">xml:base=</span><span class=\"s\">&quot;14-2thessalonians.xml&quot;</span><span class=\"nt\">/&gt;</span>\n",
       "<span class=\"nt\">&lt;book</span> <span class=\"na\">osisId=</span><span class=\"s\">&quot;1Tim&quot;</span> <span class=\"na\">xml:base=</span><span class=\"s\">&quot;15-1timothy.xml&quot;</span><span class=\"nt\">/&gt;</span>\n",
       "<span class=\"nt\">&lt;book</span> <span class=\"na\">osisId=</span><span class=\"s\">&quot;2Tim&quot;</span> <span class=\"na\">xml:base=</span><span class=\"s\">&quot;16-2timothy.xml&quot;</span><span class=\"nt\">/&gt;</span>\n",
       "<span class=\"nt\">&lt;book</span> <span class=\"na\">osisId=</span><span class=\"s\">&quot;Titus&quot;</span> <span class=\"na\">xml:base=</span><span class=\"s\">&quot;17-titus.xml&quot;</span><span class=\"nt\">/&gt;</span>\n",
       "<span class=\"nt\">&lt;book</span> <span class=\"na\">osisId=</span><span class=\"s\">&quot;Phlm&quot;</span> <span class=\"na\">xml:base=</span><span class=\"s\">&quot;18-philemon.xml&quot;</span><span class=\"nt\">/&gt;</span>\n",
       "<span class=\"nt\">&lt;book</span> <span class=\"na\">osisId=</span><span class=\"s\">&quot;Heb&quot;</span> <span class=\"na\">xml:base=</span><span class=\"s\">&quot;19-hebrews.xml&quot;</span><span class=\"nt\">/&gt;</span>\n",
       "<span class=\"nt\">&lt;book</span> <span class=\"na\">osisId=</span><span class=\"s\">&quot;Jas&quot;</span> <span class=\"na\">xml:base=</span><span class=\"s\">&quot;20-james.xml&quot;</span><span class=\"nt\">/&gt;</span>\n",
       "<span class=\"nt\">&lt;book</span> <span class=\"na\">osisId=</span><span class=\"s\">&quot;1Pet&quot;</span> <span class=\"na\">xml:base=</span><span class=\"s\">&quot;21-1peter.xml&quot;</span><span class=\"nt\">/&gt;</span>\n",
       "<span class=\"nt\">&lt;book</span> <span class=\"na\">osisId=</span><span class=\"s\">&quot;2Pet&quot;</span> <span class=\"na\">xml:base=</span><span class=\"s\">&quot;22-2peter.xml&quot;</span><span class=\"nt\">/&gt;</span>\n",
       "<span class=\"nt\">&lt;book</span> <span class=\"na\">osisId=</span><span class=\"s\">&quot;1John&quot;</span> <span class=\"na\">xml:base=</span><span class=\"s\">&quot;23-1john.xml&quot;</span><span class=\"nt\">/&gt;</span>\n",
       "<span class=\"nt\">&lt;book</span> <span class=\"na\">osisId=</span><span class=\"s\">&quot;2John&quot;</span> <span class=\"na\">xml:base=</span><span class=\"s\">&quot;24-2john.xml&quot;</span><span class=\"nt\">/&gt;</span>\n",
       "<span class=\"nt\">&lt;book</span> <span class=\"na\">osisId=</span><span class=\"s\">&quot;3John&quot;</span> <span class=\"na\">xml:base=</span><span class=\"s\">&quot;25-3john.xml&quot;</span><span class=\"nt\">/&gt;</span>\n",
       "<span class=\"nt\">&lt;book</span> <span class=\"na\">osisId=</span><span class=\"s\">&quot;Jude&quot;</span> <span class=\"na\">xml:base=</span><span class=\"s\">&quot;26-jude.xml&quot;</span><span class=\"nt\">/&gt;</span>\n",
       "<span class=\"nt\">&lt;book</span> <span class=\"na\">osisId=</span><span class=\"s\">&quot;Rev&quot;</span> <span class=\"na\">xml:base=</span><span class=\"s\">&quot;27-revelation.xml&quot;</span><span class=\"nt\">/&gt;</span>\n",
       "</pre></div>\n"
      ],
      "text/plain": [
       "<IPython.core.display.HTML object>"
      ]
     },
     "metadata": {},
     "output_type": "display_data"
    }
   ],
   "source": [
    "q = \"\"\"\n",
    "    for $book in //book\n",
    "    return\n",
    "       <book>\n",
    "         {\n",
    "            $book/@osisId,\n",
    "            $book/@xml:base\n",
    "         }\n",
    "       </book>\n",
    "\"\"\"\n",
    "\n",
    "xquery_display(q)"
   ]
  },
  {
   "cell_type": "markdown",
   "metadata": {},
   "source": [
    "### Verses"
   ]
  },
  {
   "cell_type": "markdown",
   "metadata": {},
   "source": [
    "Verses can be found in several ways. Each sentence has a milestone element identifying the starting verse for the sentence:\n",
    "\n",
    "```xml\n",
    " <sentence>\n",
    "    <milestone unit=\"verse\" id=\"Matt.1.1\">Matt.1.1</milestone>\n",
    "    <p>Βίβλος γενέσεως Ἰησοῦ Χριστοῦ υἱοῦ Δαυεὶδ υἱοῦ Ἀβραάμ.</p>\n",
    "```\n",
    "\n",
    "Note that the milestones correspond to the starting point of a sentence, so the count will be the same as the count of sentences. Because many verses contain multiple sentences, the number of milestones is larger than the number of verses.  Also, be aware that some sentences span multiple verses.\n",
    "\n",
    "Let's start by looking for the first and last verses in the Greek New Testament:"
   ]
  },
  {
   "cell_type": "code",
   "execution_count": 13,
   "metadata": {},
   "outputs": [
    {
     "data": {
      "text/html": [
       "<style type=\"text/css\">.highlight .hll { background-color: #ffffcc }\n",
       ".highlight  { background: #f8f8f8; }\n",
       ".highlight .c { color: #408080; font-style: italic } /* Comment */\n",
       ".highlight .err { border: 1px solid #FF0000 } /* Error */\n",
       ".highlight .k { color: #008000; font-weight: bold } /* Keyword */\n",
       ".highlight .o { color: #666666 } /* Operator */\n",
       ".highlight .ch { color: #408080; font-style: italic } /* Comment.Hashbang */\n",
       ".highlight .cm { color: #408080; font-style: italic } /* Comment.Multiline */\n",
       ".highlight .cp { color: #BC7A00 } /* Comment.Preproc */\n",
       ".highlight .cpf { color: #408080; font-style: italic } /* Comment.PreprocFile */\n",
       ".highlight .c1 { color: #408080; font-style: italic } /* Comment.Single */\n",
       ".highlight .cs { color: #408080; font-style: italic } /* Comment.Special */\n",
       ".highlight .gd { color: #A00000 } /* Generic.Deleted */\n",
       ".highlight .ge { font-style: italic } /* Generic.Emph */\n",
       ".highlight .gr { color: #FF0000 } /* Generic.Error */\n",
       ".highlight .gh { color: #000080; font-weight: bold } /* Generic.Heading */\n",
       ".highlight .gi { color: #00A000 } /* Generic.Inserted */\n",
       ".highlight .go { color: #888888 } /* Generic.Output */\n",
       ".highlight .gp { color: #000080; font-weight: bold } /* Generic.Prompt */\n",
       ".highlight .gs { font-weight: bold } /* Generic.Strong */\n",
       ".highlight .gu { color: #800080; font-weight: bold } /* Generic.Subheading */\n",
       ".highlight .gt { color: #0044DD } /* Generic.Traceback */\n",
       ".highlight .kc { color: #008000; font-weight: bold } /* Keyword.Constant */\n",
       ".highlight .kd { color: #008000; font-weight: bold } /* Keyword.Declaration */\n",
       ".highlight .kn { color: #008000; font-weight: bold } /* Keyword.Namespace */\n",
       ".highlight .kp { color: #008000 } /* Keyword.Pseudo */\n",
       ".highlight .kr { color: #008000; font-weight: bold } /* Keyword.Reserved */\n",
       ".highlight .kt { color: #B00040 } /* Keyword.Type */\n",
       ".highlight .m { color: #666666 } /* Literal.Number */\n",
       ".highlight .s { color: #BA2121 } /* Literal.String */\n",
       ".highlight .na { color: #7D9029 } /* Name.Attribute */\n",
       ".highlight .nb { color: #008000 } /* Name.Builtin */\n",
       ".highlight .nc { color: #0000FF; font-weight: bold } /* Name.Class */\n",
       ".highlight .no { color: #880000 } /* Name.Constant */\n",
       ".highlight .nd { color: #AA22FF } /* Name.Decorator */\n",
       ".highlight .ni { color: #999999; font-weight: bold } /* Name.Entity */\n",
       ".highlight .ne { color: #D2413A; font-weight: bold } /* Name.Exception */\n",
       ".highlight .nf { color: #0000FF } /* Name.Function */\n",
       ".highlight .nl { color: #A0A000 } /* Name.Label */\n",
       ".highlight .nn { color: #0000FF; font-weight: bold } /* Name.Namespace */\n",
       ".highlight .nt { color: #008000; font-weight: bold } /* Name.Tag */\n",
       ".highlight .nv { color: #19177C } /* Name.Variable */\n",
       ".highlight .ow { color: #AA22FF; font-weight: bold } /* Operator.Word */\n",
       ".highlight .w { color: #bbbbbb } /* Text.Whitespace */\n",
       ".highlight .mb { color: #666666 } /* Literal.Number.Bin */\n",
       ".highlight .mf { color: #666666 } /* Literal.Number.Float */\n",
       ".highlight .mh { color: #666666 } /* Literal.Number.Hex */\n",
       ".highlight .mi { color: #666666 } /* Literal.Number.Integer */\n",
       ".highlight .mo { color: #666666 } /* Literal.Number.Oct */\n",
       ".highlight .sa { color: #BA2121 } /* Literal.String.Affix */\n",
       ".highlight .sb { color: #BA2121 } /* Literal.String.Backtick */\n",
       ".highlight .sc { color: #BA2121 } /* Literal.String.Char */\n",
       ".highlight .dl { color: #BA2121 } /* Literal.String.Delimiter */\n",
       ".highlight .sd { color: #BA2121; font-style: italic } /* Literal.String.Doc */\n",
       ".highlight .s2 { color: #BA2121 } /* Literal.String.Double */\n",
       ".highlight .se { color: #BB6622; font-weight: bold } /* Literal.String.Escape */\n",
       ".highlight .sh { color: #BA2121 } /* Literal.String.Heredoc */\n",
       ".highlight .si { color: #BB6688; font-weight: bold } /* Literal.String.Interpol */\n",
       ".highlight .sx { color: #008000 } /* Literal.String.Other */\n",
       ".highlight .sr { color: #BB6688 } /* Literal.String.Regex */\n",
       ".highlight .s1 { color: #BA2121 } /* Literal.String.Single */\n",
       ".highlight .ss { color: #19177C } /* Literal.String.Symbol */\n",
       ".highlight .bp { color: #008000 } /* Name.Builtin.Pseudo */\n",
       ".highlight .fm { color: #0000FF } /* Name.Function.Magic */\n",
       ".highlight .vc { color: #19177C } /* Name.Variable.Class */\n",
       ".highlight .vg { color: #19177C } /* Name.Variable.Global */\n",
       ".highlight .vi { color: #19177C } /* Name.Variable.Instance */\n",
       ".highlight .vm { color: #19177C } /* Name.Variable.Magic */\n",
       ".highlight .il { color: #666666 } /* Literal.Number.Integer.Long */</style><div class=\"highlight\"><pre><span></span><span class=\"nt\">&lt;milestone</span> <span class=\"na\">xmlns:xi=</span><span class=\"s\">&quot;http://www.w3.org/2001/XInclude&quot;</span> <span class=\"na\">unit=</span><span class=\"s\">&quot;verse&quot;</span> <span class=\"na\">id=</span><span class=\"s\">&quot;Matt.1.1&quot;</span><span class=\"nt\">&gt;</span>Matt.1.1<span class=\"nt\">&lt;/milestone&gt;</span>\n",
       "</pre></div>\n"
      ],
      "text/plain": [
       "<IPython.core.display.HTML object>"
      ]
     },
     "metadata": {},
     "output_type": "display_data"
    }
   ],
   "source": [
    "xquery_display('(//milestone[@unit=\"verse\"])[1]')"
   ]
  },
  {
   "cell_type": "code",
   "execution_count": 14,
   "metadata": {},
   "outputs": [
    {
     "data": {
      "text/html": [
       "<style type=\"text/css\">.highlight .hll { background-color: #ffffcc }\n",
       ".highlight  { background: #f8f8f8; }\n",
       ".highlight .c { color: #408080; font-style: italic } /* Comment */\n",
       ".highlight .err { border: 1px solid #FF0000 } /* Error */\n",
       ".highlight .k { color: #008000; font-weight: bold } /* Keyword */\n",
       ".highlight .o { color: #666666 } /* Operator */\n",
       ".highlight .ch { color: #408080; font-style: italic } /* Comment.Hashbang */\n",
       ".highlight .cm { color: #408080; font-style: italic } /* Comment.Multiline */\n",
       ".highlight .cp { color: #BC7A00 } /* Comment.Preproc */\n",
       ".highlight .cpf { color: #408080; font-style: italic } /* Comment.PreprocFile */\n",
       ".highlight .c1 { color: #408080; font-style: italic } /* Comment.Single */\n",
       ".highlight .cs { color: #408080; font-style: italic } /* Comment.Special */\n",
       ".highlight .gd { color: #A00000 } /* Generic.Deleted */\n",
       ".highlight .ge { font-style: italic } /* Generic.Emph */\n",
       ".highlight .gr { color: #FF0000 } /* Generic.Error */\n",
       ".highlight .gh { color: #000080; font-weight: bold } /* Generic.Heading */\n",
       ".highlight .gi { color: #00A000 } /* Generic.Inserted */\n",
       ".highlight .go { color: #888888 } /* Generic.Output */\n",
       ".highlight .gp { color: #000080; font-weight: bold } /* Generic.Prompt */\n",
       ".highlight .gs { font-weight: bold } /* Generic.Strong */\n",
       ".highlight .gu { color: #800080; font-weight: bold } /* Generic.Subheading */\n",
       ".highlight .gt { color: #0044DD } /* Generic.Traceback */\n",
       ".highlight .kc { color: #008000; font-weight: bold } /* Keyword.Constant */\n",
       ".highlight .kd { color: #008000; font-weight: bold } /* Keyword.Declaration */\n",
       ".highlight .kn { color: #008000; font-weight: bold } /* Keyword.Namespace */\n",
       ".highlight .kp { color: #008000 } /* Keyword.Pseudo */\n",
       ".highlight .kr { color: #008000; font-weight: bold } /* Keyword.Reserved */\n",
       ".highlight .kt { color: #B00040 } /* Keyword.Type */\n",
       ".highlight .m { color: #666666 } /* Literal.Number */\n",
       ".highlight .s { color: #BA2121 } /* Literal.String */\n",
       ".highlight .na { color: #7D9029 } /* Name.Attribute */\n",
       ".highlight .nb { color: #008000 } /* Name.Builtin */\n",
       ".highlight .nc { color: #0000FF; font-weight: bold } /* Name.Class */\n",
       ".highlight .no { color: #880000 } /* Name.Constant */\n",
       ".highlight .nd { color: #AA22FF } /* Name.Decorator */\n",
       ".highlight .ni { color: #999999; font-weight: bold } /* Name.Entity */\n",
       ".highlight .ne { color: #D2413A; font-weight: bold } /* Name.Exception */\n",
       ".highlight .nf { color: #0000FF } /* Name.Function */\n",
       ".highlight .nl { color: #A0A000 } /* Name.Label */\n",
       ".highlight .nn { color: #0000FF; font-weight: bold } /* Name.Namespace */\n",
       ".highlight .nt { color: #008000; font-weight: bold } /* Name.Tag */\n",
       ".highlight .nv { color: #19177C } /* Name.Variable */\n",
       ".highlight .ow { color: #AA22FF; font-weight: bold } /* Operator.Word */\n",
       ".highlight .w { color: #bbbbbb } /* Text.Whitespace */\n",
       ".highlight .mb { color: #666666 } /* Literal.Number.Bin */\n",
       ".highlight .mf { color: #666666 } /* Literal.Number.Float */\n",
       ".highlight .mh { color: #666666 } /* Literal.Number.Hex */\n",
       ".highlight .mi { color: #666666 } /* Literal.Number.Integer */\n",
       ".highlight .mo { color: #666666 } /* Literal.Number.Oct */\n",
       ".highlight .sa { color: #BA2121 } /* Literal.String.Affix */\n",
       ".highlight .sb { color: #BA2121 } /* Literal.String.Backtick */\n",
       ".highlight .sc { color: #BA2121 } /* Literal.String.Char */\n",
       ".highlight .dl { color: #BA2121 } /* Literal.String.Delimiter */\n",
       ".highlight .sd { color: #BA2121; font-style: italic } /* Literal.String.Doc */\n",
       ".highlight .s2 { color: #BA2121 } /* Literal.String.Double */\n",
       ".highlight .se { color: #BB6622; font-weight: bold } /* Literal.String.Escape */\n",
       ".highlight .sh { color: #BA2121 } /* Literal.String.Heredoc */\n",
       ".highlight .si { color: #BB6688; font-weight: bold } /* Literal.String.Interpol */\n",
       ".highlight .sx { color: #008000 } /* Literal.String.Other */\n",
       ".highlight .sr { color: #BB6688 } /* Literal.String.Regex */\n",
       ".highlight .s1 { color: #BA2121 } /* Literal.String.Single */\n",
       ".highlight .ss { color: #19177C } /* Literal.String.Symbol */\n",
       ".highlight .bp { color: #008000 } /* Name.Builtin.Pseudo */\n",
       ".highlight .fm { color: #0000FF } /* Name.Function.Magic */\n",
       ".highlight .vc { color: #19177C } /* Name.Variable.Class */\n",
       ".highlight .vg { color: #19177C } /* Name.Variable.Global */\n",
       ".highlight .vi { color: #19177C } /* Name.Variable.Instance */\n",
       ".highlight .vm { color: #19177C } /* Name.Variable.Magic */\n",
       ".highlight .il { color: #666666 } /* Literal.Number.Integer.Long */</style><div class=\"highlight\"><pre><span></span><span class=\"nt\">&lt;milestone</span> <span class=\"na\">xmlns:xi=</span><span class=\"s\">&quot;http://www.w3.org/2001/XInclude&quot;</span> <span class=\"na\">unit=</span><span class=\"s\">&quot;verse&quot;</span> <span class=\"na\">id=</span><span class=\"s\">&quot;Rev.22.21&quot;</span><span class=\"nt\">&gt;</span>Rev.22.21<span class=\"nt\">&lt;/milestone&gt;</span>\n",
       "</pre></div>\n"
      ],
      "text/plain": [
       "<IPython.core.display.HTML object>"
      ]
     },
     "metadata": {},
     "output_type": "display_data"
    }
   ],
   "source": [
    "xquery_display('(//milestone[@unit=\"verse\"])[last()]')"
   ]
  },
  {
   "cell_type": "markdown",
   "metadata": {},
   "source": [
    "You can search for verses in a book by looking for milestones with `id` attributes that start with the name of the book: "
   ]
  },
  {
   "cell_type": "code",
   "execution_count": 15,
   "metadata": {
    "collapsed": true
   },
   "outputs": [],
   "source": [
    "john_verses = xquery('//milestone[@unit=\"verse\" and starts-with(@id, \"John.\")]')"
   ]
  },
  {
   "cell_type": "markdown",
   "metadata": {},
   "source": [
    "You can search for verses in a chapter by looking for milestones with `id` attributes that start with the name of the book and a chapter number: "
   ]
  },
  {
   "cell_type": "code",
   "execution_count": 16,
   "metadata": {
    "collapsed": true
   },
   "outputs": [],
   "source": [
    "john3_verses = xquery('//milestone[@unit=\"verse\" and starts-with(@id, \"John.3\")]')"
   ]
  },
  {
   "cell_type": "markdown",
   "metadata": {},
   "source": [
    "## Syntactic Units:  Sentences, Clauses, Phrases, Word Groups, and Words"
   ]
  },
  {
   "cell_type": "markdown",
   "metadata": {},
   "source": [
    "Let's look at the sentences, clauses, and words in our treebank.  \n",
    "\n",
    "### Sentences\n",
    "\n",
    "First, let's count all sentences in our treebank:"
   ]
  },
  {
   "cell_type": "code",
   "execution_count": 17,
   "metadata": {},
   "outputs": [
    {
     "data": {
      "text/plain": [
       "'8011'"
      ]
     },
     "execution_count": 17,
     "metadata": {},
     "output_type": "execute_result"
    }
   ],
   "source": [
    "xquery('count(//sentence)')"
   ]
  },
  {
   "cell_type": "markdown",
   "metadata": {},
   "source": [
    "You can use milestones to identify sentences. Let's look at just the sentences in John 3 - that is, sentences containing a `milestone` with an `id` attribute that starts with the string `John.3.`"
   ]
  },
  {
   "cell_type": "code",
   "execution_count": 18,
   "metadata": {},
   "outputs": [
    {
     "data": {
      "text/plain": [
       "'42'"
      ]
     },
     "execution_count": 18,
     "metadata": {},
     "output_type": "execute_result"
    }
   ],
   "source": [
    "xquery('count(//sentence[ milestone[starts-with(@id, \"John.3.\")] ] )')"
   ]
  },
  {
   "cell_type": "markdown",
   "metadata": {},
   "source": [
    "Let's show the syntax tree for the sentence that contains John 3:16:"
   ]
  },
  {
   "cell_type": "code",
   "execution_count": 19,
   "metadata": {},
   "outputs": [
    {
     "data": {
      "text/html": [
       "<style type=\"text/css\">.highlight .hll { background-color: #ffffcc }\n",
       ".highlight  { background: #f8f8f8; }\n",
       ".highlight .c { color: #408080; font-style: italic } /* Comment */\n",
       ".highlight .err { border: 1px solid #FF0000 } /* Error */\n",
       ".highlight .k { color: #008000; font-weight: bold } /* Keyword */\n",
       ".highlight .o { color: #666666 } /* Operator */\n",
       ".highlight .ch { color: #408080; font-style: italic } /* Comment.Hashbang */\n",
       ".highlight .cm { color: #408080; font-style: italic } /* Comment.Multiline */\n",
       ".highlight .cp { color: #BC7A00 } /* Comment.Preproc */\n",
       ".highlight .cpf { color: #408080; font-style: italic } /* Comment.PreprocFile */\n",
       ".highlight .c1 { color: #408080; font-style: italic } /* Comment.Single */\n",
       ".highlight .cs { color: #408080; font-style: italic } /* Comment.Special */\n",
       ".highlight .gd { color: #A00000 } /* Generic.Deleted */\n",
       ".highlight .ge { font-style: italic } /* Generic.Emph */\n",
       ".highlight .gr { color: #FF0000 } /* Generic.Error */\n",
       ".highlight .gh { color: #000080; font-weight: bold } /* Generic.Heading */\n",
       ".highlight .gi { color: #00A000 } /* Generic.Inserted */\n",
       ".highlight .go { color: #888888 } /* Generic.Output */\n",
       ".highlight .gp { color: #000080; font-weight: bold } /* Generic.Prompt */\n",
       ".highlight .gs { font-weight: bold } /* Generic.Strong */\n",
       ".highlight .gu { color: #800080; font-weight: bold } /* Generic.Subheading */\n",
       ".highlight .gt { color: #0044DD } /* Generic.Traceback */\n",
       ".highlight .kc { color: #008000; font-weight: bold } /* Keyword.Constant */\n",
       ".highlight .kd { color: #008000; font-weight: bold } /* Keyword.Declaration */\n",
       ".highlight .kn { color: #008000; font-weight: bold } /* Keyword.Namespace */\n",
       ".highlight .kp { color: #008000 } /* Keyword.Pseudo */\n",
       ".highlight .kr { color: #008000; font-weight: bold } /* Keyword.Reserved */\n",
       ".highlight .kt { color: #B00040 } /* Keyword.Type */\n",
       ".highlight .m { color: #666666 } /* Literal.Number */\n",
       ".highlight .s { color: #BA2121 } /* Literal.String */\n",
       ".highlight .na { color: #7D9029 } /* Name.Attribute */\n",
       ".highlight .nb { color: #008000 } /* Name.Builtin */\n",
       ".highlight .nc { color: #0000FF; font-weight: bold } /* Name.Class */\n",
       ".highlight .no { color: #880000 } /* Name.Constant */\n",
       ".highlight .nd { color: #AA22FF } /* Name.Decorator */\n",
       ".highlight .ni { color: #999999; font-weight: bold } /* Name.Entity */\n",
       ".highlight .ne { color: #D2413A; font-weight: bold } /* Name.Exception */\n",
       ".highlight .nf { color: #0000FF } /* Name.Function */\n",
       ".highlight .nl { color: #A0A000 } /* Name.Label */\n",
       ".highlight .nn { color: #0000FF; font-weight: bold } /* Name.Namespace */\n",
       ".highlight .nt { color: #008000; font-weight: bold } /* Name.Tag */\n",
       ".highlight .nv { color: #19177C } /* Name.Variable */\n",
       ".highlight .ow { color: #AA22FF; font-weight: bold } /* Operator.Word */\n",
       ".highlight .w { color: #bbbbbb } /* Text.Whitespace */\n",
       ".highlight .mb { color: #666666 } /* Literal.Number.Bin */\n",
       ".highlight .mf { color: #666666 } /* Literal.Number.Float */\n",
       ".highlight .mh { color: #666666 } /* Literal.Number.Hex */\n",
       ".highlight .mi { color: #666666 } /* Literal.Number.Integer */\n",
       ".highlight .mo { color: #666666 } /* Literal.Number.Oct */\n",
       ".highlight .sa { color: #BA2121 } /* Literal.String.Affix */\n",
       ".highlight .sb { color: #BA2121 } /* Literal.String.Backtick */\n",
       ".highlight .sc { color: #BA2121 } /* Literal.String.Char */\n",
       ".highlight .dl { color: #BA2121 } /* Literal.String.Delimiter */\n",
       ".highlight .sd { color: #BA2121; font-style: italic } /* Literal.String.Doc */\n",
       ".highlight .s2 { color: #BA2121 } /* Literal.String.Double */\n",
       ".highlight .se { color: #BB6622; font-weight: bold } /* Literal.String.Escape */\n",
       ".highlight .sh { color: #BA2121 } /* Literal.String.Heredoc */\n",
       ".highlight .si { color: #BB6688; font-weight: bold } /* Literal.String.Interpol */\n",
       ".highlight .sx { color: #008000 } /* Literal.String.Other */\n",
       ".highlight .sr { color: #BB6688 } /* Literal.String.Regex */\n",
       ".highlight .s1 { color: #BA2121 } /* Literal.String.Single */\n",
       ".highlight .ss { color: #19177C } /* Literal.String.Symbol */\n",
       ".highlight .bp { color: #008000 } /* Name.Builtin.Pseudo */\n",
       ".highlight .fm { color: #0000FF } /* Name.Function.Magic */\n",
       ".highlight .vc { color: #19177C } /* Name.Variable.Class */\n",
       ".highlight .vg { color: #19177C } /* Name.Variable.Global */\n",
       ".highlight .vi { color: #19177C } /* Name.Variable.Instance */\n",
       ".highlight .vm { color: #19177C } /* Name.Variable.Magic */\n",
       ".highlight .il { color: #666666 } /* Literal.Number.Integer.Long */</style><div class=\"highlight\"><pre><span></span><span class=\"nt\">&lt;sentence</span> <span class=\"na\">xmlns:xi=</span><span class=\"s\">&quot;http://www.w3.org/2001/XInclude&quot;</span><span class=\"nt\">&gt;</span>\n",
       "  <span class=\"nt\">&lt;milestone</span> <span class=\"na\">unit=</span><span class=\"s\">&quot;verse&quot;</span> <span class=\"na\">id=</span><span class=\"s\">&quot;John.3.16&quot;</span><span class=\"nt\">&gt;</span>John.3.16<span class=\"nt\">&lt;/milestone&gt;</span>\n",
       "  <span class=\"nt\">&lt;p&gt;</span>Οὕτως γὰρ ἠγάπησεν ὁ Θεὸς τὸν κόσμον, ὥστε τὸν Υἱὸν τὸν μονογενῆ ἔδωκεν, ἵνα πᾶς ὁ πιστεύων εἰς αὐτὸν μὴ ἀπόληται ἀλλ’ ἔχῃ ζωὴν αἰώνιον.<span class=\"nt\">&lt;/p&gt;</span>\n",
       "  <span class=\"nt\">&lt;wg</span> <span class=\"na\">class=</span><span class=\"s\">&quot;cl&quot;</span><span class=\"nt\">&gt;</span>\n",
       "    <span class=\"nt\">&lt;wg</span> <span class=\"na\">class=</span><span class=\"s\">&quot;cl&quot;</span> <span class=\"na\">n=</span><span class=\"s\">&quot;430030160020250&quot;</span><span class=\"nt\">&gt;</span>\n",
       "      <span class=\"nt\">&lt;w</span> <span class=\"na\">class=</span><span class=\"s\">&quot;conj&quot;</span> <span class=\"na\">osisId=</span><span class=\"s\">&quot;John.3.16!2&quot;</span> <span class=\"na\">n=</span><span class=\"s\">&quot;430030160020010&quot;</span> <span class=\"na\">lemma=</span><span class=\"s\">&quot;γάρ&quot;</span> <span class=\"na\">normalized=</span><span class=\"s\">&quot;γάρ&quot;</span> <span class=\"na\">strong=</span><span class=\"s\">&quot;1063&quot;</span> <span class=\"na\">discontinuous=</span><span class=\"s\">&quot;true&quot;</span><span class=\"nt\">&gt;</span>γὰρ<span class=\"nt\">&lt;/w&gt;</span>\n",
       "      <span class=\"nt\">&lt;wg</span> <span class=\"na\">class=</span><span class=\"s\">&quot;cl&quot;</span> <span class=\"na\">n=</span><span class=\"s\">&quot;430030160010240&quot;</span><span class=\"nt\">&gt;</span>\n",
       "        <span class=\"nt\">&lt;wg</span> <span class=\"na\">class=</span><span class=\"s\">&quot;cl&quot;</span> <span class=\"na\">n=</span><span class=\"s\">&quot;430030160010060&quot;</span> <span class=\"na\">head=</span><span class=\"s\">&quot;true&quot;</span><span class=\"nt\">&gt;</span>\n",
       "          <span class=\"nt\">&lt;w</span> <span class=\"na\">role=</span><span class=\"s\">&quot;adv&quot;</span> <span class=\"na\">class=</span><span class=\"s\">&quot;adv&quot;</span> <span class=\"na\">osisId=</span><span class=\"s\">&quot;John.3.16!1&quot;</span> <span class=\"na\">n=</span><span class=\"s\">&quot;430030160010010&quot;</span> <span class=\"na\">lemma=</span><span class=\"s\">&quot;οὕτω&quot;</span> <span class=\"na\">normalized=</span><span class=\"s\">&quot;Οὕτως&quot;</span> <span class=\"na\">strong=</span><span class=\"s\">&quot;3779&quot;</span><span class=\"nt\">&gt;</span>Οὕτως<span class=\"nt\">&lt;/w&gt;</span>\n",
       "          <span class=\"nt\">&lt;w</span> <span class=\"na\">role=</span><span class=\"s\">&quot;v&quot;</span> <span class=\"na\">class=</span><span class=\"s\">&quot;verb&quot;</span> <span class=\"na\">osisId=</span><span class=\"s\">&quot;John.3.16!3&quot;</span> <span class=\"na\">n=</span><span class=\"s\">&quot;430030160030010&quot;</span> <span class=\"na\">lemma=</span><span class=\"s\">&quot;ἀγαπάω&quot;</span> <span class=\"na\">normalized=</span><span class=\"s\">&quot;ἠγάπησεν&quot;</span> <span class=\"na\">strong=</span><span class=\"s\">&quot;25&quot;</span> <span class=\"na\">number=</span><span class=\"s\">&quot;singular&quot;</span> <span class=\"na\">person=</span><span class=\"s\">&quot;third&quot;</span> <span class=\"na\">tense=</span><span class=\"s\">&quot;aorist&quot;</span> <span class=\"na\">voice=</span><span class=\"s\">&quot;active&quot;</span> <span class=\"na\">mood=</span><span class=\"s\">&quot;indicative&quot;</span> <span class=\"na\">head=</span><span class=\"s\">&quot;true&quot;</span><span class=\"nt\">&gt;</span>ἠγάπησεν<span class=\"nt\">&lt;/w&gt;</span>\n",
       "          <span class=\"nt\">&lt;wg</span> <span class=\"na\">role=</span><span class=\"s\">&quot;s&quot;</span> <span class=\"na\">class=</span><span class=\"s\">&quot;np&quot;</span> <span class=\"na\">n=</span><span class=\"s\">&quot;430030160040020&quot;</span> <span class=\"na\">articular=</span><span class=\"s\">&quot;true&quot;</span><span class=\"nt\">&gt;</span>\n",
       "            <span class=\"nt\">&lt;w</span> <span class=\"na\">class=</span><span class=\"s\">&quot;det&quot;</span> <span class=\"na\">osisId=</span><span class=\"s\">&quot;John.3.16!4&quot;</span> <span class=\"na\">n=</span><span class=\"s\">&quot;430030160040010&quot;</span> <span class=\"na\">lemma=</span><span class=\"s\">&quot;ὁ&quot;</span> <span class=\"na\">normalized=</span><span class=\"s\">&quot;ὁ&quot;</span> <span class=\"na\">strong=</span><span class=\"s\">&quot;3588&quot;</span> <span class=\"na\">number=</span><span class=\"s\">&quot;singular&quot;</span> <span class=\"na\">gender=</span><span class=\"s\">&quot;masculine&quot;</span> <span class=\"na\">case=</span><span class=\"s\">&quot;nominative&quot;</span><span class=\"nt\">&gt;</span>ὁ<span class=\"nt\">&lt;/w&gt;</span>\n",
       "            <span class=\"nt\">&lt;w</span> <span class=\"na\">class=</span><span class=\"s\">&quot;noun&quot;</span> <span class=\"na\">type=</span><span class=\"s\">&quot;common&quot;</span> <span class=\"na\">osisId=</span><span class=\"s\">&quot;John.3.16!5&quot;</span> <span class=\"na\">n=</span><span class=\"s\">&quot;430030160050010&quot;</span> <span class=\"na\">lemma=</span><span class=\"s\">&quot;θεός&quot;</span> <span class=\"na\">normalized=</span><span class=\"s\">&quot;Θεός&quot;</span> <span class=\"na\">strong=</span><span class=\"s\">&quot;2316&quot;</span> <span class=\"na\">number=</span><span class=\"s\">&quot;singular&quot;</span> <span class=\"na\">gender=</span><span class=\"s\">&quot;masculine&quot;</span> <span class=\"na\">case=</span><span class=\"s\">&quot;nominative&quot;</span> <span class=\"na\">head=</span><span class=\"s\">&quot;true&quot;</span><span class=\"nt\">&gt;</span>Θεὸς<span class=\"nt\">&lt;/w&gt;</span>\n",
       "          <span class=\"nt\">&lt;/wg&gt;</span>\n",
       "          <span class=\"nt\">&lt;wg</span> <span class=\"na\">role=</span><span class=\"s\">&quot;o&quot;</span> <span class=\"na\">class=</span><span class=\"s\">&quot;np&quot;</span> <span class=\"na\">n=</span><span class=\"s\">&quot;430030160060020&quot;</span> <span class=\"na\">articular=</span><span class=\"s\">&quot;true&quot;</span><span class=\"nt\">&gt;</span>\n",
       "            <span class=\"nt\">&lt;w</span> <span class=\"na\">class=</span><span class=\"s\">&quot;det&quot;</span> <span class=\"na\">osisId=</span><span class=\"s\">&quot;John.3.16!6&quot;</span> <span class=\"na\">n=</span><span class=\"s\">&quot;430030160060010&quot;</span> <span class=\"na\">lemma=</span><span class=\"s\">&quot;ὁ&quot;</span> <span class=\"na\">normalized=</span><span class=\"s\">&quot;τόν&quot;</span> <span class=\"na\">strong=</span><span class=\"s\">&quot;3588&quot;</span> <span class=\"na\">number=</span><span class=\"s\">&quot;singular&quot;</span> <span class=\"na\">gender=</span><span class=\"s\">&quot;masculine&quot;</span> <span class=\"na\">case=</span><span class=\"s\">&quot;accusative&quot;</span><span class=\"nt\">&gt;</span>τὸν<span class=\"nt\">&lt;/w&gt;</span>\n",
       "            <span class=\"nt\">&lt;w</span> <span class=\"na\">class=</span><span class=\"s\">&quot;noun&quot;</span> <span class=\"na\">type=</span><span class=\"s\">&quot;common&quot;</span> <span class=\"na\">osisId=</span><span class=\"s\">&quot;John.3.16!7&quot;</span> <span class=\"na\">n=</span><span class=\"s\">&quot;430030160070010&quot;</span> <span class=\"na\">lemma=</span><span class=\"s\">&quot;κόσμος&quot;</span> <span class=\"na\">normalized=</span><span class=\"s\">&quot;κόσμον&quot;</span> <span class=\"na\">strong=</span><span class=\"s\">&quot;2889&quot;</span> <span class=\"na\">number=</span><span class=\"s\">&quot;singular&quot;</span> <span class=\"na\">gender=</span><span class=\"s\">&quot;masculine&quot;</span> <span class=\"na\">case=</span><span class=\"s\">&quot;accusative&quot;</span> <span class=\"na\">head=</span><span class=\"s\">&quot;true&quot;</span><span class=\"nt\">&gt;</span>κόσμον,<span class=\"nt\">&lt;/w&gt;</span>\n",
       "          <span class=\"nt\">&lt;/wg&gt;</span>\n",
       "        <span class=\"nt\">&lt;/wg&gt;</span>\n",
       "        <span class=\"nt\">&lt;wg</span> <span class=\"na\">class=</span><span class=\"s\">&quot;cl&quot;</span> <span class=\"na\">n=</span><span class=\"s\">&quot;430030160080180&quot;</span><span class=\"nt\">&gt;</span>\n",
       "          <span class=\"nt\">&lt;w</span> <span class=\"na\">class=</span><span class=\"s\">&quot;conj&quot;</span> <span class=\"na\">osisId=</span><span class=\"s\">&quot;John.3.16!8&quot;</span> <span class=\"na\">n=</span><span class=\"s\">&quot;430030160080010&quot;</span> <span class=\"na\">lemma=</span><span class=\"s\">&quot;ὥστε&quot;</span> <span class=\"na\">normalized=</span><span class=\"s\">&quot;ὥστε&quot;</span> <span class=\"na\">strong=</span><span class=\"s\">&quot;5620&quot;</span><span class=\"nt\">&gt;</span>ὥστε<span class=\"nt\">&lt;/w&gt;</span>\n",
       "          <span class=\"nt\">&lt;wg</span> <span class=\"na\">class=</span><span class=\"s\">&quot;cl&quot;</span> <span class=\"na\">n=</span><span class=\"s\">&quot;430030160090170&quot;</span><span class=\"nt\">&gt;</span>\n",
       "            <span class=\"nt\">&lt;wg</span> <span class=\"na\">class=</span><span class=\"s\">&quot;cl&quot;</span> <span class=\"na\">n=</span><span class=\"s\">&quot;430030160090050&quot;</span> <span class=\"na\">head=</span><span class=\"s\">&quot;true&quot;</span><span class=\"nt\">&gt;</span>\n",
       "              <span class=\"nt\">&lt;wg</span> <span class=\"na\">role=</span><span class=\"s\">&quot;o&quot;</span> <span class=\"na\">class=</span><span class=\"s\">&quot;np&quot;</span> <span class=\"na\">n=</span><span class=\"s\">&quot;430030160090040&quot;</span> <span class=\"na\">articular=</span><span class=\"s\">&quot;true&quot;</span><span class=\"nt\">&gt;</span>\n",
       "                <span class=\"nt\">&lt;w</span> <span class=\"na\">class=</span><span class=\"s\">&quot;det&quot;</span> <span class=\"na\">osisId=</span><span class=\"s\">&quot;John.3.16!9&quot;</span> <span class=\"na\">n=</span><span class=\"s\">&quot;430030160090010&quot;</span> <span class=\"na\">lemma=</span><span class=\"s\">&quot;ὁ&quot;</span> <span class=\"na\">normalized=</span><span class=\"s\">&quot;τόν&quot;</span> <span class=\"na\">strong=</span><span class=\"s\">&quot;3588&quot;</span> <span class=\"na\">number=</span><span class=\"s\">&quot;singular&quot;</span> <span class=\"na\">gender=</span><span class=\"s\">&quot;masculine&quot;</span> <span class=\"na\">case=</span><span class=\"s\">&quot;accusative&quot;</span><span class=\"nt\">&gt;</span>τὸν<span class=\"nt\">&lt;/w&gt;</span>\n",
       "                <span class=\"nt\">&lt;wg</span> <span class=\"na\">class=</span><span class=\"s\">&quot;np&quot;</span> <span class=\"na\">n=</span><span class=\"s\">&quot;430030160100030&quot;</span> <span class=\"na\">head=</span><span class=\"s\">&quot;true&quot;</span><span class=\"nt\">&gt;</span>\n",
       "                  <span class=\"nt\">&lt;w</span> <span class=\"na\">class=</span><span class=\"s\">&quot;noun&quot;</span> <span class=\"na\">type=</span><span class=\"s\">&quot;common&quot;</span> <span class=\"na\">osisId=</span><span class=\"s\">&quot;John.3.16!10&quot;</span> <span class=\"na\">n=</span><span class=\"s\">&quot;430030160100010&quot;</span> <span class=\"na\">lemma=</span><span class=\"s\">&quot;υἱός&quot;</span> <span class=\"na\">normalized=</span><span class=\"s\">&quot;Υἱόν&quot;</span> <span class=\"na\">strong=</span><span class=\"s\">&quot;5207&quot;</span> <span class=\"na\">number=</span><span class=\"s\">&quot;singular&quot;</span> <span class=\"na\">gender=</span><span class=\"s\">&quot;masculine&quot;</span> <span class=\"na\">case=</span><span class=\"s\">&quot;accusative&quot;</span> <span class=\"na\">head=</span><span class=\"s\">&quot;true&quot;</span><span class=\"nt\">&gt;</span>Υἱὸν<span class=\"nt\">&lt;/w&gt;</span>\n",
       "                  <span class=\"nt\">&lt;wg</span> <span class=\"na\">class=</span><span class=\"s\">&quot;np&quot;</span> <span class=\"na\">n=</span><span class=\"s\">&quot;430030160110020&quot;</span> <span class=\"na\">articular=</span><span class=\"s\">&quot;true&quot;</span><span class=\"nt\">&gt;</span>\n",
       "                    <span class=\"nt\">&lt;w</span> <span class=\"na\">class=</span><span class=\"s\">&quot;det&quot;</span> <span class=\"na\">osisId=</span><span class=\"s\">&quot;John.3.16!11&quot;</span> <span class=\"na\">n=</span><span class=\"s\">&quot;430030160110010&quot;</span> <span class=\"na\">lemma=</span><span class=\"s\">&quot;ὁ&quot;</span> <span class=\"na\">normalized=</span><span class=\"s\">&quot;τόν&quot;</span> <span class=\"na\">strong=</span><span class=\"s\">&quot;3588&quot;</span> <span class=\"na\">number=</span><span class=\"s\">&quot;singular&quot;</span> <span class=\"na\">gender=</span><span class=\"s\">&quot;masculine&quot;</span> <span class=\"na\">case=</span><span class=\"s\">&quot;accusative&quot;</span><span class=\"nt\">&gt;</span>τὸν<span class=\"nt\">&lt;/w&gt;</span>\n",
       "                    <span class=\"nt\">&lt;w</span> <span class=\"na\">class=</span><span class=\"s\">&quot;adj&quot;</span> <span class=\"na\">osisId=</span><span class=\"s\">&quot;John.3.16!12&quot;</span> <span class=\"na\">n=</span><span class=\"s\">&quot;430030160120010&quot;</span> <span class=\"na\">lemma=</span><span class=\"s\">&quot;μονογενής&quot;</span> <span class=\"na\">normalized=</span><span class=\"s\">&quot;μονογενῆ&quot;</span> <span class=\"na\">strong=</span><span class=\"s\">&quot;3439&quot;</span> <span class=\"na\">number=</span><span class=\"s\">&quot;singular&quot;</span> <span class=\"na\">gender=</span><span class=\"s\">&quot;masculine&quot;</span> <span class=\"na\">case=</span><span class=\"s\">&quot;accusative&quot;</span> <span class=\"na\">head=</span><span class=\"s\">&quot;true&quot;</span><span class=\"nt\">&gt;</span>μονογενῆ<span class=\"nt\">&lt;/w&gt;</span>\n",
       "                  <span class=\"nt\">&lt;/wg&gt;</span>\n",
       "                <span class=\"nt\">&lt;/wg&gt;</span>\n",
       "              <span class=\"nt\">&lt;/wg&gt;</span>\n",
       "              <span class=\"nt\">&lt;w</span> <span class=\"na\">role=</span><span class=\"s\">&quot;v&quot;</span> <span class=\"na\">class=</span><span class=\"s\">&quot;verb&quot;</span> <span class=\"na\">osisId=</span><span class=\"s\">&quot;John.3.16!13&quot;</span> <span class=\"na\">n=</span><span class=\"s\">&quot;430030160130010&quot;</span> <span class=\"na\">lemma=</span><span class=\"s\">&quot;δίδωμι&quot;</span> <span class=\"na\">normalized=</span><span class=\"s\">&quot;ἔδωκεν&quot;</span> <span class=\"na\">strong=</span><span class=\"s\">&quot;1325&quot;</span> <span class=\"na\">number=</span><span class=\"s\">&quot;singular&quot;</span> <span class=\"na\">person=</span><span class=\"s\">&quot;third&quot;</span> <span class=\"na\">tense=</span><span class=\"s\">&quot;aorist&quot;</span> <span class=\"na\">voice=</span><span class=\"s\">&quot;active&quot;</span> <span class=\"na\">mood=</span><span class=\"s\">&quot;indicative&quot;</span> <span class=\"na\">head=</span><span class=\"s\">&quot;true&quot;</span><span class=\"nt\">&gt;</span>ἔδωκεν,<span class=\"nt\">&lt;/w&gt;</span>\n",
       "            <span class=\"nt\">&lt;/wg&gt;</span>\n",
       "            <span class=\"nt\">&lt;wg</span> <span class=\"na\">class=</span><span class=\"s\">&quot;cl&quot;</span> <span class=\"na\">n=</span><span class=\"s\">&quot;430030160140120&quot;</span><span class=\"nt\">&gt;</span>\n",
       "              <span class=\"nt\">&lt;w</span> <span class=\"na\">class=</span><span class=\"s\">&quot;conj&quot;</span> <span class=\"na\">osisId=</span><span class=\"s\">&quot;John.3.16!14&quot;</span> <span class=\"na\">n=</span><span class=\"s\">&quot;430030160140010&quot;</span> <span class=\"na\">lemma=</span><span class=\"s\">&quot;ἵνα&quot;</span> <span class=\"na\">normalized=</span><span class=\"s\">&quot;ἵνα&quot;</span> <span class=\"na\">strong=</span><span class=\"s\">&quot;2443&quot;</span><span class=\"nt\">&gt;</span>ἵνα<span class=\"nt\">&lt;/w&gt;</span>\n",
       "              <span class=\"nt\">&lt;wg</span> <span class=\"na\">class=</span><span class=\"s\">&quot;cl&quot;</span> <span class=\"na\">n=</span><span class=\"s\">&quot;430030160150110&quot;</span><span class=\"nt\">&gt;</span>\n",
       "                <span class=\"nt\">&lt;wg</span> <span class=\"na\">class=</span><span class=\"s\">&quot;cl&quot;</span> <span class=\"na\">n=</span><span class=\"s\">&quot;430030160150070&quot;</span> <span class=\"na\">head=</span><span class=\"s\">&quot;true&quot;</span><span class=\"nt\">&gt;</span>\n",
       "                  <span class=\"nt\">&lt;wg</span> <span class=\"na\">role=</span><span class=\"s\">&quot;s&quot;</span> <span class=\"na\">class=</span><span class=\"s\">&quot;np&quot;</span> <span class=\"na\">n=</span><span class=\"s\">&quot;430030160150050&quot;</span> <span class=\"na\">articular=</span><span class=\"s\">&quot;true&quot;</span><span class=\"nt\">&gt;</span>\n",
       "                    <span class=\"nt\">&lt;w</span> <span class=\"na\">class=</span><span class=\"s\">&quot;adj&quot;</span> <span class=\"na\">osisId=</span><span class=\"s\">&quot;John.3.16!15&quot;</span> <span class=\"na\">n=</span><span class=\"s\">&quot;430030160150010&quot;</span> <span class=\"na\">lemma=</span><span class=\"s\">&quot;πᾶς&quot;</span> <span class=\"na\">normalized=</span><span class=\"s\">&quot;πᾶς&quot;</span> <span class=\"na\">strong=</span><span class=\"s\">&quot;3956&quot;</span> <span class=\"na\">number=</span><span class=\"s\">&quot;singular&quot;</span> <span class=\"na\">gender=</span><span class=\"s\">&quot;masculine&quot;</span> <span class=\"na\">case=</span><span class=\"s\">&quot;nominative&quot;</span><span class=\"nt\">&gt;</span>πᾶς<span class=\"nt\">&lt;/w&gt;</span>\n",
       "                    <span class=\"nt\">&lt;wg</span> <span class=\"na\">class=</span><span class=\"s\">&quot;np&quot;</span> <span class=\"na\">n=</span><span class=\"s\">&quot;430030160160040&quot;</span> <span class=\"na\">articular=</span><span class=\"s\">&quot;true&quot;</span> <span class=\"na\">head=</span><span class=\"s\">&quot;true&quot;</span><span class=\"nt\">&gt;</span>\n",
       "                      <span class=\"nt\">&lt;w</span> <span class=\"na\">class=</span><span class=\"s\">&quot;det&quot;</span> <span class=\"na\">osisId=</span><span class=\"s\">&quot;John.3.16!16&quot;</span> <span class=\"na\">n=</span><span class=\"s\">&quot;430030160160010&quot;</span> <span class=\"na\">lemma=</span><span class=\"s\">&quot;ὁ&quot;</span> <span class=\"na\">normalized=</span><span class=\"s\">&quot;ὁ&quot;</span> <span class=\"na\">strong=</span><span class=\"s\">&quot;3588&quot;</span> <span class=\"na\">number=</span><span class=\"s\">&quot;singular&quot;</span> <span class=\"na\">gender=</span><span class=\"s\">&quot;masculine&quot;</span> <span class=\"na\">case=</span><span class=\"s\">&quot;nominative&quot;</span><span class=\"nt\">&gt;</span>ὁ<span class=\"nt\">&lt;/w&gt;</span>\n",
       "                      <span class=\"nt\">&lt;wg</span> <span class=\"na\">class=</span><span class=\"s\">&quot;cl&quot;</span> <span class=\"na\">n=</span><span class=\"s\">&quot;430030160170030&quot;</span> <span class=\"na\">head=</span><span class=\"s\">&quot;true&quot;</span><span class=\"nt\">&gt;</span>\n",
       "                        <span class=\"nt\">&lt;w</span> <span class=\"na\">role=</span><span class=\"s\">&quot;v&quot;</span> <span class=\"na\">class=</span><span class=\"s\">&quot;verb&quot;</span> <span class=\"na\">osisId=</span><span class=\"s\">&quot;John.3.16!17&quot;</span> <span class=\"na\">n=</span><span class=\"s\">&quot;430030160170010&quot;</span> <span class=\"na\">lemma=</span><span class=\"s\">&quot;πιστεύω&quot;</span> <span class=\"na\">normalized=</span><span class=\"s\">&quot;πιστεύων&quot;</span> <span class=\"na\">strong=</span><span class=\"s\">&quot;4100&quot;</span> <span class=\"na\">number=</span><span class=\"s\">&quot;singular&quot;</span> <span class=\"na\">gender=</span><span class=\"s\">&quot;masculine&quot;</span> <span class=\"na\">case=</span><span class=\"s\">&quot;nominative&quot;</span> <span class=\"na\">tense=</span><span class=\"s\">&quot;present&quot;</span> <span class=\"na\">voice=</span><span class=\"s\">&quot;active&quot;</span> <span class=\"na\">mood=</span><span class=\"s\">&quot;participle&quot;</span> <span class=\"na\">type=</span><span class=\"s\">&quot;?&quot;</span> <span class=\"na\">head=</span><span class=\"s\">&quot;true&quot;</span><span class=\"nt\">&gt;</span>πιστεύων<span class=\"nt\">&lt;/w&gt;</span>\n",
       "                        <span class=\"nt\">&lt;wg</span> <span class=\"na\">role=</span><span class=\"s\">&quot;adv&quot;</span> <span class=\"na\">class=</span><span class=\"s\">&quot;pp&quot;</span> <span class=\"na\">n=</span><span class=\"s\">&quot;430030160180020&quot;</span><span class=\"nt\">&gt;</span>\n",
       "                          <span class=\"nt\">&lt;w</span> <span class=\"na\">class=</span><span class=\"s\">&quot;prep&quot;</span> <span class=\"na\">osisId=</span><span class=\"s\">&quot;John.3.16!18&quot;</span> <span class=\"na\">n=</span><span class=\"s\">&quot;430030160180010&quot;</span> <span class=\"na\">lemma=</span><span class=\"s\">&quot;εἰς&quot;</span> <span class=\"na\">normalized=</span><span class=\"s\">&quot;εἰς&quot;</span> <span class=\"na\">strong=</span><span class=\"s\">&quot;1519&quot;</span><span class=\"nt\">&gt;</span>εἰς<span class=\"nt\">&lt;/w&gt;</span>\n",
       "                          <span class=\"nt\">&lt;w</span> <span class=\"na\">class=</span><span class=\"s\">&quot;pron&quot;</span> <span class=\"na\">type=</span><span class=\"s\">&quot;personal&quot;</span> <span class=\"na\">osisId=</span><span class=\"s\">&quot;John.3.16!19&quot;</span> <span class=\"na\">n=</span><span class=\"s\">&quot;430030160190010&quot;</span> <span class=\"na\">lemma=</span><span class=\"s\">&quot;αὐτός&quot;</span> <span class=\"na\">normalized=</span><span class=\"s\">&quot;αὐτόν&quot;</span> <span class=\"na\">strong=</span><span class=\"s\">&quot;846&quot;</span> <span class=\"na\">number=</span><span class=\"s\">&quot;singular&quot;</span> <span class=\"na\">gender=</span><span class=\"s\">&quot;masculine&quot;</span> <span class=\"na\">case=</span><span class=\"s\">&quot;accusative&quot;</span> <span class=\"na\">head=</span><span class=\"s\">&quot;true&quot;</span><span class=\"nt\">&gt;</span>αὐτὸν<span class=\"nt\">&lt;/w&gt;</span>\n",
       "                        <span class=\"nt\">&lt;/wg&gt;</span>\n",
       "                      <span class=\"nt\">&lt;/wg&gt;</span>\n",
       "                    <span class=\"nt\">&lt;/wg&gt;</span>\n",
       "                  <span class=\"nt\">&lt;/wg&gt;</span>\n",
       "                  <span class=\"nt\">&lt;w</span> <span class=\"na\">role=</span><span class=\"s\">&quot;adv&quot;</span> <span class=\"na\">class=</span><span class=\"s\">&quot;adv&quot;</span> <span class=\"na\">osisId=</span><span class=\"s\">&quot;John.3.16!20&quot;</span> <span class=\"na\">n=</span><span class=\"s\">&quot;430030160200010&quot;</span> <span class=\"na\">lemma=</span><span class=\"s\">&quot;μή&quot;</span> <span class=\"na\">normalized=</span><span class=\"s\">&quot;μή&quot;</span> <span class=\"na\">strong=</span><span class=\"s\">&quot;3361&quot;</span><span class=\"nt\">&gt;</span>μὴ<span class=\"nt\">&lt;/w&gt;</span>\n",
       "                  <span class=\"nt\">&lt;w</span> <span class=\"na\">role=</span><span class=\"s\">&quot;v&quot;</span> <span class=\"na\">class=</span><span class=\"s\">&quot;verb&quot;</span> <span class=\"na\">osisId=</span><span class=\"s\">&quot;John.3.16!21&quot;</span> <span class=\"na\">n=</span><span class=\"s\">&quot;430030160210010&quot;</span> <span class=\"na\">lemma=</span><span class=\"s\">&quot;ἀπόλλυμι&quot;</span> <span class=\"na\">normalized=</span><span class=\"s\">&quot;ἀπόληται&quot;</span> <span class=\"na\">strong=</span><span class=\"s\">&quot;622&quot;</span> <span class=\"na\">number=</span><span class=\"s\">&quot;singular&quot;</span> <span class=\"na\">person=</span><span class=\"s\">&quot;third&quot;</span> <span class=\"na\">tense=</span><span class=\"s\">&quot;aorist&quot;</span> <span class=\"na\">voice=</span><span class=\"s\">&quot;middle&quot;</span> <span class=\"na\">mood=</span><span class=\"s\">&quot;subjunctive&quot;</span> <span class=\"na\">head=</span><span class=\"s\">&quot;true&quot;</span><span class=\"nt\">&gt;</span>ἀπόληται<span class=\"nt\">&lt;/w&gt;</span>\n",
       "                <span class=\"nt\">&lt;/wg&gt;</span>\n",
       "                <span class=\"nt\">&lt;w</span> <span class=\"na\">class=</span><span class=\"s\">&quot;conj&quot;</span> <span class=\"na\">osisId=</span><span class=\"s\">&quot;John.3.16!22&quot;</span> <span class=\"na\">n=</span><span class=\"s\">&quot;430030160220010&quot;</span> <span class=\"na\">lemma=</span><span class=\"s\">&quot;ἀλλά&quot;</span> <span class=\"na\">normalized=</span><span class=\"s\">&quot;ἀλλ’&quot;</span> <span class=\"na\">strong=</span><span class=\"s\">&quot;235&quot;</span><span class=\"nt\">&gt;</span>ἀλλ’<span class=\"nt\">&lt;/w&gt;</span>\n",
       "                <span class=\"nt\">&lt;wg</span> <span class=\"na\">class=</span><span class=\"s\">&quot;cl&quot;</span> <span class=\"na\">n=</span><span class=\"s\">&quot;430030160230030&quot;</span><span class=\"nt\">&gt;</span>\n",
       "                  <span class=\"nt\">&lt;w</span> <span class=\"na\">role=</span><span class=\"s\">&quot;v&quot;</span> <span class=\"na\">class=</span><span class=\"s\">&quot;verb&quot;</span> <span class=\"na\">osisId=</span><span class=\"s\">&quot;John.3.16!23&quot;</span> <span class=\"na\">n=</span><span class=\"s\">&quot;430030160230010&quot;</span> <span class=\"na\">lemma=</span><span class=\"s\">&quot;ἔχω&quot;</span> <span class=\"na\">normalized=</span><span class=\"s\">&quot;ἔχῃ&quot;</span> <span class=\"na\">strong=</span><span class=\"s\">&quot;2192&quot;</span> <span class=\"na\">number=</span><span class=\"s\">&quot;singular&quot;</span> <span class=\"na\">person=</span><span class=\"s\">&quot;third&quot;</span> <span class=\"na\">tense=</span><span class=\"s\">&quot;present&quot;</span> <span class=\"na\">voice=</span><span class=\"s\">&quot;active&quot;</span> <span class=\"na\">mood=</span><span class=\"s\">&quot;subjunctive&quot;</span> <span class=\"na\">head=</span><span class=\"s\">&quot;true&quot;</span><span class=\"nt\">&gt;</span>ἔχῃ<span class=\"nt\">&lt;/w&gt;</span>\n",
       "                  <span class=\"nt\">&lt;wg</span> <span class=\"na\">role=</span><span class=\"s\">&quot;o&quot;</span> <span class=\"na\">class=</span><span class=\"s\">&quot;np&quot;</span> <span class=\"na\">n=</span><span class=\"s\">&quot;430030160240020&quot;</span><span class=\"nt\">&gt;</span>\n",
       "                    <span class=\"nt\">&lt;w</span> <span class=\"na\">class=</span><span class=\"s\">&quot;noun&quot;</span> <span class=\"na\">type=</span><span class=\"s\">&quot;common&quot;</span> <span class=\"na\">osisId=</span><span class=\"s\">&quot;John.3.16!24&quot;</span> <span class=\"na\">n=</span><span class=\"s\">&quot;430030160240010&quot;</span> <span class=\"na\">lemma=</span><span class=\"s\">&quot;ζωή&quot;</span> <span class=\"na\">normalized=</span><span class=\"s\">&quot;ζωήν&quot;</span> <span class=\"na\">strong=</span><span class=\"s\">&quot;2222&quot;</span> <span class=\"na\">number=</span><span class=\"s\">&quot;singular&quot;</span> <span class=\"na\">gender=</span><span class=\"s\">&quot;feminine&quot;</span> <span class=\"na\">case=</span><span class=\"s\">&quot;accusative&quot;</span> <span class=\"na\">head=</span><span class=\"s\">&quot;true&quot;</span><span class=\"nt\">&gt;</span>ζωὴν<span class=\"nt\">&lt;/w&gt;</span>\n",
       "                    <span class=\"nt\">&lt;w</span> <span class=\"na\">class=</span><span class=\"s\">&quot;adj&quot;</span> <span class=\"na\">osisId=</span><span class=\"s\">&quot;John.3.16!25&quot;</span> <span class=\"na\">n=</span><span class=\"s\">&quot;430030160250010&quot;</span> <span class=\"na\">lemma=</span><span class=\"s\">&quot;αἰώνιος&quot;</span> <span class=\"na\">normalized=</span><span class=\"s\">&quot;αἰώνιον&quot;</span> <span class=\"na\">strong=</span><span class=\"s\">&quot;166&quot;</span> <span class=\"na\">number=</span><span class=\"s\">&quot;singular&quot;</span> <span class=\"na\">gender=</span><span class=\"s\">&quot;feminine&quot;</span> <span class=\"na\">case=</span><span class=\"s\">&quot;accusative&quot;</span><span class=\"nt\">&gt;</span>αἰώνιον.<span class=\"nt\">&lt;/w&gt;</span>\n",
       "                  <span class=\"nt\">&lt;/wg&gt;</span>\n",
       "                <span class=\"nt\">&lt;/wg&gt;</span>\n",
       "              <span class=\"nt\">&lt;/wg&gt;</span>\n",
       "            <span class=\"nt\">&lt;/wg&gt;</span>\n",
       "          <span class=\"nt\">&lt;/wg&gt;</span>\n",
       "        <span class=\"nt\">&lt;/wg&gt;</span>\n",
       "      <span class=\"nt\">&lt;/wg&gt;</span>\n",
       "    <span class=\"nt\">&lt;/wg&gt;</span>\n",
       "  <span class=\"nt\">&lt;/wg&gt;</span>\n",
       "<span class=\"nt\">&lt;/sentence&gt;</span>\n",
       "</pre></div>\n"
      ],
      "text/plain": [
       "<IPython.core.display.HTML object>"
      ]
     },
     "metadata": {},
     "output_type": "display_data"
    }
   ],
   "source": [
    "xquery_display('//sentence[ milestone[@id = \"John.3.16\"] ]')"
   ]
  },
  {
   "cell_type": "markdown",
   "metadata": {},
   "source": [
    "Once you find a sentence, you can return any part of the sentence and apply functions to their contents.  For instance, the `p` element contains the text of the sentence in sentence order. This query returns just that part of John 3:16."
   ]
  },
  {
   "cell_type": "code",
   "execution_count": 20,
   "metadata": {},
   "outputs": [
    {
     "data": {
      "text/plain": [
       "'Οὕτως γὰρ ἠγάπησεν ὁ Θεὸς τὸν κόσμον, ὥστε τὸν Υἱὸν τὸν μονογενῆ ἔδωκεν, ἵνα πᾶς ὁ πιστεύων εἰς αὐτὸν μὴ ἀπόληται ἀλλ’ ἔχῃ ζωὴν αἰώνιον.'"
      ]
     },
     "execution_count": 20,
     "metadata": {},
     "output_type": "execute_result"
    }
   ],
   "source": [
    "q = \"\"\"\n",
    "  let $s := //sentence[ milestone[@id = \"John.3.16\"] ]\n",
    "  return string($s/p)\n",
    "\"\"\"\n",
    "\n",
    "xquery(q)"
   ]
  },
  {
   "cell_type": "markdown",
   "metadata": {},
   "source": [
    "We can also find sentences based on the clauses, phrases, and words they contain.  Before we do that, let's learn how these are represented in the trees."
   ]
  },
  {
   "cell_type": "markdown",
   "metadata": {},
   "source": [
    "### Clauses and Phrases\n",
    "\n",
    "Now let's look at clauses and noun phrases, which are both represented as `<wg/>` elements.  The `class` attribute identifies the class of the word group.  Lets start by counting word groups:"
   ]
  },
  {
   "cell_type": "code",
   "execution_count": 21,
   "metadata": {},
   "outputs": [
    {
     "data": {
      "text/plain": [
       "'112898'"
      ]
     },
     "execution_count": 21,
     "metadata": {},
     "output_type": "execute_result"
    }
   ],
   "source": [
    "xquery('count(//wg)')"
   ]
  },
  {
   "cell_type": "markdown",
   "metadata": {},
   "source": [
    "Now let's narrow that down to clauses, which are word groups where the `class` attribute is `cl`:"
   ]
  },
  {
   "cell_type": "code",
   "execution_count": 22,
   "metadata": {},
   "outputs": [
    {
     "data": {
      "text/plain": [
       "'61551'"
      ]
     },
     "execution_count": 22,
     "metadata": {},
     "output_type": "execute_result"
    }
   ],
   "source": [
    "xquery('count(//wg[@class=\"cl\"])')"
   ]
  },
  {
   "cell_type": "markdown",
   "metadata": {},
   "source": [
    "Let's look at the first clause:"
   ]
  },
  {
   "cell_type": "code",
   "execution_count": 23,
   "metadata": {},
   "outputs": [
    {
     "data": {
      "text/html": [
       "<style type=\"text/css\">.highlight .hll { background-color: #ffffcc }\n",
       ".highlight  { background: #f8f8f8; }\n",
       ".highlight .c { color: #408080; font-style: italic } /* Comment */\n",
       ".highlight .err { border: 1px solid #FF0000 } /* Error */\n",
       ".highlight .k { color: #008000; font-weight: bold } /* Keyword */\n",
       ".highlight .o { color: #666666 } /* Operator */\n",
       ".highlight .ch { color: #408080; font-style: italic } /* Comment.Hashbang */\n",
       ".highlight .cm { color: #408080; font-style: italic } /* Comment.Multiline */\n",
       ".highlight .cp { color: #BC7A00 } /* Comment.Preproc */\n",
       ".highlight .cpf { color: #408080; font-style: italic } /* Comment.PreprocFile */\n",
       ".highlight .c1 { color: #408080; font-style: italic } /* Comment.Single */\n",
       ".highlight .cs { color: #408080; font-style: italic } /* Comment.Special */\n",
       ".highlight .gd { color: #A00000 } /* Generic.Deleted */\n",
       ".highlight .ge { font-style: italic } /* Generic.Emph */\n",
       ".highlight .gr { color: #FF0000 } /* Generic.Error */\n",
       ".highlight .gh { color: #000080; font-weight: bold } /* Generic.Heading */\n",
       ".highlight .gi { color: #00A000 } /* Generic.Inserted */\n",
       ".highlight .go { color: #888888 } /* Generic.Output */\n",
       ".highlight .gp { color: #000080; font-weight: bold } /* Generic.Prompt */\n",
       ".highlight .gs { font-weight: bold } /* Generic.Strong */\n",
       ".highlight .gu { color: #800080; font-weight: bold } /* Generic.Subheading */\n",
       ".highlight .gt { color: #0044DD } /* Generic.Traceback */\n",
       ".highlight .kc { color: #008000; font-weight: bold } /* Keyword.Constant */\n",
       ".highlight .kd { color: #008000; font-weight: bold } /* Keyword.Declaration */\n",
       ".highlight .kn { color: #008000; font-weight: bold } /* Keyword.Namespace */\n",
       ".highlight .kp { color: #008000 } /* Keyword.Pseudo */\n",
       ".highlight .kr { color: #008000; font-weight: bold } /* Keyword.Reserved */\n",
       ".highlight .kt { color: #B00040 } /* Keyword.Type */\n",
       ".highlight .m { color: #666666 } /* Literal.Number */\n",
       ".highlight .s { color: #BA2121 } /* Literal.String */\n",
       ".highlight .na { color: #7D9029 } /* Name.Attribute */\n",
       ".highlight .nb { color: #008000 } /* Name.Builtin */\n",
       ".highlight .nc { color: #0000FF; font-weight: bold } /* Name.Class */\n",
       ".highlight .no { color: #880000 } /* Name.Constant */\n",
       ".highlight .nd { color: #AA22FF } /* Name.Decorator */\n",
       ".highlight .ni { color: #999999; font-weight: bold } /* Name.Entity */\n",
       ".highlight .ne { color: #D2413A; font-weight: bold } /* Name.Exception */\n",
       ".highlight .nf { color: #0000FF } /* Name.Function */\n",
       ".highlight .nl { color: #A0A000 } /* Name.Label */\n",
       ".highlight .nn { color: #0000FF; font-weight: bold } /* Name.Namespace */\n",
       ".highlight .nt { color: #008000; font-weight: bold } /* Name.Tag */\n",
       ".highlight .nv { color: #19177C } /* Name.Variable */\n",
       ".highlight .ow { color: #AA22FF; font-weight: bold } /* Operator.Word */\n",
       ".highlight .w { color: #bbbbbb } /* Text.Whitespace */\n",
       ".highlight .mb { color: #666666 } /* Literal.Number.Bin */\n",
       ".highlight .mf { color: #666666 } /* Literal.Number.Float */\n",
       ".highlight .mh { color: #666666 } /* Literal.Number.Hex */\n",
       ".highlight .mi { color: #666666 } /* Literal.Number.Integer */\n",
       ".highlight .mo { color: #666666 } /* Literal.Number.Oct */\n",
       ".highlight .sa { color: #BA2121 } /* Literal.String.Affix */\n",
       ".highlight .sb { color: #BA2121 } /* Literal.String.Backtick */\n",
       ".highlight .sc { color: #BA2121 } /* Literal.String.Char */\n",
       ".highlight .dl { color: #BA2121 } /* Literal.String.Delimiter */\n",
       ".highlight .sd { color: #BA2121; font-style: italic } /* Literal.String.Doc */\n",
       ".highlight .s2 { color: #BA2121 } /* Literal.String.Double */\n",
       ".highlight .se { color: #BB6622; font-weight: bold } /* Literal.String.Escape */\n",
       ".highlight .sh { color: #BA2121 } /* Literal.String.Heredoc */\n",
       ".highlight .si { color: #BB6688; font-weight: bold } /* Literal.String.Interpol */\n",
       ".highlight .sx { color: #008000 } /* Literal.String.Other */\n",
       ".highlight .sr { color: #BB6688 } /* Literal.String.Regex */\n",
       ".highlight .s1 { color: #BA2121 } /* Literal.String.Single */\n",
       ".highlight .ss { color: #19177C } /* Literal.String.Symbol */\n",
       ".highlight .bp { color: #008000 } /* Name.Builtin.Pseudo */\n",
       ".highlight .fm { color: #0000FF } /* Name.Function.Magic */\n",
       ".highlight .vc { color: #19177C } /* Name.Variable.Class */\n",
       ".highlight .vg { color: #19177C } /* Name.Variable.Global */\n",
       ".highlight .vi { color: #19177C } /* Name.Variable.Instance */\n",
       ".highlight .vm { color: #19177C } /* Name.Variable.Magic */\n",
       ".highlight .il { color: #666666 } /* Literal.Number.Integer.Long */</style><div class=\"highlight\"><pre><span></span><span class=\"nt\">&lt;wg</span> <span class=\"na\">xmlns:xi=</span><span class=\"s\">&quot;http://www.w3.org/2001/XInclude&quot;</span> <span class=\"na\">class=</span><span class=\"s\">&quot;cl&quot;</span><span class=\"nt\">&gt;</span>\n",
       "  <span class=\"nt\">&lt;wg</span> <span class=\"na\">class=</span><span class=\"s\">&quot;cl&quot;</span> <span class=\"na\">n=</span><span class=\"s\">&quot;400010010010082&quot;</span><span class=\"nt\">&gt;</span>\n",
       "    <span class=\"nt\">&lt;wg</span> <span class=\"na\">role=</span><span class=\"s\">&quot;p&quot;</span> <span class=\"na\">class=</span><span class=\"s\">&quot;np&quot;</span> <span class=\"na\">n=</span><span class=\"s\">&quot;400010010010080&quot;</span><span class=\"nt\">&gt;</span>\n",
       "      <span class=\"nt\">&lt;w</span> <span class=\"na\">class=</span><span class=\"s\">&quot;noun&quot;</span> <span class=\"na\">type=</span><span class=\"s\">&quot;common&quot;</span> <span class=\"na\">osisId=</span><span class=\"s\">&quot;Matt.1.1!1&quot;</span> <span class=\"na\">n=</span><span class=\"s\">&quot;400010010010010&quot;</span> <span class=\"na\">lemma=</span><span class=\"s\">&quot;βίβλος&quot;</span> <span class=\"na\">normalized=</span><span class=\"s\">&quot;Βίβλος&quot;</span> <span class=\"na\">strong=</span><span class=\"s\">&quot;976&quot;</span> <span class=\"na\">number=</span><span class=\"s\">&quot;singular&quot;</span> <span class=\"na\">gender=</span><span class=\"s\">&quot;feminine&quot;</span> <span class=\"na\">case=</span><span class=\"s\">&quot;nominative&quot;</span> <span class=\"na\">head=</span><span class=\"s\">&quot;true&quot;</span><span class=\"nt\">&gt;</span>Βίβλος<span class=\"nt\">&lt;/w&gt;</span>\n",
       "      <span class=\"nt\">&lt;wg</span> <span class=\"na\">class=</span><span class=\"s\">&quot;np&quot;</span> <span class=\"na\">n=</span><span class=\"s\">&quot;400010010020070&quot;</span><span class=\"nt\">&gt;</span>\n",
       "        <span class=\"nt\">&lt;w</span> <span class=\"na\">class=</span><span class=\"s\">&quot;noun&quot;</span> <span class=\"na\">type=</span><span class=\"s\">&quot;common&quot;</span> <span class=\"na\">osisId=</span><span class=\"s\">&quot;Matt.1.1!2&quot;</span> <span class=\"na\">n=</span><span class=\"s\">&quot;400010010020010&quot;</span> <span class=\"na\">lemma=</span><span class=\"s\">&quot;γένεσις&quot;</span> <span class=\"na\">normalized=</span><span class=\"s\">&quot;γενέσεως&quot;</span> <span class=\"na\">strong=</span><span class=\"s\">&quot;1078&quot;</span> <span class=\"na\">number=</span><span class=\"s\">&quot;singular&quot;</span> <span class=\"na\">gender=</span><span class=\"s\">&quot;feminine&quot;</span> <span class=\"na\">case=</span><span class=\"s\">&quot;genitive&quot;</span> <span class=\"na\">head=</span><span class=\"s\">&quot;true&quot;</span><span class=\"nt\">&gt;</span>γενέσεως<span class=\"nt\">&lt;/w&gt;</span>\n",
       "        <span class=\"nt\">&lt;wg</span> <span class=\"na\">class=</span><span class=\"s\">&quot;np&quot;</span> <span class=\"na\">n=</span><span class=\"s\">&quot;400010010030060&quot;</span><span class=\"nt\">&gt;</span>\n",
       "          <span class=\"nt\">&lt;wg</span> <span class=\"na\">class=</span><span class=\"s\">&quot;np&quot;</span> <span class=\"na\">n=</span><span class=\"s\">&quot;400010010030040&quot;</span> <span class=\"na\">head=</span><span class=\"s\">&quot;true&quot;</span><span class=\"nt\">&gt;</span>\n",
       "            <span class=\"nt\">&lt;wg</span> <span class=\"na\">class=</span><span class=\"s\">&quot;np&quot;</span> <span class=\"na\">n=</span><span class=\"s\">&quot;400010010030020&quot;</span> <span class=\"na\">head=</span><span class=\"s\">&quot;true&quot;</span><span class=\"nt\">&gt;</span>\n",
       "              <span class=\"nt\">&lt;w</span> <span class=\"na\">class=</span><span class=\"s\">&quot;noun&quot;</span> <span class=\"na\">type=</span><span class=\"s\">&quot;proper&quot;</span> <span class=\"na\">osisId=</span><span class=\"s\">&quot;Matt.1.1!3&quot;</span> <span class=\"na\">n=</span><span class=\"s\">&quot;400010010030010&quot;</span> <span class=\"na\">lemma=</span><span class=\"s\">&quot;Ἰησοῦς&quot;</span> <span class=\"na\">normalized=</span><span class=\"s\">&quot;Ἰησοῦ&quot;</span> <span class=\"na\">strong=</span><span class=\"s\">&quot;2424&quot;</span> <span class=\"na\">number=</span><span class=\"s\">&quot;singular&quot;</span> <span class=\"na\">gender=</span><span class=\"s\">&quot;masculine&quot;</span> <span class=\"na\">case=</span><span class=\"s\">&quot;genitive&quot;</span> <span class=\"na\">head=</span><span class=\"s\">&quot;true&quot;</span><span class=\"nt\">&gt;</span>Ἰησοῦ<span class=\"nt\">&lt;/w&gt;</span>\n",
       "              <span class=\"nt\">&lt;w</span> <span class=\"na\">class=</span><span class=\"s\">&quot;noun&quot;</span> <span class=\"na\">type=</span><span class=\"s\">&quot;proper&quot;</span> <span class=\"na\">osisId=</span><span class=\"s\">&quot;Matt.1.1!4&quot;</span> <span class=\"na\">n=</span><span class=\"s\">&quot;400010010040010&quot;</span> <span class=\"na\">lemma=</span><span class=\"s\">&quot;Χριστός&quot;</span> <span class=\"na\">normalized=</span><span class=\"s\">&quot;Χριστοῦ&quot;</span> <span class=\"na\">strong=</span><span class=\"s\">&quot;5547&quot;</span> <span class=\"na\">number=</span><span class=\"s\">&quot;singular&quot;</span> <span class=\"na\">gender=</span><span class=\"s\">&quot;masculine&quot;</span> <span class=\"na\">case=</span><span class=\"s\">&quot;genitive&quot;</span><span class=\"nt\">&gt;</span>Χριστοῦ<span class=\"nt\">&lt;/w&gt;</span>\n",
       "            <span class=\"nt\">&lt;/wg&gt;</span>\n",
       "            <span class=\"nt\">&lt;wg</span> <span class=\"na\">class=</span><span class=\"s\">&quot;np&quot;</span> <span class=\"na\">n=</span><span class=\"s\">&quot;400010010050020&quot;</span><span class=\"nt\">&gt;</span>\n",
       "              <span class=\"nt\">&lt;w</span> <span class=\"na\">class=</span><span class=\"s\">&quot;noun&quot;</span> <span class=\"na\">type=</span><span class=\"s\">&quot;common&quot;</span> <span class=\"na\">osisId=</span><span class=\"s\">&quot;Matt.1.1!5&quot;</span> <span class=\"na\">n=</span><span class=\"s\">&quot;400010010050010&quot;</span> <span class=\"na\">lemma=</span><span class=\"s\">&quot;υἱός&quot;</span> <span class=\"na\">normalized=</span><span class=\"s\">&quot;υἱοῦ&quot;</span> <span class=\"na\">strong=</span><span class=\"s\">&quot;5207&quot;</span> <span class=\"na\">number=</span><span class=\"s\">&quot;singular&quot;</span> <span class=\"na\">gender=</span><span class=\"s\">&quot;masculine&quot;</span> <span class=\"na\">case=</span><span class=\"s\">&quot;genitive&quot;</span> <span class=\"na\">head=</span><span class=\"s\">&quot;true&quot;</span><span class=\"nt\">&gt;</span>υἱοῦ<span class=\"nt\">&lt;/w&gt;</span>\n",
       "              <span class=\"nt\">&lt;w</span> <span class=\"na\">class=</span><span class=\"s\">&quot;noun&quot;</span> <span class=\"na\">type=</span><span class=\"s\">&quot;proper&quot;</span> <span class=\"na\">osisId=</span><span class=\"s\">&quot;Matt.1.1!6&quot;</span> <span class=\"na\">n=</span><span class=\"s\">&quot;400010010060010&quot;</span> <span class=\"na\">lemma=</span><span class=\"s\">&quot;Δαυίδ&quot;</span> <span class=\"na\">normalized=</span><span class=\"s\">&quot;Δαυείδ&quot;</span> <span class=\"na\">strong=</span><span class=\"s\">&quot;1138&quot;</span> <span class=\"na\">number=</span><span class=\"s\">&quot;singular&quot;</span> <span class=\"na\">gender=</span><span class=\"s\">&quot;masculine&quot;</span> <span class=\"na\">case=</span><span class=\"s\">&quot;genitive&quot;</span><span class=\"nt\">&gt;</span>Δαυεὶδ<span class=\"nt\">&lt;/w&gt;</span>\n",
       "            <span class=\"nt\">&lt;/wg&gt;</span>\n",
       "          <span class=\"nt\">&lt;/wg&gt;</span>\n",
       "          <span class=\"nt\">&lt;wg</span> <span class=\"na\">class=</span><span class=\"s\">&quot;np&quot;</span> <span class=\"na\">n=</span><span class=\"s\">&quot;400010010070020&quot;</span><span class=\"nt\">&gt;</span>\n",
       "            <span class=\"nt\">&lt;w</span> <span class=\"na\">class=</span><span class=\"s\">&quot;noun&quot;</span> <span class=\"na\">type=</span><span class=\"s\">&quot;common&quot;</span> <span class=\"na\">osisId=</span><span class=\"s\">&quot;Matt.1.1!7&quot;</span> <span class=\"na\">n=</span><span class=\"s\">&quot;400010010070010&quot;</span> <span class=\"na\">lemma=</span><span class=\"s\">&quot;υἱός&quot;</span> <span class=\"na\">normalized=</span><span class=\"s\">&quot;υἱοῦ&quot;</span> <span class=\"na\">strong=</span><span class=\"s\">&quot;5207&quot;</span> <span class=\"na\">number=</span><span class=\"s\">&quot;singular&quot;</span> <span class=\"na\">gender=</span><span class=\"s\">&quot;masculine&quot;</span> <span class=\"na\">case=</span><span class=\"s\">&quot;genitive&quot;</span> <span class=\"na\">head=</span><span class=\"s\">&quot;true&quot;</span><span class=\"nt\">&gt;</span>υἱοῦ<span class=\"nt\">&lt;/w&gt;</span>\n",
       "            <span class=\"nt\">&lt;w</span> <span class=\"na\">class=</span><span class=\"s\">&quot;noun&quot;</span> <span class=\"na\">type=</span><span class=\"s\">&quot;proper&quot;</span> <span class=\"na\">osisId=</span><span class=\"s\">&quot;Matt.1.1!8&quot;</span> <span class=\"na\">n=</span><span class=\"s\">&quot;400010010080010&quot;</span> <span class=\"na\">lemma=</span><span class=\"s\">&quot;Ἀβραάμ&quot;</span> <span class=\"na\">normalized=</span><span class=\"s\">&quot;Ἀβραάμ&quot;</span> <span class=\"na\">strong=</span><span class=\"s\">&quot;11&quot;</span> <span class=\"na\">number=</span><span class=\"s\">&quot;singular&quot;</span> <span class=\"na\">gender=</span><span class=\"s\">&quot;masculine&quot;</span> <span class=\"na\">case=</span><span class=\"s\">&quot;genitive&quot;</span><span class=\"nt\">&gt;</span>Ἀβραάμ.<span class=\"nt\">&lt;/w&gt;</span>\n",
       "          <span class=\"nt\">&lt;/wg&gt;</span>\n",
       "        <span class=\"nt\">&lt;/wg&gt;</span>\n",
       "      <span class=\"nt\">&lt;/wg&gt;</span>\n",
       "    <span class=\"nt\">&lt;/wg&gt;</span>\n",
       "  <span class=\"nt\">&lt;/wg&gt;</span>\n",
       "<span class=\"nt\">&lt;/wg&gt;</span>\n",
       "</pre></div>\n"
      ],
      "text/plain": [
       "<IPython.core.display.HTML object>"
      ]
     },
     "metadata": {},
     "output_type": "display_data"
    }
   ],
   "source": [
    "xquery_display('(//wg[@class=\"cl\"])[1]')"
   ]
  },
  {
   "cell_type": "markdown",
   "metadata": {},
   "source": [
    "Now let's count noun phrases:"
   ]
  },
  {
   "cell_type": "code",
   "execution_count": 24,
   "metadata": {},
   "outputs": [
    {
     "data": {
      "text/plain": [
       "'38507'"
      ]
     },
     "execution_count": 24,
     "metadata": {},
     "output_type": "execute_result"
    }
   ],
   "source": [
    "xquery('count(//wg[@class=\"np\"])')"
   ]
  },
  {
   "cell_type": "markdown",
   "metadata": {},
   "source": [
    "And look at the first noun phrase (which is found inside the first clause shown above):"
   ]
  },
  {
   "cell_type": "code",
   "execution_count": 25,
   "metadata": {},
   "outputs": [
    {
     "data": {
      "text/html": [
       "<style type=\"text/css\">.highlight .hll { background-color: #ffffcc }\n",
       ".highlight  { background: #f8f8f8; }\n",
       ".highlight .c { color: #408080; font-style: italic } /* Comment */\n",
       ".highlight .err { border: 1px solid #FF0000 } /* Error */\n",
       ".highlight .k { color: #008000; font-weight: bold } /* Keyword */\n",
       ".highlight .o { color: #666666 } /* Operator */\n",
       ".highlight .ch { color: #408080; font-style: italic } /* Comment.Hashbang */\n",
       ".highlight .cm { color: #408080; font-style: italic } /* Comment.Multiline */\n",
       ".highlight .cp { color: #BC7A00 } /* Comment.Preproc */\n",
       ".highlight .cpf { color: #408080; font-style: italic } /* Comment.PreprocFile */\n",
       ".highlight .c1 { color: #408080; font-style: italic } /* Comment.Single */\n",
       ".highlight .cs { color: #408080; font-style: italic } /* Comment.Special */\n",
       ".highlight .gd { color: #A00000 } /* Generic.Deleted */\n",
       ".highlight .ge { font-style: italic } /* Generic.Emph */\n",
       ".highlight .gr { color: #FF0000 } /* Generic.Error */\n",
       ".highlight .gh { color: #000080; font-weight: bold } /* Generic.Heading */\n",
       ".highlight .gi { color: #00A000 } /* Generic.Inserted */\n",
       ".highlight .go { color: #888888 } /* Generic.Output */\n",
       ".highlight .gp { color: #000080; font-weight: bold } /* Generic.Prompt */\n",
       ".highlight .gs { font-weight: bold } /* Generic.Strong */\n",
       ".highlight .gu { color: #800080; font-weight: bold } /* Generic.Subheading */\n",
       ".highlight .gt { color: #0044DD } /* Generic.Traceback */\n",
       ".highlight .kc { color: #008000; font-weight: bold } /* Keyword.Constant */\n",
       ".highlight .kd { color: #008000; font-weight: bold } /* Keyword.Declaration */\n",
       ".highlight .kn { color: #008000; font-weight: bold } /* Keyword.Namespace */\n",
       ".highlight .kp { color: #008000 } /* Keyword.Pseudo */\n",
       ".highlight .kr { color: #008000; font-weight: bold } /* Keyword.Reserved */\n",
       ".highlight .kt { color: #B00040 } /* Keyword.Type */\n",
       ".highlight .m { color: #666666 } /* Literal.Number */\n",
       ".highlight .s { color: #BA2121 } /* Literal.String */\n",
       ".highlight .na { color: #7D9029 } /* Name.Attribute */\n",
       ".highlight .nb { color: #008000 } /* Name.Builtin */\n",
       ".highlight .nc { color: #0000FF; font-weight: bold } /* Name.Class */\n",
       ".highlight .no { color: #880000 } /* Name.Constant */\n",
       ".highlight .nd { color: #AA22FF } /* Name.Decorator */\n",
       ".highlight .ni { color: #999999; font-weight: bold } /* Name.Entity */\n",
       ".highlight .ne { color: #D2413A; font-weight: bold } /* Name.Exception */\n",
       ".highlight .nf { color: #0000FF } /* Name.Function */\n",
       ".highlight .nl { color: #A0A000 } /* Name.Label */\n",
       ".highlight .nn { color: #0000FF; font-weight: bold } /* Name.Namespace */\n",
       ".highlight .nt { color: #008000; font-weight: bold } /* Name.Tag */\n",
       ".highlight .nv { color: #19177C } /* Name.Variable */\n",
       ".highlight .ow { color: #AA22FF; font-weight: bold } /* Operator.Word */\n",
       ".highlight .w { color: #bbbbbb } /* Text.Whitespace */\n",
       ".highlight .mb { color: #666666 } /* Literal.Number.Bin */\n",
       ".highlight .mf { color: #666666 } /* Literal.Number.Float */\n",
       ".highlight .mh { color: #666666 } /* Literal.Number.Hex */\n",
       ".highlight .mi { color: #666666 } /* Literal.Number.Integer */\n",
       ".highlight .mo { color: #666666 } /* Literal.Number.Oct */\n",
       ".highlight .sa { color: #BA2121 } /* Literal.String.Affix */\n",
       ".highlight .sb { color: #BA2121 } /* Literal.String.Backtick */\n",
       ".highlight .sc { color: #BA2121 } /* Literal.String.Char */\n",
       ".highlight .dl { color: #BA2121 } /* Literal.String.Delimiter */\n",
       ".highlight .sd { color: #BA2121; font-style: italic } /* Literal.String.Doc */\n",
       ".highlight .s2 { color: #BA2121 } /* Literal.String.Double */\n",
       ".highlight .se { color: #BB6622; font-weight: bold } /* Literal.String.Escape */\n",
       ".highlight .sh { color: #BA2121 } /* Literal.String.Heredoc */\n",
       ".highlight .si { color: #BB6688; font-weight: bold } /* Literal.String.Interpol */\n",
       ".highlight .sx { color: #008000 } /* Literal.String.Other */\n",
       ".highlight .sr { color: #BB6688 } /* Literal.String.Regex */\n",
       ".highlight .s1 { color: #BA2121 } /* Literal.String.Single */\n",
       ".highlight .ss { color: #19177C } /* Literal.String.Symbol */\n",
       ".highlight .bp { color: #008000 } /* Name.Builtin.Pseudo */\n",
       ".highlight .fm { color: #0000FF } /* Name.Function.Magic */\n",
       ".highlight .vc { color: #19177C } /* Name.Variable.Class */\n",
       ".highlight .vg { color: #19177C } /* Name.Variable.Global */\n",
       ".highlight .vi { color: #19177C } /* Name.Variable.Instance */\n",
       ".highlight .vm { color: #19177C } /* Name.Variable.Magic */\n",
       ".highlight .il { color: #666666 } /* Literal.Number.Integer.Long */</style><div class=\"highlight\"><pre><span></span><span class=\"nt\">&lt;wg</span> <span class=\"na\">xmlns:xi=</span><span class=\"s\">&quot;http://www.w3.org/2001/XInclude&quot;</span> <span class=\"na\">role=</span><span class=\"s\">&quot;p&quot;</span> <span class=\"na\">class=</span><span class=\"s\">&quot;np&quot;</span> <span class=\"na\">n=</span><span class=\"s\">&quot;400010010010080&quot;</span><span class=\"nt\">&gt;</span>\n",
       "  <span class=\"nt\">&lt;w</span> <span class=\"na\">class=</span><span class=\"s\">&quot;noun&quot;</span> <span class=\"na\">type=</span><span class=\"s\">&quot;common&quot;</span> <span class=\"na\">osisId=</span><span class=\"s\">&quot;Matt.1.1!1&quot;</span> <span class=\"na\">n=</span><span class=\"s\">&quot;400010010010010&quot;</span> <span class=\"na\">lemma=</span><span class=\"s\">&quot;βίβλος&quot;</span> <span class=\"na\">normalized=</span><span class=\"s\">&quot;Βίβλος&quot;</span> <span class=\"na\">strong=</span><span class=\"s\">&quot;976&quot;</span> <span class=\"na\">number=</span><span class=\"s\">&quot;singular&quot;</span> <span class=\"na\">gender=</span><span class=\"s\">&quot;feminine&quot;</span> <span class=\"na\">case=</span><span class=\"s\">&quot;nominative&quot;</span> <span class=\"na\">head=</span><span class=\"s\">&quot;true&quot;</span><span class=\"nt\">&gt;</span>Βίβλος<span class=\"nt\">&lt;/w&gt;</span>\n",
       "  <span class=\"nt\">&lt;wg</span> <span class=\"na\">class=</span><span class=\"s\">&quot;np&quot;</span> <span class=\"na\">n=</span><span class=\"s\">&quot;400010010020070&quot;</span><span class=\"nt\">&gt;</span>\n",
       "    <span class=\"nt\">&lt;w</span> <span class=\"na\">class=</span><span class=\"s\">&quot;noun&quot;</span> <span class=\"na\">type=</span><span class=\"s\">&quot;common&quot;</span> <span class=\"na\">osisId=</span><span class=\"s\">&quot;Matt.1.1!2&quot;</span> <span class=\"na\">n=</span><span class=\"s\">&quot;400010010020010&quot;</span> <span class=\"na\">lemma=</span><span class=\"s\">&quot;γένεσις&quot;</span> <span class=\"na\">normalized=</span><span class=\"s\">&quot;γενέσεως&quot;</span> <span class=\"na\">strong=</span><span class=\"s\">&quot;1078&quot;</span> <span class=\"na\">number=</span><span class=\"s\">&quot;singular&quot;</span> <span class=\"na\">gender=</span><span class=\"s\">&quot;feminine&quot;</span> <span class=\"na\">case=</span><span class=\"s\">&quot;genitive&quot;</span> <span class=\"na\">head=</span><span class=\"s\">&quot;true&quot;</span><span class=\"nt\">&gt;</span>γενέσεως<span class=\"nt\">&lt;/w&gt;</span>\n",
       "    <span class=\"nt\">&lt;wg</span> <span class=\"na\">class=</span><span class=\"s\">&quot;np&quot;</span> <span class=\"na\">n=</span><span class=\"s\">&quot;400010010030060&quot;</span><span class=\"nt\">&gt;</span>\n",
       "      <span class=\"nt\">&lt;wg</span> <span class=\"na\">class=</span><span class=\"s\">&quot;np&quot;</span> <span class=\"na\">n=</span><span class=\"s\">&quot;400010010030040&quot;</span> <span class=\"na\">head=</span><span class=\"s\">&quot;true&quot;</span><span class=\"nt\">&gt;</span>\n",
       "        <span class=\"nt\">&lt;wg</span> <span class=\"na\">class=</span><span class=\"s\">&quot;np&quot;</span> <span class=\"na\">n=</span><span class=\"s\">&quot;400010010030020&quot;</span> <span class=\"na\">head=</span><span class=\"s\">&quot;true&quot;</span><span class=\"nt\">&gt;</span>\n",
       "          <span class=\"nt\">&lt;w</span> <span class=\"na\">class=</span><span class=\"s\">&quot;noun&quot;</span> <span class=\"na\">type=</span><span class=\"s\">&quot;proper&quot;</span> <span class=\"na\">osisId=</span><span class=\"s\">&quot;Matt.1.1!3&quot;</span> <span class=\"na\">n=</span><span class=\"s\">&quot;400010010030010&quot;</span> <span class=\"na\">lemma=</span><span class=\"s\">&quot;Ἰησοῦς&quot;</span> <span class=\"na\">normalized=</span><span class=\"s\">&quot;Ἰησοῦ&quot;</span> <span class=\"na\">strong=</span><span class=\"s\">&quot;2424&quot;</span> <span class=\"na\">number=</span><span class=\"s\">&quot;singular&quot;</span> <span class=\"na\">gender=</span><span class=\"s\">&quot;masculine&quot;</span> <span class=\"na\">case=</span><span class=\"s\">&quot;genitive&quot;</span> <span class=\"na\">head=</span><span class=\"s\">&quot;true&quot;</span><span class=\"nt\">&gt;</span>Ἰησοῦ<span class=\"nt\">&lt;/w&gt;</span>\n",
       "          <span class=\"nt\">&lt;w</span> <span class=\"na\">class=</span><span class=\"s\">&quot;noun&quot;</span> <span class=\"na\">type=</span><span class=\"s\">&quot;proper&quot;</span> <span class=\"na\">osisId=</span><span class=\"s\">&quot;Matt.1.1!4&quot;</span> <span class=\"na\">n=</span><span class=\"s\">&quot;400010010040010&quot;</span> <span class=\"na\">lemma=</span><span class=\"s\">&quot;Χριστός&quot;</span> <span class=\"na\">normalized=</span><span class=\"s\">&quot;Χριστοῦ&quot;</span> <span class=\"na\">strong=</span><span class=\"s\">&quot;5547&quot;</span> <span class=\"na\">number=</span><span class=\"s\">&quot;singular&quot;</span> <span class=\"na\">gender=</span><span class=\"s\">&quot;masculine&quot;</span> <span class=\"na\">case=</span><span class=\"s\">&quot;genitive&quot;</span><span class=\"nt\">&gt;</span>Χριστοῦ<span class=\"nt\">&lt;/w&gt;</span>\n",
       "        <span class=\"nt\">&lt;/wg&gt;</span>\n",
       "        <span class=\"nt\">&lt;wg</span> <span class=\"na\">class=</span><span class=\"s\">&quot;np&quot;</span> <span class=\"na\">n=</span><span class=\"s\">&quot;400010010050020&quot;</span><span class=\"nt\">&gt;</span>\n",
       "          <span class=\"nt\">&lt;w</span> <span class=\"na\">class=</span><span class=\"s\">&quot;noun&quot;</span> <span class=\"na\">type=</span><span class=\"s\">&quot;common&quot;</span> <span class=\"na\">osisId=</span><span class=\"s\">&quot;Matt.1.1!5&quot;</span> <span class=\"na\">n=</span><span class=\"s\">&quot;400010010050010&quot;</span> <span class=\"na\">lemma=</span><span class=\"s\">&quot;υἱός&quot;</span> <span class=\"na\">normalized=</span><span class=\"s\">&quot;υἱοῦ&quot;</span> <span class=\"na\">strong=</span><span class=\"s\">&quot;5207&quot;</span> <span class=\"na\">number=</span><span class=\"s\">&quot;singular&quot;</span> <span class=\"na\">gender=</span><span class=\"s\">&quot;masculine&quot;</span> <span class=\"na\">case=</span><span class=\"s\">&quot;genitive&quot;</span> <span class=\"na\">head=</span><span class=\"s\">&quot;true&quot;</span><span class=\"nt\">&gt;</span>υἱοῦ<span class=\"nt\">&lt;/w&gt;</span>\n",
       "          <span class=\"nt\">&lt;w</span> <span class=\"na\">class=</span><span class=\"s\">&quot;noun&quot;</span> <span class=\"na\">type=</span><span class=\"s\">&quot;proper&quot;</span> <span class=\"na\">osisId=</span><span class=\"s\">&quot;Matt.1.1!6&quot;</span> <span class=\"na\">n=</span><span class=\"s\">&quot;400010010060010&quot;</span> <span class=\"na\">lemma=</span><span class=\"s\">&quot;Δαυίδ&quot;</span> <span class=\"na\">normalized=</span><span class=\"s\">&quot;Δαυείδ&quot;</span> <span class=\"na\">strong=</span><span class=\"s\">&quot;1138&quot;</span> <span class=\"na\">number=</span><span class=\"s\">&quot;singular&quot;</span> <span class=\"na\">gender=</span><span class=\"s\">&quot;masculine&quot;</span> <span class=\"na\">case=</span><span class=\"s\">&quot;genitive&quot;</span><span class=\"nt\">&gt;</span>Δαυεὶδ<span class=\"nt\">&lt;/w&gt;</span>\n",
       "        <span class=\"nt\">&lt;/wg&gt;</span>\n",
       "      <span class=\"nt\">&lt;/wg&gt;</span>\n",
       "      <span class=\"nt\">&lt;wg</span> <span class=\"na\">class=</span><span class=\"s\">&quot;np&quot;</span> <span class=\"na\">n=</span><span class=\"s\">&quot;400010010070020&quot;</span><span class=\"nt\">&gt;</span>\n",
       "        <span class=\"nt\">&lt;w</span> <span class=\"na\">class=</span><span class=\"s\">&quot;noun&quot;</span> <span class=\"na\">type=</span><span class=\"s\">&quot;common&quot;</span> <span class=\"na\">osisId=</span><span class=\"s\">&quot;Matt.1.1!7&quot;</span> <span class=\"na\">n=</span><span class=\"s\">&quot;400010010070010&quot;</span> <span class=\"na\">lemma=</span><span class=\"s\">&quot;υἱός&quot;</span> <span class=\"na\">normalized=</span><span class=\"s\">&quot;υἱοῦ&quot;</span> <span class=\"na\">strong=</span><span class=\"s\">&quot;5207&quot;</span> <span class=\"na\">number=</span><span class=\"s\">&quot;singular&quot;</span> <span class=\"na\">gender=</span><span class=\"s\">&quot;masculine&quot;</span> <span class=\"na\">case=</span><span class=\"s\">&quot;genitive&quot;</span> <span class=\"na\">head=</span><span class=\"s\">&quot;true&quot;</span><span class=\"nt\">&gt;</span>υἱοῦ<span class=\"nt\">&lt;/w&gt;</span>\n",
       "        <span class=\"nt\">&lt;w</span> <span class=\"na\">class=</span><span class=\"s\">&quot;noun&quot;</span> <span class=\"na\">type=</span><span class=\"s\">&quot;proper&quot;</span> <span class=\"na\">osisId=</span><span class=\"s\">&quot;Matt.1.1!8&quot;</span> <span class=\"na\">n=</span><span class=\"s\">&quot;400010010080010&quot;</span> <span class=\"na\">lemma=</span><span class=\"s\">&quot;Ἀβραάμ&quot;</span> <span class=\"na\">normalized=</span><span class=\"s\">&quot;Ἀβραάμ&quot;</span> <span class=\"na\">strong=</span><span class=\"s\">&quot;11&quot;</span> <span class=\"na\">number=</span><span class=\"s\">&quot;singular&quot;</span> <span class=\"na\">gender=</span><span class=\"s\">&quot;masculine&quot;</span> <span class=\"na\">case=</span><span class=\"s\">&quot;genitive&quot;</span><span class=\"nt\">&gt;</span>Ἀβραάμ.<span class=\"nt\">&lt;/w&gt;</span>\n",
       "      <span class=\"nt\">&lt;/wg&gt;</span>\n",
       "    <span class=\"nt\">&lt;/wg&gt;</span>\n",
       "  <span class=\"nt\">&lt;/wg&gt;</span>\n",
       "<span class=\"nt\">&lt;/wg&gt;</span>\n",
       "</pre></div>\n"
      ],
      "text/plain": [
       "<IPython.core.display.HTML object>"
      ]
     },
     "metadata": {},
     "output_type": "display_data"
    }
   ],
   "source": [
    "xquery_display('(//wg[@class=\"np\"])[1]')"
   ]
  },
  {
   "cell_type": "markdown",
   "metadata": {},
   "source": [
    "And the first noun phrase that does not contain any word groups:"
   ]
  },
  {
   "cell_type": "code",
   "execution_count": 26,
   "metadata": {},
   "outputs": [
    {
     "data": {
      "text/html": [
       "<style type=\"text/css\">.highlight .hll { background-color: #ffffcc }\n",
       ".highlight  { background: #f8f8f8; }\n",
       ".highlight .c { color: #408080; font-style: italic } /* Comment */\n",
       ".highlight .err { border: 1px solid #FF0000 } /* Error */\n",
       ".highlight .k { color: #008000; font-weight: bold } /* Keyword */\n",
       ".highlight .o { color: #666666 } /* Operator */\n",
       ".highlight .ch { color: #408080; font-style: italic } /* Comment.Hashbang */\n",
       ".highlight .cm { color: #408080; font-style: italic } /* Comment.Multiline */\n",
       ".highlight .cp { color: #BC7A00 } /* Comment.Preproc */\n",
       ".highlight .cpf { color: #408080; font-style: italic } /* Comment.PreprocFile */\n",
       ".highlight .c1 { color: #408080; font-style: italic } /* Comment.Single */\n",
       ".highlight .cs { color: #408080; font-style: italic } /* Comment.Special */\n",
       ".highlight .gd { color: #A00000 } /* Generic.Deleted */\n",
       ".highlight .ge { font-style: italic } /* Generic.Emph */\n",
       ".highlight .gr { color: #FF0000 } /* Generic.Error */\n",
       ".highlight .gh { color: #000080; font-weight: bold } /* Generic.Heading */\n",
       ".highlight .gi { color: #00A000 } /* Generic.Inserted */\n",
       ".highlight .go { color: #888888 } /* Generic.Output */\n",
       ".highlight .gp { color: #000080; font-weight: bold } /* Generic.Prompt */\n",
       ".highlight .gs { font-weight: bold } /* Generic.Strong */\n",
       ".highlight .gu { color: #800080; font-weight: bold } /* Generic.Subheading */\n",
       ".highlight .gt { color: #0044DD } /* Generic.Traceback */\n",
       ".highlight .kc { color: #008000; font-weight: bold } /* Keyword.Constant */\n",
       ".highlight .kd { color: #008000; font-weight: bold } /* Keyword.Declaration */\n",
       ".highlight .kn { color: #008000; font-weight: bold } /* Keyword.Namespace */\n",
       ".highlight .kp { color: #008000 } /* Keyword.Pseudo */\n",
       ".highlight .kr { color: #008000; font-weight: bold } /* Keyword.Reserved */\n",
       ".highlight .kt { color: #B00040 } /* Keyword.Type */\n",
       ".highlight .m { color: #666666 } /* Literal.Number */\n",
       ".highlight .s { color: #BA2121 } /* Literal.String */\n",
       ".highlight .na { color: #7D9029 } /* Name.Attribute */\n",
       ".highlight .nb { color: #008000 } /* Name.Builtin */\n",
       ".highlight .nc { color: #0000FF; font-weight: bold } /* Name.Class */\n",
       ".highlight .no { color: #880000 } /* Name.Constant */\n",
       ".highlight .nd { color: #AA22FF } /* Name.Decorator */\n",
       ".highlight .ni { color: #999999; font-weight: bold } /* Name.Entity */\n",
       ".highlight .ne { color: #D2413A; font-weight: bold } /* Name.Exception */\n",
       ".highlight .nf { color: #0000FF } /* Name.Function */\n",
       ".highlight .nl { color: #A0A000 } /* Name.Label */\n",
       ".highlight .nn { color: #0000FF; font-weight: bold } /* Name.Namespace */\n",
       ".highlight .nt { color: #008000; font-weight: bold } /* Name.Tag */\n",
       ".highlight .nv { color: #19177C } /* Name.Variable */\n",
       ".highlight .ow { color: #AA22FF; font-weight: bold } /* Operator.Word */\n",
       ".highlight .w { color: #bbbbbb } /* Text.Whitespace */\n",
       ".highlight .mb { color: #666666 } /* Literal.Number.Bin */\n",
       ".highlight .mf { color: #666666 } /* Literal.Number.Float */\n",
       ".highlight .mh { color: #666666 } /* Literal.Number.Hex */\n",
       ".highlight .mi { color: #666666 } /* Literal.Number.Integer */\n",
       ".highlight .mo { color: #666666 } /* Literal.Number.Oct */\n",
       ".highlight .sa { color: #BA2121 } /* Literal.String.Affix */\n",
       ".highlight .sb { color: #BA2121 } /* Literal.String.Backtick */\n",
       ".highlight .sc { color: #BA2121 } /* Literal.String.Char */\n",
       ".highlight .dl { color: #BA2121 } /* Literal.String.Delimiter */\n",
       ".highlight .sd { color: #BA2121; font-style: italic } /* Literal.String.Doc */\n",
       ".highlight .s2 { color: #BA2121 } /* Literal.String.Double */\n",
       ".highlight .se { color: #BB6622; font-weight: bold } /* Literal.String.Escape */\n",
       ".highlight .sh { color: #BA2121 } /* Literal.String.Heredoc */\n",
       ".highlight .si { color: #BB6688; font-weight: bold } /* Literal.String.Interpol */\n",
       ".highlight .sx { color: #008000 } /* Literal.String.Other */\n",
       ".highlight .sr { color: #BB6688 } /* Literal.String.Regex */\n",
       ".highlight .s1 { color: #BA2121 } /* Literal.String.Single */\n",
       ".highlight .ss { color: #19177C } /* Literal.String.Symbol */\n",
       ".highlight .bp { color: #008000 } /* Name.Builtin.Pseudo */\n",
       ".highlight .fm { color: #0000FF } /* Name.Function.Magic */\n",
       ".highlight .vc { color: #19177C } /* Name.Variable.Class */\n",
       ".highlight .vg { color: #19177C } /* Name.Variable.Global */\n",
       ".highlight .vi { color: #19177C } /* Name.Variable.Instance */\n",
       ".highlight .vm { color: #19177C } /* Name.Variable.Magic */\n",
       ".highlight .il { color: #666666 } /* Literal.Number.Integer.Long */</style><div class=\"highlight\"><pre><span></span><span class=\"nt\">&lt;wg</span> <span class=\"na\">xmlns:xi=</span><span class=\"s\">&quot;http://www.w3.org/2001/XInclude&quot;</span> <span class=\"na\">class=</span><span class=\"s\">&quot;np&quot;</span> <span class=\"na\">n=</span><span class=\"s\">&quot;400010010030020&quot;</span> <span class=\"na\">head=</span><span class=\"s\">&quot;true&quot;</span><span class=\"nt\">&gt;</span>\n",
       "  <span class=\"nt\">&lt;w</span> <span class=\"na\">class=</span><span class=\"s\">&quot;noun&quot;</span> <span class=\"na\">type=</span><span class=\"s\">&quot;proper&quot;</span> <span class=\"na\">osisId=</span><span class=\"s\">&quot;Matt.1.1!3&quot;</span> <span class=\"na\">n=</span><span class=\"s\">&quot;400010010030010&quot;</span> <span class=\"na\">lemma=</span><span class=\"s\">&quot;Ἰησοῦς&quot;</span> <span class=\"na\">normalized=</span><span class=\"s\">&quot;Ἰησοῦ&quot;</span> <span class=\"na\">strong=</span><span class=\"s\">&quot;2424&quot;</span> <span class=\"na\">number=</span><span class=\"s\">&quot;singular&quot;</span> <span class=\"na\">gender=</span><span class=\"s\">&quot;masculine&quot;</span> <span class=\"na\">case=</span><span class=\"s\">&quot;genitive&quot;</span> <span class=\"na\">head=</span><span class=\"s\">&quot;true&quot;</span><span class=\"nt\">&gt;</span>Ἰησοῦ<span class=\"nt\">&lt;/w&gt;</span>\n",
       "  <span class=\"nt\">&lt;w</span> <span class=\"na\">class=</span><span class=\"s\">&quot;noun&quot;</span> <span class=\"na\">type=</span><span class=\"s\">&quot;proper&quot;</span> <span class=\"na\">osisId=</span><span class=\"s\">&quot;Matt.1.1!4&quot;</span> <span class=\"na\">n=</span><span class=\"s\">&quot;400010010040010&quot;</span> <span class=\"na\">lemma=</span><span class=\"s\">&quot;Χριστός&quot;</span> <span class=\"na\">normalized=</span><span class=\"s\">&quot;Χριστοῦ&quot;</span> <span class=\"na\">strong=</span><span class=\"s\">&quot;5547&quot;</span> <span class=\"na\">number=</span><span class=\"s\">&quot;singular&quot;</span> <span class=\"na\">gender=</span><span class=\"s\">&quot;masculine&quot;</span> <span class=\"na\">case=</span><span class=\"s\">&quot;genitive&quot;</span><span class=\"nt\">&gt;</span>Χριστοῦ<span class=\"nt\">&lt;/w&gt;</span>\n",
       "<span class=\"nt\">&lt;/wg&gt;</span>\n",
       "</pre></div>\n"
      ],
      "text/plain": [
       "<IPython.core.display.HTML object>"
      ]
     },
     "metadata": {},
     "output_type": "display_data"
    }
   ],
   "source": [
    "xquery_display('(//wg[@class=\"np\" and not(.//wg)])[1]')"
   ]
  },
  {
   "cell_type": "markdown",
   "metadata": {},
   "source": [
    "### Words\n",
    "\n",
    "Now let's look at individual words.  First, let's count the words in the New Testament:"
   ]
  },
  {
   "cell_type": "code",
   "execution_count": 27,
   "metadata": {},
   "outputs": [
    {
     "data": {
      "text/plain": [
       "'137779'"
      ]
     },
     "execution_count": 27,
     "metadata": {},
     "output_type": "execute_result"
    }
   ],
   "source": [
    "xquery('count(//w)')"
   ]
  },
  {
   "cell_type": "markdown",
   "metadata": {},
   "source": [
    "Let's look at the first word:"
   ]
  },
  {
   "cell_type": "code",
   "execution_count": 28,
   "metadata": {},
   "outputs": [
    {
     "data": {
      "text/html": [
       "<style type=\"text/css\">.highlight .hll { background-color: #ffffcc }\n",
       ".highlight  { background: #f8f8f8; }\n",
       ".highlight .c { color: #408080; font-style: italic } /* Comment */\n",
       ".highlight .err { border: 1px solid #FF0000 } /* Error */\n",
       ".highlight .k { color: #008000; font-weight: bold } /* Keyword */\n",
       ".highlight .o { color: #666666 } /* Operator */\n",
       ".highlight .ch { color: #408080; font-style: italic } /* Comment.Hashbang */\n",
       ".highlight .cm { color: #408080; font-style: italic } /* Comment.Multiline */\n",
       ".highlight .cp { color: #BC7A00 } /* Comment.Preproc */\n",
       ".highlight .cpf { color: #408080; font-style: italic } /* Comment.PreprocFile */\n",
       ".highlight .c1 { color: #408080; font-style: italic } /* Comment.Single */\n",
       ".highlight .cs { color: #408080; font-style: italic } /* Comment.Special */\n",
       ".highlight .gd { color: #A00000 } /* Generic.Deleted */\n",
       ".highlight .ge { font-style: italic } /* Generic.Emph */\n",
       ".highlight .gr { color: #FF0000 } /* Generic.Error */\n",
       ".highlight .gh { color: #000080; font-weight: bold } /* Generic.Heading */\n",
       ".highlight .gi { color: #00A000 } /* Generic.Inserted */\n",
       ".highlight .go { color: #888888 } /* Generic.Output */\n",
       ".highlight .gp { color: #000080; font-weight: bold } /* Generic.Prompt */\n",
       ".highlight .gs { font-weight: bold } /* Generic.Strong */\n",
       ".highlight .gu { color: #800080; font-weight: bold } /* Generic.Subheading */\n",
       ".highlight .gt { color: #0044DD } /* Generic.Traceback */\n",
       ".highlight .kc { color: #008000; font-weight: bold } /* Keyword.Constant */\n",
       ".highlight .kd { color: #008000; font-weight: bold } /* Keyword.Declaration */\n",
       ".highlight .kn { color: #008000; font-weight: bold } /* Keyword.Namespace */\n",
       ".highlight .kp { color: #008000 } /* Keyword.Pseudo */\n",
       ".highlight .kr { color: #008000; font-weight: bold } /* Keyword.Reserved */\n",
       ".highlight .kt { color: #B00040 } /* Keyword.Type */\n",
       ".highlight .m { color: #666666 } /* Literal.Number */\n",
       ".highlight .s { color: #BA2121 } /* Literal.String */\n",
       ".highlight .na { color: #7D9029 } /* Name.Attribute */\n",
       ".highlight .nb { color: #008000 } /* Name.Builtin */\n",
       ".highlight .nc { color: #0000FF; font-weight: bold } /* Name.Class */\n",
       ".highlight .no { color: #880000 } /* Name.Constant */\n",
       ".highlight .nd { color: #AA22FF } /* Name.Decorator */\n",
       ".highlight .ni { color: #999999; font-weight: bold } /* Name.Entity */\n",
       ".highlight .ne { color: #D2413A; font-weight: bold } /* Name.Exception */\n",
       ".highlight .nf { color: #0000FF } /* Name.Function */\n",
       ".highlight .nl { color: #A0A000 } /* Name.Label */\n",
       ".highlight .nn { color: #0000FF; font-weight: bold } /* Name.Namespace */\n",
       ".highlight .nt { color: #008000; font-weight: bold } /* Name.Tag */\n",
       ".highlight .nv { color: #19177C } /* Name.Variable */\n",
       ".highlight .ow { color: #AA22FF; font-weight: bold } /* Operator.Word */\n",
       ".highlight .w { color: #bbbbbb } /* Text.Whitespace */\n",
       ".highlight .mb { color: #666666 } /* Literal.Number.Bin */\n",
       ".highlight .mf { color: #666666 } /* Literal.Number.Float */\n",
       ".highlight .mh { color: #666666 } /* Literal.Number.Hex */\n",
       ".highlight .mi { color: #666666 } /* Literal.Number.Integer */\n",
       ".highlight .mo { color: #666666 } /* Literal.Number.Oct */\n",
       ".highlight .sa { color: #BA2121 } /* Literal.String.Affix */\n",
       ".highlight .sb { color: #BA2121 } /* Literal.String.Backtick */\n",
       ".highlight .sc { color: #BA2121 } /* Literal.String.Char */\n",
       ".highlight .dl { color: #BA2121 } /* Literal.String.Delimiter */\n",
       ".highlight .sd { color: #BA2121; font-style: italic } /* Literal.String.Doc */\n",
       ".highlight .s2 { color: #BA2121 } /* Literal.String.Double */\n",
       ".highlight .se { color: #BB6622; font-weight: bold } /* Literal.String.Escape */\n",
       ".highlight .sh { color: #BA2121 } /* Literal.String.Heredoc */\n",
       ".highlight .si { color: #BB6688; font-weight: bold } /* Literal.String.Interpol */\n",
       ".highlight .sx { color: #008000 } /* Literal.String.Other */\n",
       ".highlight .sr { color: #BB6688 } /* Literal.String.Regex */\n",
       ".highlight .s1 { color: #BA2121 } /* Literal.String.Single */\n",
       ".highlight .ss { color: #19177C } /* Literal.String.Symbol */\n",
       ".highlight .bp { color: #008000 } /* Name.Builtin.Pseudo */\n",
       ".highlight .fm { color: #0000FF } /* Name.Function.Magic */\n",
       ".highlight .vc { color: #19177C } /* Name.Variable.Class */\n",
       ".highlight .vg { color: #19177C } /* Name.Variable.Global */\n",
       ".highlight .vi { color: #19177C } /* Name.Variable.Instance */\n",
       ".highlight .vm { color: #19177C } /* Name.Variable.Magic */\n",
       ".highlight .il { color: #666666 } /* Literal.Number.Integer.Long */</style><div class=\"highlight\"><pre><span></span><span class=\"nt\">&lt;w</span> <span class=\"na\">xmlns:xi=</span><span class=\"s\">&quot;http://www.w3.org/2001/XInclude&quot;</span> <span class=\"na\">class=</span><span class=\"s\">&quot;noun&quot;</span> <span class=\"na\">type=</span><span class=\"s\">&quot;common&quot;</span> <span class=\"na\">osisId=</span><span class=\"s\">&quot;Matt.1.1!1&quot;</span> <span class=\"na\">n=</span><span class=\"s\">&quot;400010010010010&quot;</span> <span class=\"na\">lemma=</span><span class=\"s\">&quot;βίβλος&quot;</span> <span class=\"na\">normalized=</span><span class=\"s\">&quot;Βίβλος&quot;</span> <span class=\"na\">strong=</span><span class=\"s\">&quot;976&quot;</span> <span class=\"na\">number=</span><span class=\"s\">&quot;singular&quot;</span> <span class=\"na\">gender=</span><span class=\"s\">&quot;feminine&quot;</span> <span class=\"na\">case=</span><span class=\"s\">&quot;nominative&quot;</span> <span class=\"na\">head=</span><span class=\"s\">&quot;true&quot;</span><span class=\"nt\">&gt;</span>Βίβλος<span class=\"nt\">&lt;/w&gt;</span>\n",
       "</pre></div>\n"
      ],
      "text/plain": [
       "<IPython.core.display.HTML object>"
      ]
     },
     "metadata": {},
     "output_type": "display_data"
    }
   ],
   "source": [
    "xquery_display('(//w)[1]')"
   ]
  },
  {
   "cell_type": "markdown",
   "metadata": {},
   "source": [
    "And the last:"
   ]
  },
  {
   "cell_type": "code",
   "execution_count": 29,
   "metadata": {},
   "outputs": [
    {
     "data": {
      "text/html": [
       "<style type=\"text/css\">.highlight .hll { background-color: #ffffcc }\n",
       ".highlight  { background: #f8f8f8; }\n",
       ".highlight .c { color: #408080; font-style: italic } /* Comment */\n",
       ".highlight .err { border: 1px solid #FF0000 } /* Error */\n",
       ".highlight .k { color: #008000; font-weight: bold } /* Keyword */\n",
       ".highlight .o { color: #666666 } /* Operator */\n",
       ".highlight .ch { color: #408080; font-style: italic } /* Comment.Hashbang */\n",
       ".highlight .cm { color: #408080; font-style: italic } /* Comment.Multiline */\n",
       ".highlight .cp { color: #BC7A00 } /* Comment.Preproc */\n",
       ".highlight .cpf { color: #408080; font-style: italic } /* Comment.PreprocFile */\n",
       ".highlight .c1 { color: #408080; font-style: italic } /* Comment.Single */\n",
       ".highlight .cs { color: #408080; font-style: italic } /* Comment.Special */\n",
       ".highlight .gd { color: #A00000 } /* Generic.Deleted */\n",
       ".highlight .ge { font-style: italic } /* Generic.Emph */\n",
       ".highlight .gr { color: #FF0000 } /* Generic.Error */\n",
       ".highlight .gh { color: #000080; font-weight: bold } /* Generic.Heading */\n",
       ".highlight .gi { color: #00A000 } /* Generic.Inserted */\n",
       ".highlight .go { color: #888888 } /* Generic.Output */\n",
       ".highlight .gp { color: #000080; font-weight: bold } /* Generic.Prompt */\n",
       ".highlight .gs { font-weight: bold } /* Generic.Strong */\n",
       ".highlight .gu { color: #800080; font-weight: bold } /* Generic.Subheading */\n",
       ".highlight .gt { color: #0044DD } /* Generic.Traceback */\n",
       ".highlight .kc { color: #008000; font-weight: bold } /* Keyword.Constant */\n",
       ".highlight .kd { color: #008000; font-weight: bold } /* Keyword.Declaration */\n",
       ".highlight .kn { color: #008000; font-weight: bold } /* Keyword.Namespace */\n",
       ".highlight .kp { color: #008000 } /* Keyword.Pseudo */\n",
       ".highlight .kr { color: #008000; font-weight: bold } /* Keyword.Reserved */\n",
       ".highlight .kt { color: #B00040 } /* Keyword.Type */\n",
       ".highlight .m { color: #666666 } /* Literal.Number */\n",
       ".highlight .s { color: #BA2121 } /* Literal.String */\n",
       ".highlight .na { color: #7D9029 } /* Name.Attribute */\n",
       ".highlight .nb { color: #008000 } /* Name.Builtin */\n",
       ".highlight .nc { color: #0000FF; font-weight: bold } /* Name.Class */\n",
       ".highlight .no { color: #880000 } /* Name.Constant */\n",
       ".highlight .nd { color: #AA22FF } /* Name.Decorator */\n",
       ".highlight .ni { color: #999999; font-weight: bold } /* Name.Entity */\n",
       ".highlight .ne { color: #D2413A; font-weight: bold } /* Name.Exception */\n",
       ".highlight .nf { color: #0000FF } /* Name.Function */\n",
       ".highlight .nl { color: #A0A000 } /* Name.Label */\n",
       ".highlight .nn { color: #0000FF; font-weight: bold } /* Name.Namespace */\n",
       ".highlight .nt { color: #008000; font-weight: bold } /* Name.Tag */\n",
       ".highlight .nv { color: #19177C } /* Name.Variable */\n",
       ".highlight .ow { color: #AA22FF; font-weight: bold } /* Operator.Word */\n",
       ".highlight .w { color: #bbbbbb } /* Text.Whitespace */\n",
       ".highlight .mb { color: #666666 } /* Literal.Number.Bin */\n",
       ".highlight .mf { color: #666666 } /* Literal.Number.Float */\n",
       ".highlight .mh { color: #666666 } /* Literal.Number.Hex */\n",
       ".highlight .mi { color: #666666 } /* Literal.Number.Integer */\n",
       ".highlight .mo { color: #666666 } /* Literal.Number.Oct */\n",
       ".highlight .sa { color: #BA2121 } /* Literal.String.Affix */\n",
       ".highlight .sb { color: #BA2121 } /* Literal.String.Backtick */\n",
       ".highlight .sc { color: #BA2121 } /* Literal.String.Char */\n",
       ".highlight .dl { color: #BA2121 } /* Literal.String.Delimiter */\n",
       ".highlight .sd { color: #BA2121; font-style: italic } /* Literal.String.Doc */\n",
       ".highlight .s2 { color: #BA2121 } /* Literal.String.Double */\n",
       ".highlight .se { color: #BB6622; font-weight: bold } /* Literal.String.Escape */\n",
       ".highlight .sh { color: #BA2121 } /* Literal.String.Heredoc */\n",
       ".highlight .si { color: #BB6688; font-weight: bold } /* Literal.String.Interpol */\n",
       ".highlight .sx { color: #008000 } /* Literal.String.Other */\n",
       ".highlight .sr { color: #BB6688 } /* Literal.String.Regex */\n",
       ".highlight .s1 { color: #BA2121 } /* Literal.String.Single */\n",
       ".highlight .ss { color: #19177C } /* Literal.String.Symbol */\n",
       ".highlight .bp { color: #008000 } /* Name.Builtin.Pseudo */\n",
       ".highlight .fm { color: #0000FF } /* Name.Function.Magic */\n",
       ".highlight .vc { color: #19177C } /* Name.Variable.Class */\n",
       ".highlight .vg { color: #19177C } /* Name.Variable.Global */\n",
       ".highlight .vi { color: #19177C } /* Name.Variable.Instance */\n",
       ".highlight .vm { color: #19177C } /* Name.Variable.Magic */\n",
       ".highlight .il { color: #666666 } /* Literal.Number.Integer.Long */</style><div class=\"highlight\"><pre><span></span><span class=\"nt\">&lt;w</span> <span class=\"na\">xmlns:xi=</span><span class=\"s\">&quot;http://www.w3.org/2001/XInclude&quot;</span> <span class=\"na\">class=</span><span class=\"s\">&quot;adj&quot;</span> <span class=\"na\">osisId=</span><span class=\"s\">&quot;Rev.22.21!7&quot;</span> <span class=\"na\">n=</span><span class=\"s\">&quot;660220210070010&quot;</span> <span class=\"na\">lemma=</span><span class=\"s\">&quot;πᾶς&quot;</span> <span class=\"na\">normalized=</span><span class=\"s\">&quot;πάντων&quot;</span> <span class=\"na\">strong=</span><span class=\"s\">&quot;3956&quot;</span> <span class=\"na\">number=</span><span class=\"s\">&quot;plural&quot;</span> <span class=\"na\">gender=</span><span class=\"s\">&quot;masculine&quot;</span> <span class=\"na\">case=</span><span class=\"s\">&quot;genitive&quot;</span> <span class=\"na\">head=</span><span class=\"s\">&quot;true&quot;</span><span class=\"nt\">&gt;</span>πάντων.<span class=\"nt\">&lt;/w&gt;</span>\n",
       "</pre></div>\n"
      ],
      "text/plain": [
       "<IPython.core.display.HTML object>"
      ]
     },
     "metadata": {},
     "output_type": "display_data"
    }
   ],
   "source": [
    "xquery_display('(//w)[last()]')"
   ]
  },
  {
   "cell_type": "markdown",
   "metadata": {},
   "source": [
    "We can choose words of a given class, e.g. nouns or verbs.  Let's count the nouns:"
   ]
  },
  {
   "cell_type": "code",
   "execution_count": 30,
   "metadata": {},
   "outputs": [
    {
     "data": {
      "text/plain": [
       "'28455'"
      ]
     },
     "execution_count": 30,
     "metadata": {},
     "output_type": "execute_result"
    }
   ],
   "source": [
    "xquery('count(//w[@class=\"noun\"])')"
   ]
  },
  {
   "cell_type": "markdown",
   "metadata": {},
   "source": [
    "Let's see how many are proper and how many are common:"
   ]
  },
  {
   "cell_type": "code",
   "execution_count": 31,
   "metadata": {},
   "outputs": [
    {
     "data": {
      "text/plain": [
       "'4632'"
      ]
     },
     "execution_count": 31,
     "metadata": {},
     "output_type": "execute_result"
    }
   ],
   "source": [
    "xquery('count(//w[@class=\"noun\" and @type=\"proper\"])')"
   ]
  },
  {
   "cell_type": "code",
   "execution_count": 32,
   "metadata": {},
   "outputs": [
    {
     "data": {
      "text/plain": [
       "'23627'"
      ]
     },
     "execution_count": 32,
     "metadata": {},
     "output_type": "execute_result"
    }
   ],
   "source": [
    "xquery('count(//w[@class=\"noun\" and @type=\"common\"])')"
   ]
  },
  {
   "cell_type": "markdown",
   "metadata": {},
   "source": [
    "Now let's count the verbs:"
   ]
  },
  {
   "cell_type": "code",
   "execution_count": 33,
   "metadata": {},
   "outputs": [
    {
     "data": {
      "text/plain": [
       "'28357'"
      ]
     },
     "execution_count": 33,
     "metadata": {},
     "output_type": "execute_result"
    }
   ],
   "source": [
    "xquery('count(//w[@class=\"verb\"])')"
   ]
  },
  {
   "cell_type": "markdown",
   "metadata": {},
   "source": [
    "## Morphology\n",
    "\n",
    "Words contain attributes that describe their morphology.  These can be used in queries on words.  For instance, here is an example of a word in John 3:16:\n",
    "\n",
    "```xml\n",
    "   <w role=\"v\"\n",
    "      class=\"verb\"\n",
    "      osisId=\"John.3.16!17\"\n",
    "      n=\"430030160170010\"\n",
    "      lemma=\"πιστεύω\"\n",
    "      normalized=\"πιστεύων\"\n",
    "      strong=\"4100\"\n",
    "      number=\"singular\"\n",
    "      gender=\"masculine\"\n",
    "      case=\"nominative\"\n",
    "      tense=\"present\"\n",
    "      voice=\"active\"\n",
    "      mood=\"participle\"\n",
    "      head=\"true\">πιστεύων</w>\n",
    "```\n",
    "\n",
    "Let's do some queries using the attributes we see in this example.  \n",
    "\n",
    "How many times do we see the word πιστεύω?"
   ]
  },
  {
   "cell_type": "code",
   "execution_count": 34,
   "metadata": {},
   "outputs": [
    {
     "data": {
      "text/plain": [
       "'241'"
      ]
     },
     "execution_count": 34,
     "metadata": {},
     "output_type": "execute_result"
    }
   ],
   "source": [
    "xquery('count(//w[@lemma=\"πιστεύω\"])')"
   ]
  },
  {
   "cell_type": "markdown",
   "metadata": {},
   "source": [
    "The osisId identifies the verse in which each word occurs and the position of the word within the verse:"
   ]
  },
  {
   "cell_type": "code",
   "execution_count": 35,
   "metadata": {},
   "outputs": [
    {
     "data": {
      "text/html": [
       "<style type=\"text/css\">.highlight .hll { background-color: #ffffcc }\n",
       ".highlight  { background: #f8f8f8; }\n",
       ".highlight .c { color: #408080; font-style: italic } /* Comment */\n",
       ".highlight .err { border: 1px solid #FF0000 } /* Error */\n",
       ".highlight .k { color: #008000; font-weight: bold } /* Keyword */\n",
       ".highlight .o { color: #666666 } /* Operator */\n",
       ".highlight .ch { color: #408080; font-style: italic } /* Comment.Hashbang */\n",
       ".highlight .cm { color: #408080; font-style: italic } /* Comment.Multiline */\n",
       ".highlight .cp { color: #BC7A00 } /* Comment.Preproc */\n",
       ".highlight .cpf { color: #408080; font-style: italic } /* Comment.PreprocFile */\n",
       ".highlight .c1 { color: #408080; font-style: italic } /* Comment.Single */\n",
       ".highlight .cs { color: #408080; font-style: italic } /* Comment.Special */\n",
       ".highlight .gd { color: #A00000 } /* Generic.Deleted */\n",
       ".highlight .ge { font-style: italic } /* Generic.Emph */\n",
       ".highlight .gr { color: #FF0000 } /* Generic.Error */\n",
       ".highlight .gh { color: #000080; font-weight: bold } /* Generic.Heading */\n",
       ".highlight .gi { color: #00A000 } /* Generic.Inserted */\n",
       ".highlight .go { color: #888888 } /* Generic.Output */\n",
       ".highlight .gp { color: #000080; font-weight: bold } /* Generic.Prompt */\n",
       ".highlight .gs { font-weight: bold } /* Generic.Strong */\n",
       ".highlight .gu { color: #800080; font-weight: bold } /* Generic.Subheading */\n",
       ".highlight .gt { color: #0044DD } /* Generic.Traceback */\n",
       ".highlight .kc { color: #008000; font-weight: bold } /* Keyword.Constant */\n",
       ".highlight .kd { color: #008000; font-weight: bold } /* Keyword.Declaration */\n",
       ".highlight .kn { color: #008000; font-weight: bold } /* Keyword.Namespace */\n",
       ".highlight .kp { color: #008000 } /* Keyword.Pseudo */\n",
       ".highlight .kr { color: #008000; font-weight: bold } /* Keyword.Reserved */\n",
       ".highlight .kt { color: #B00040 } /* Keyword.Type */\n",
       ".highlight .m { color: #666666 } /* Literal.Number */\n",
       ".highlight .s { color: #BA2121 } /* Literal.String */\n",
       ".highlight .na { color: #7D9029 } /* Name.Attribute */\n",
       ".highlight .nb { color: #008000 } /* Name.Builtin */\n",
       ".highlight .nc { color: #0000FF; font-weight: bold } /* Name.Class */\n",
       ".highlight .no { color: #880000 } /* Name.Constant */\n",
       ".highlight .nd { color: #AA22FF } /* Name.Decorator */\n",
       ".highlight .ni { color: #999999; font-weight: bold } /* Name.Entity */\n",
       ".highlight .ne { color: #D2413A; font-weight: bold } /* Name.Exception */\n",
       ".highlight .nf { color: #0000FF } /* Name.Function */\n",
       ".highlight .nl { color: #A0A000 } /* Name.Label */\n",
       ".highlight .nn { color: #0000FF; font-weight: bold } /* Name.Namespace */\n",
       ".highlight .nt { color: #008000; font-weight: bold } /* Name.Tag */\n",
       ".highlight .nv { color: #19177C } /* Name.Variable */\n",
       ".highlight .ow { color: #AA22FF; font-weight: bold } /* Operator.Word */\n",
       ".highlight .w { color: #bbbbbb } /* Text.Whitespace */\n",
       ".highlight .mb { color: #666666 } /* Literal.Number.Bin */\n",
       ".highlight .mf { color: #666666 } /* Literal.Number.Float */\n",
       ".highlight .mh { color: #666666 } /* Literal.Number.Hex */\n",
       ".highlight .mi { color: #666666 } /* Literal.Number.Integer */\n",
       ".highlight .mo { color: #666666 } /* Literal.Number.Oct */\n",
       ".highlight .sa { color: #BA2121 } /* Literal.String.Affix */\n",
       ".highlight .sb { color: #BA2121 } /* Literal.String.Backtick */\n",
       ".highlight .sc { color: #BA2121 } /* Literal.String.Char */\n",
       ".highlight .dl { color: #BA2121 } /* Literal.String.Delimiter */\n",
       ".highlight .sd { color: #BA2121; font-style: italic } /* Literal.String.Doc */\n",
       ".highlight .s2 { color: #BA2121 } /* Literal.String.Double */\n",
       ".highlight .se { color: #BB6622; font-weight: bold } /* Literal.String.Escape */\n",
       ".highlight .sh { color: #BA2121 } /* Literal.String.Heredoc */\n",
       ".highlight .si { color: #BB6688; font-weight: bold } /* Literal.String.Interpol */\n",
       ".highlight .sx { color: #008000 } /* Literal.String.Other */\n",
       ".highlight .sr { color: #BB6688 } /* Literal.String.Regex */\n",
       ".highlight .s1 { color: #BA2121 } /* Literal.String.Single */\n",
       ".highlight .ss { color: #19177C } /* Literal.String.Symbol */\n",
       ".highlight .bp { color: #008000 } /* Name.Builtin.Pseudo */\n",
       ".highlight .fm { color: #0000FF } /* Name.Function.Magic */\n",
       ".highlight .vc { color: #19177C } /* Name.Variable.Class */\n",
       ".highlight .vg { color: #19177C } /* Name.Variable.Global */\n",
       ".highlight .vi { color: #19177C } /* Name.Variable.Instance */\n",
       ".highlight .vm { color: #19177C } /* Name.Variable.Magic */\n",
       ".highlight .il { color: #666666 } /* Literal.Number.Integer.Long */</style><div class=\"highlight\"><pre><span></span>osisId=&quot;Matt.8.13!9&quot;\n",
       "osisId=&quot;Matt.9.28!15&quot;\n",
       "osisId=&quot;Matt.18.6!10&quot;\n",
       "osisId=&quot;Matt.21.22!9&quot;\n",
       "osisId=&quot;Matt.21.25!28&quot;\n",
       "osisId=&quot;Matt.21.32!11&quot;\n",
       "osisId=&quot;Matt.21.32!19&quot;\n",
       "osisId=&quot;Matt.21.32!28&quot;\n",
       "osisId=&quot;Matt.24.23!13&quot;\n",
       "osisId=&quot;Matt.24.26!17&quot;\n",
       "osisId=&quot;Matt.27.42!16&quot;\n",
       "osisId=&quot;Mark.1.15!15&quot;\n",
       "osisId=&quot;Mark.5.36!14&quot;\n",
       "osisId=&quot;Mark.9.23!12&quot;\n",
       "osisId=&quot;Mark.9.24!8&quot;\n",
       "osisId=&quot;Mark.9.42!10&quot;\n",
       "osisId=&quot;Mark.11.23!25&quot;\n",
       "osisId=&quot;Mark.11.24!10&quot;\n",
       "osisId=&quot;Mark.11.31!15&quot;\n",
       "osisId=&quot;Mark.13.21!14&quot;\n",
       "osisId=&quot;Mark.15.32!14&quot;\n",
       "osisId=&quot;Mark.16.13!8&quot;\n",
       "osisId=&quot;Mark.16.14!21&quot;\n",
       "osisId=&quot;Mark.16.16!2&quot;\n",
       "osisId=&quot;Mark.16.17!4&quot;\n",
       "osisId=&quot;Luke.1.20!17&quot;\n",
       "osisId=&quot;Luke.1.45!4&quot;\n",
       "osisId=&quot;Luke.8.12!23&quot;\n",
       "osisId=&quot;Luke.8.13!22&quot;\n",
       "osisId=&quot;Luke.8.50!10&quot;\n",
       "osisId=&quot;Luke.16.11!14&quot;\n",
       "osisId=&quot;Luke.20.5!16&quot;\n",
       "osisId=&quot;Luke.22.67!17&quot;\n",
       "osisId=&quot;Luke.24.25!13&quot;\n",
       "osisId=&quot;John.1.7!12&quot;\n",
       "osisId=&quot;John.1.12!12&quot;\n",
       "osisId=&quot;John.1.50!15&quot;\n",
       "osisId=&quot;John.2.11!18&quot;\n",
       "osisId=&quot;John.2.22!14&quot;\n",
       "osisId=&quot;John.2.23!14&quot;\n",
       "osisId=&quot;John.2.24!5&quot;\n",
       "osisId=&quot;John.3.12!8&quot;\n",
       "osisId=&quot;John.3.12!15&quot;\n",
       "osisId=&quot;John.3.15!4&quot;\n",
       "osisId=&quot;John.3.16!17&quot;\n",
       "osisId=&quot;John.3.18!2&quot;\n",
       "osisId=&quot;John.3.18!9&quot;\n",
       "osisId=&quot;John.3.18!14&quot;\n",
       "osisId=&quot;John.3.36!2&quot;\n",
       "osisId=&quot;John.4.21!5&quot;\n",
       "osisId=&quot;John.4.39!7&quot;\n",
       "osisId=&quot;John.4.41!4&quot;\n",
       "osisId=&quot;John.4.42!11&quot;\n",
       "osisId=&quot;John.4.48!15&quot;\n",
       "osisId=&quot;John.4.50!10&quot;\n",
       "osisId=&quot;John.4.53!20&quot;\n",
       "osisId=&quot;John.5.24!12&quot;\n",
       "osisId=&quot;John.5.38!17&quot;\n",
       "osisId=&quot;John.5.44!4&quot;\n",
       "osisId=&quot;John.5.46!3&quot;\n",
       "osisId=&quot;John.5.46!5&quot;\n",
       "osisId=&quot;John.5.47!7&quot;\n",
       "osisId=&quot;John.5.47!12&quot;\n",
       "osisId=&quot;John.6.29!13&quot;\n",
       "osisId=&quot;John.6.30!12&quot;\n",
       "osisId=&quot;John.6.35!20&quot;\n",
       "osisId=&quot;John.6.36!10&quot;\n",
       "osisId=&quot;John.6.40!16&quot;\n",
       "osisId=&quot;John.6.47!6&quot;\n",
       "osisId=&quot;John.6.64!8&quot;\n",
       "osisId=&quot;John.6.64!19&quot;\n",
       "osisId=&quot;John.6.69!3&quot;\n",
       "osisId=&quot;John.7.5!6&quot;\n",
       "osisId=&quot;John.7.31!6&quot;\n",
       "osisId=&quot;John.7.38!2&quot;\n",
       "osisId=&quot;John.7.39!11&quot;\n",
       "osisId=&quot;John.7.48!6&quot;\n",
       "osisId=&quot;John.8.24!13&quot;\n",
       "osisId=&quot;John.8.30!5&quot;\n",
       "osisId=&quot;John.8.31!7&quot;\n",
       "osisId=&quot;John.8.45!8&quot;\n",
       "osisId=&quot;John.8.46!15&quot;\n",
       "osisId=&quot;John.9.18!2&quot;\n",
       "osisId=&quot;John.9.35!12&quot;\n",
       "osisId=&quot;John.9.36!10&quot;\n",
       "osisId=&quot;John.9.38!4&quot;\n",
       "osisId=&quot;John.10.25!9&quot;\n",
       "osisId=&quot;John.10.26!4&quot;\n",
       "osisId=&quot;John.10.37!10&quot;\n",
       "osisId=&quot;John.10.38!7&quot;\n",
       "osisId=&quot;John.10.38!10&quot;\n",
       "osisId=&quot;John.10.42!3&quot;\n",
       "osisId=&quot;John.11.15!6&quot;\n",
       "osisId=&quot;John.11.25!13&quot;\n",
       "osisId=&quot;John.11.26!6&quot;\n",
       "osisId=&quot;John.11.26!15&quot;\n",
       "osisId=&quot;John.11.27!6&quot;\n",
       "osisId=&quot;John.11.40!10&quot;\n",
       "osisId=&quot;John.11.42!16&quot;\n",
       "osisId=&quot;John.11.45!15&quot;\n",
       "osisId=&quot;John.11.48!6&quot;\n",
       "osisId=&quot;John.12.11!9&quot;\n",
       "osisId=&quot;John.12.36!5&quot;\n",
       "osisId=&quot;John.12.37!9&quot;\n",
       "osisId=&quot;John.12.38!12&quot;\n",
       "osisId=&quot;John.12.39!5&quot;\n",
       "osisId=&quot;John.12.42!8&quot;\n",
       "osisId=&quot;John.12.44!7&quot;\n",
       "osisId=&quot;John.12.44!11&quot;\n",
       "osisId=&quot;John.12.46!10&quot;\n",
       "osisId=&quot;John.13.19!9&quot;\n",
       "osisId=&quot;John.14.1!6&quot;\n",
       "osisId=&quot;John.14.1!13&quot;\n",
       "osisId=&quot;John.14.10!2&quot;\n",
       "osisId=&quot;John.14.11!1&quot;\n",
       "osisId=&quot;John.14.11!20&quot;\n",
       "osisId=&quot;John.14.12!6&quot;\n",
       "osisId=&quot;John.14.29!10&quot;\n",
       "osisId=&quot;John.16.9!6&quot;\n",
       "osisId=&quot;John.16.27!12&quot;\n",
       "osisId=&quot;John.16.30!16&quot;\n",
       "osisId=&quot;John.16.31!5&quot;\n",
       "osisId=&quot;John.17.8!20&quot;\n",
       "osisId=&quot;John.17.20!11&quot;\n",
       "osisId=&quot;John.17.21!22&quot;\n",
       "osisId=&quot;John.19.35!20&quot;\n",
       "osisId=&quot;John.20.8!17&quot;\n",
       "osisId=&quot;John.20.25!46&quot;\n",
       "osisId=&quot;John.20.29!8&quot;\n",
       "osisId=&quot;John.20.29!14&quot;\n",
       "osisId=&quot;John.20.31!5&quot;\n",
       "osisId=&quot;John.20.31!17&quot;\n",
       "osisId=&quot;Acts.2.44!4&quot;\n",
       "osisId=&quot;Acts.4.4!7&quot;\n",
       "osisId=&quot;Acts.4.32!5&quot;\n",
       "osisId=&quot;Acts.5.14!4&quot;\n",
       "osisId=&quot;Acts.8.12!3&quot;\n",
       "osisId=&quot;Acts.8.13!6&quot;\n",
       "osisId=&quot;Acts.9.26!14&quot;\n",
       "osisId=&quot;Acts.9.42!9&quot;\n",
       "osisId=&quot;Acts.10.43!15&quot;\n",
       "osisId=&quot;Acts.11.17!13&quot;\n",
       "osisId=&quot;Acts.11.21!11&quot;\n",
       "osisId=&quot;Acts.13.12!7&quot;\n",
       "osisId=&quot;Acts.13.39!5&quot;\n",
       "osisId=&quot;Acts.13.41!20&quot;\n",
       "osisId=&quot;Acts.13.48!13&quot;\n",
       "osisId=&quot;Acts.14.1!19&quot;\n",
       "osisId=&quot;Acts.14.23!16&quot;\n",
       "osisId=&quot;Acts.15.5!10&quot;\n",
       "osisId=&quot;Acts.15.7!35&quot;\n",
       "osisId=&quot;Acts.15.11!8&quot;\n",
       "osisId=&quot;Acts.16.31!4&quot;\n",
       "osisId=&quot;Acts.16.34!12&quot;\n",
       "osisId=&quot;Acts.17.12!6&quot;\n",
       "osisId=&quot;Acts.17.34!6&quot;\n",
       "osisId=&quot;Acts.18.8!5&quot;\n",
       "osisId=&quot;Acts.18.8!18&quot;\n",
       "osisId=&quot;Acts.18.27!21&quot;\n",
       "osisId=&quot;Acts.19.2!9&quot;\n",
       "osisId=&quot;Acts.19.4!17&quot;\n",
       "osisId=&quot;Acts.19.18!4&quot;\n",
       "osisId=&quot;Acts.21.20!19&quot;\n",
       "osisId=&quot;Acts.21.25!4&quot;\n",
       "osisId=&quot;Acts.22.19!16&quot;\n",
       "osisId=&quot;Acts.24.14!17&quot;\n",
       "osisId=&quot;Acts.26.27!1&quot;\n",
       "osisId=&quot;Acts.26.27!8&quot;\n",
       "osisId=&quot;Acts.27.25!4&quot;\n",
       "osisId=&quot;Rom.1.16!14&quot;\n",
       "osisId=&quot;Rom.3.2!9&quot;\n",
       "osisId=&quot;Rom.3.22!11&quot;\n",
       "osisId=&quot;Rom.4.3!6&quot;\n",
       "osisId=&quot;Rom.4.5!5&quot;\n",
       "osisId=&quot;Rom.4.11!21&quot;\n",
       "osisId=&quot;Rom.4.17!11&quot;\n",
       "osisId=&quot;Rom.4.18!6&quot;\n",
       "osisId=&quot;Rom.4.24!9&quot;\n",
       "osisId=&quot;Rom.6.8!6&quot;\n",
       "osisId=&quot;Rom.9.33!14&quot;\n",
       "osisId=&quot;Rom.10.4!9&quot;\n",
       "osisId=&quot;Rom.10.9!11&quot;\n",
       "osisId=&quot;Rom.10.10!3&quot;\n",
       "osisId=&quot;Rom.10.11!7&quot;\n",
       "osisId=&quot;Rom.10.14!7&quot;\n",
       "osisId=&quot;Rom.10.14!10&quot;\n",
       "osisId=&quot;Rom.10.16!12&quot;\n",
       "osisId=&quot;Rom.13.11!21&quot;\n",
       "osisId=&quot;Rom.14.2!3&quot;\n",
       "osisId=&quot;Rom.15.13!14&quot;\n",
       "osisId=&quot;1Cor.1.21!27&quot;\n",
       "osisId=&quot;1Cor.3.5!12&quot;\n",
       "osisId=&quot;1Cor.9.17!12&quot;\n",
       "osisId=&quot;1Cor.11.18!16&quot;\n",
       "osisId=&quot;1Cor.13.7!4&quot;\n",
       "osisId=&quot;1Cor.14.22!9&quot;\n",
       "osisId=&quot;1Cor.14.22!21&quot;\n",
       "osisId=&quot;1Cor.15.2!15&quot;\n",
       "osisId=&quot;1Cor.15.11!10&quot;\n",
       "osisId=&quot;2Cor.4.13!11&quot;\n",
       "osisId=&quot;2Cor.4.13!16&quot;\n",
       "osisId=&quot;Gal.2.7!5&quot;\n",
       "osisId=&quot;Gal.2.16!21&quot;\n",
       "osisId=&quot;Gal.3.6!3&quot;\n",
       "osisId=&quot;Gal.3.22!18&quot;\n",
       "osisId=&quot;Eph.1.13!18&quot;\n",
       "osisId=&quot;Eph.1.19!12&quot;\n",
       "osisId=&quot;Phil.1.29!12&quot;\n",
       "osisId=&quot;1Thess.1.7!7&quot;\n",
       "osisId=&quot;1Thess.2.4!7&quot;\n",
       "osisId=&quot;1Thess.2.10!14&quot;\n",
       "osisId=&quot;1Thess.2.13!34&quot;\n",
       "osisId=&quot;1Thess.4.14!3&quot;\n",
       "osisId=&quot;2Thess.1.10!13&quot;\n",
       "osisId=&quot;2Thess.1.10!15&quot;\n",
       "osisId=&quot;2Thess.2.11!12&quot;\n",
       "osisId=&quot;2Thess.2.12!6&quot;\n",
       "osisId=&quot;1Tim.1.11!10&quot;\n",
       "osisId=&quot;1Tim.1.16!19&quot;\n",
       "osisId=&quot;1Tim.3.16!21&quot;\n",
       "osisId=&quot;2Tim.1.12!13&quot;\n",
       "osisId=&quot;Titus.1.3!11&quot;\n",
       "osisId=&quot;Titus.3.8!16&quot;\n",
       "osisId=&quot;Heb.4.3!7&quot;\n",
       "osisId=&quot;Heb.11.6!6&quot;\n",
       "osisId=&quot;Jas.2.19!2&quot;\n",
       "osisId=&quot;Jas.2.19!13&quot;\n",
       "osisId=&quot;Jas.2.23!7&quot;\n",
       "osisId=&quot;1Pet.1.8!10&quot;\n",
       "osisId=&quot;1Pet.2.6!15&quot;\n",
       "osisId=&quot;1Pet.2.7!6&quot;\n",
       "osisId=&quot;1John.3.23!8&quot;\n",
       "osisId=&quot;1John.4.1!5&quot;\n",
       "osisId=&quot;1John.4.16!5&quot;\n",
       "osisId=&quot;1John.5.1!3&quot;\n",
       "osisId=&quot;1John.5.5!10&quot;\n",
       "osisId=&quot;1John.5.10!2&quot;\n",
       "osisId=&quot;1John.5.10!15&quot;\n",
       "osisId=&quot;1John.5.10!23&quot;\n",
       "osisId=&quot;1John.5.13!11&quot;\n",
       "osisId=&quot;Jude.1.5!19&quot;\n",
       "</pre></div>\n"
      ],
      "text/plain": [
       "<IPython.core.display.HTML object>"
      ]
     },
     "metadata": {},
     "output_type": "display_data"
    }
   ],
   "source": [
    "xquery_display('//w[@lemma=\"πιστεύω\"]/@osisId')"
   ]
  },
  {
   "cell_type": "markdown",
   "metadata": {},
   "source": [
    "Now let's look for participle forms of this verb that are singular, masculine, and nominative using XQuery grouping.\n",
    "\n",
    "In this query, the normalized attribute removes punctuation and normalizes accent differences due to phonological context."
   ]
  },
  {
   "cell_type": "code",
   "execution_count": 36,
   "metadata": {},
   "outputs": [
    {
     "data": {
      "text/html": [
       "<style type=\"text/css\">.highlight .hll { background-color: #ffffcc }\n",
       ".highlight  { background: #f8f8f8; }\n",
       ".highlight .c { color: #408080; font-style: italic } /* Comment */\n",
       ".highlight .err { border: 1px solid #FF0000 } /* Error */\n",
       ".highlight .k { color: #008000; font-weight: bold } /* Keyword */\n",
       ".highlight .o { color: #666666 } /* Operator */\n",
       ".highlight .ch { color: #408080; font-style: italic } /* Comment.Hashbang */\n",
       ".highlight .cm { color: #408080; font-style: italic } /* Comment.Multiline */\n",
       ".highlight .cp { color: #BC7A00 } /* Comment.Preproc */\n",
       ".highlight .cpf { color: #408080; font-style: italic } /* Comment.PreprocFile */\n",
       ".highlight .c1 { color: #408080; font-style: italic } /* Comment.Single */\n",
       ".highlight .cs { color: #408080; font-style: italic } /* Comment.Special */\n",
       ".highlight .gd { color: #A00000 } /* Generic.Deleted */\n",
       ".highlight .ge { font-style: italic } /* Generic.Emph */\n",
       ".highlight .gr { color: #FF0000 } /* Generic.Error */\n",
       ".highlight .gh { color: #000080; font-weight: bold } /* Generic.Heading */\n",
       ".highlight .gi { color: #00A000 } /* Generic.Inserted */\n",
       ".highlight .go { color: #888888 } /* Generic.Output */\n",
       ".highlight .gp { color: #000080; font-weight: bold } /* Generic.Prompt */\n",
       ".highlight .gs { font-weight: bold } /* Generic.Strong */\n",
       ".highlight .gu { color: #800080; font-weight: bold } /* Generic.Subheading */\n",
       ".highlight .gt { color: #0044DD } /* Generic.Traceback */\n",
       ".highlight .kc { color: #008000; font-weight: bold } /* Keyword.Constant */\n",
       ".highlight .kd { color: #008000; font-weight: bold } /* Keyword.Declaration */\n",
       ".highlight .kn { color: #008000; font-weight: bold } /* Keyword.Namespace */\n",
       ".highlight .kp { color: #008000 } /* Keyword.Pseudo */\n",
       ".highlight .kr { color: #008000; font-weight: bold } /* Keyword.Reserved */\n",
       ".highlight .kt { color: #B00040 } /* Keyword.Type */\n",
       ".highlight .m { color: #666666 } /* Literal.Number */\n",
       ".highlight .s { color: #BA2121 } /* Literal.String */\n",
       ".highlight .na { color: #7D9029 } /* Name.Attribute */\n",
       ".highlight .nb { color: #008000 } /* Name.Builtin */\n",
       ".highlight .nc { color: #0000FF; font-weight: bold } /* Name.Class */\n",
       ".highlight .no { color: #880000 } /* Name.Constant */\n",
       ".highlight .nd { color: #AA22FF } /* Name.Decorator */\n",
       ".highlight .ni { color: #999999; font-weight: bold } /* Name.Entity */\n",
       ".highlight .ne { color: #D2413A; font-weight: bold } /* Name.Exception */\n",
       ".highlight .nf { color: #0000FF } /* Name.Function */\n",
       ".highlight .nl { color: #A0A000 } /* Name.Label */\n",
       ".highlight .nn { color: #0000FF; font-weight: bold } /* Name.Namespace */\n",
       ".highlight .nt { color: #008000; font-weight: bold } /* Name.Tag */\n",
       ".highlight .nv { color: #19177C } /* Name.Variable */\n",
       ".highlight .ow { color: #AA22FF; font-weight: bold } /* Operator.Word */\n",
       ".highlight .w { color: #bbbbbb } /* Text.Whitespace */\n",
       ".highlight .mb { color: #666666 } /* Literal.Number.Bin */\n",
       ".highlight .mf { color: #666666 } /* Literal.Number.Float */\n",
       ".highlight .mh { color: #666666 } /* Literal.Number.Hex */\n",
       ".highlight .mi { color: #666666 } /* Literal.Number.Integer */\n",
       ".highlight .mo { color: #666666 } /* Literal.Number.Oct */\n",
       ".highlight .sa { color: #BA2121 } /* Literal.String.Affix */\n",
       ".highlight .sb { color: #BA2121 } /* Literal.String.Backtick */\n",
       ".highlight .sc { color: #BA2121 } /* Literal.String.Char */\n",
       ".highlight .dl { color: #BA2121 } /* Literal.String.Delimiter */\n",
       ".highlight .sd { color: #BA2121; font-style: italic } /* Literal.String.Doc */\n",
       ".highlight .s2 { color: #BA2121 } /* Literal.String.Double */\n",
       ".highlight .se { color: #BB6622; font-weight: bold } /* Literal.String.Escape */\n",
       ".highlight .sh { color: #BA2121 } /* Literal.String.Heredoc */\n",
       ".highlight .si { color: #BB6688; font-weight: bold } /* Literal.String.Interpol */\n",
       ".highlight .sx { color: #008000 } /* Literal.String.Other */\n",
       ".highlight .sr { color: #BB6688 } /* Literal.String.Regex */\n",
       ".highlight .s1 { color: #BA2121 } /* Literal.String.Single */\n",
       ".highlight .ss { color: #19177C } /* Literal.String.Symbol */\n",
       ".highlight .bp { color: #008000 } /* Name.Builtin.Pseudo */\n",
       ".highlight .fm { color: #0000FF } /* Name.Function.Magic */\n",
       ".highlight .vc { color: #19177C } /* Name.Variable.Class */\n",
       ".highlight .vg { color: #19177C } /* Name.Variable.Global */\n",
       ".highlight .vi { color: #19177C } /* Name.Variable.Instance */\n",
       ".highlight .vm { color: #19177C } /* Name.Variable.Magic */\n",
       ".highlight .il { color: #666666 } /* Literal.Number.Integer.Long */</style><div class=\"highlight\"><pre><span></span>πεπιστευκώς\n",
       "πιστεύσας\n",
       "πιστεύων\n",
       "</pre></div>\n"
      ],
      "text/plain": [
       "<IPython.core.display.HTML object>"
      ]
     },
     "metadata": {},
     "output_type": "display_data"
    }
   ],
   "source": [
    "q = \"\"\"   \n",
    "    for $w in //w[@lemma=\"πιστεύω\"]\n",
    "    where $w/@number=\"singular\"  \n",
    "      and $w/@gender=\"masculine\"\n",
    "      and $w/@case=\"nominative\"\n",
    "    let $form := $w/@normalized ! lower-case(.)\n",
    "    group by $form\n",
    "    order by $form\n",
    "    return $form\n",
    "\"\"\" \n",
    "\n",
    "xquery_display(q)"
   ]
  },
  {
   "cell_type": "markdown",
   "metadata": {},
   "source": [
    "We can also create an XML structure that shows where each of these forms occurs:"
   ]
  },
  {
   "cell_type": "code",
   "execution_count": 37,
   "metadata": {},
   "outputs": [
    {
     "data": {
      "text/html": [
       "<style type=\"text/css\">.highlight .hll { background-color: #ffffcc }\n",
       ".highlight  { background: #f8f8f8; }\n",
       ".highlight .c { color: #408080; font-style: italic } /* Comment */\n",
       ".highlight .err { border: 1px solid #FF0000 } /* Error */\n",
       ".highlight .k { color: #008000; font-weight: bold } /* Keyword */\n",
       ".highlight .o { color: #666666 } /* Operator */\n",
       ".highlight .ch { color: #408080; font-style: italic } /* Comment.Hashbang */\n",
       ".highlight .cm { color: #408080; font-style: italic } /* Comment.Multiline */\n",
       ".highlight .cp { color: #BC7A00 } /* Comment.Preproc */\n",
       ".highlight .cpf { color: #408080; font-style: italic } /* Comment.PreprocFile */\n",
       ".highlight .c1 { color: #408080; font-style: italic } /* Comment.Single */\n",
       ".highlight .cs { color: #408080; font-style: italic } /* Comment.Special */\n",
       ".highlight .gd { color: #A00000 } /* Generic.Deleted */\n",
       ".highlight .ge { font-style: italic } /* Generic.Emph */\n",
       ".highlight .gr { color: #FF0000 } /* Generic.Error */\n",
       ".highlight .gh { color: #000080; font-weight: bold } /* Generic.Heading */\n",
       ".highlight .gi { color: #00A000 } /* Generic.Inserted */\n",
       ".highlight .go { color: #888888 } /* Generic.Output */\n",
       ".highlight .gp { color: #000080; font-weight: bold } /* Generic.Prompt */\n",
       ".highlight .gs { font-weight: bold } /* Generic.Strong */\n",
       ".highlight .gu { color: #800080; font-weight: bold } /* Generic.Subheading */\n",
       ".highlight .gt { color: #0044DD } /* Generic.Traceback */\n",
       ".highlight .kc { color: #008000; font-weight: bold } /* Keyword.Constant */\n",
       ".highlight .kd { color: #008000; font-weight: bold } /* Keyword.Declaration */\n",
       ".highlight .kn { color: #008000; font-weight: bold } /* Keyword.Namespace */\n",
       ".highlight .kp { color: #008000 } /* Keyword.Pseudo */\n",
       ".highlight .kr { color: #008000; font-weight: bold } /* Keyword.Reserved */\n",
       ".highlight .kt { color: #B00040 } /* Keyword.Type */\n",
       ".highlight .m { color: #666666 } /* Literal.Number */\n",
       ".highlight .s { color: #BA2121 } /* Literal.String */\n",
       ".highlight .na { color: #7D9029 } /* Name.Attribute */\n",
       ".highlight .nb { color: #008000 } /* Name.Builtin */\n",
       ".highlight .nc { color: #0000FF; font-weight: bold } /* Name.Class */\n",
       ".highlight .no { color: #880000 } /* Name.Constant */\n",
       ".highlight .nd { color: #AA22FF } /* Name.Decorator */\n",
       ".highlight .ni { color: #999999; font-weight: bold } /* Name.Entity */\n",
       ".highlight .ne { color: #D2413A; font-weight: bold } /* Name.Exception */\n",
       ".highlight .nf { color: #0000FF } /* Name.Function */\n",
       ".highlight .nl { color: #A0A000 } /* Name.Label */\n",
       ".highlight .nn { color: #0000FF; font-weight: bold } /* Name.Namespace */\n",
       ".highlight .nt { color: #008000; font-weight: bold } /* Name.Tag */\n",
       ".highlight .nv { color: #19177C } /* Name.Variable */\n",
       ".highlight .ow { color: #AA22FF; font-weight: bold } /* Operator.Word */\n",
       ".highlight .w { color: #bbbbbb } /* Text.Whitespace */\n",
       ".highlight .mb { color: #666666 } /* Literal.Number.Bin */\n",
       ".highlight .mf { color: #666666 } /* Literal.Number.Float */\n",
       ".highlight .mh { color: #666666 } /* Literal.Number.Hex */\n",
       ".highlight .mi { color: #666666 } /* Literal.Number.Integer */\n",
       ".highlight .mo { color: #666666 } /* Literal.Number.Oct */\n",
       ".highlight .sa { color: #BA2121 } /* Literal.String.Affix */\n",
       ".highlight .sb { color: #BA2121 } /* Literal.String.Backtick */\n",
       ".highlight .sc { color: #BA2121 } /* Literal.String.Char */\n",
       ".highlight .dl { color: #BA2121 } /* Literal.String.Delimiter */\n",
       ".highlight .sd { color: #BA2121; font-style: italic } /* Literal.String.Doc */\n",
       ".highlight .s2 { color: #BA2121 } /* Literal.String.Double */\n",
       ".highlight .se { color: #BB6622; font-weight: bold } /* Literal.String.Escape */\n",
       ".highlight .sh { color: #BA2121 } /* Literal.String.Heredoc */\n",
       ".highlight .si { color: #BB6688; font-weight: bold } /* Literal.String.Interpol */\n",
       ".highlight .sx { color: #008000 } /* Literal.String.Other */\n",
       ".highlight .sr { color: #BB6688 } /* Literal.String.Regex */\n",
       ".highlight .s1 { color: #BA2121 } /* Literal.String.Single */\n",
       ".highlight .ss { color: #19177C } /* Literal.String.Symbol */\n",
       ".highlight .bp { color: #008000 } /* Name.Builtin.Pseudo */\n",
       ".highlight .fm { color: #0000FF } /* Name.Function.Magic */\n",
       ".highlight .vc { color: #19177C } /* Name.Variable.Class */\n",
       ".highlight .vg { color: #19177C } /* Name.Variable.Global */\n",
       ".highlight .vi { color: #19177C } /* Name.Variable.Instance */\n",
       ".highlight .vm { color: #19177C } /* Name.Variable.Magic */\n",
       ".highlight .il { color: #666666 } /* Literal.Number.Integer.Long */</style><div class=\"highlight\"><pre><span></span><span class=\"nt\">&lt;form</span> <span class=\"na\">n=</span><span class=\"s\">&quot;πεπιστευκώς&quot;</span><span class=\"nt\">&gt;</span>\n",
       "  <span class=\"nt\">&lt;loc</span> <span class=\"na\">osisId=</span><span class=\"s\">&quot;Acts.16.34!12&quot;</span><span class=\"nt\">/&gt;</span>\n",
       "<span class=\"nt\">&lt;/form&gt;</span>\n",
       "<span class=\"nt\">&lt;form</span> <span class=\"na\">n=</span><span class=\"s\">&quot;πιστεύσας&quot;</span><span class=\"nt\">&gt;</span>\n",
       "  <span class=\"nt\">&lt;loc</span> <span class=\"na\">osisId=</span><span class=\"s\">&quot;Mark.16.16!2&quot;</span><span class=\"nt\">/&gt;</span>\n",
       "  <span class=\"nt\">&lt;loc</span> <span class=\"na\">osisId=</span><span class=\"s\">&quot;Acts.11.21!11&quot;</span><span class=\"nt\">/&gt;</span>\n",
       "<span class=\"nt\">&lt;/form&gt;</span>\n",
       "<span class=\"nt\">&lt;form</span> <span class=\"na\">n=</span><span class=\"s\">&quot;πιστεύων&quot;</span><span class=\"nt\">&gt;</span>\n",
       "  <span class=\"nt\">&lt;loc</span> <span class=\"na\">osisId=</span><span class=\"s\">&quot;John.3.15!4&quot;</span><span class=\"nt\">/&gt;</span>\n",
       "  <span class=\"nt\">&lt;loc</span> <span class=\"na\">osisId=</span><span class=\"s\">&quot;John.3.16!17&quot;</span><span class=\"nt\">/&gt;</span>\n",
       "  <span class=\"nt\">&lt;loc</span> <span class=\"na\">osisId=</span><span class=\"s\">&quot;John.3.18!2&quot;</span><span class=\"nt\">/&gt;</span>\n",
       "  <span class=\"nt\">&lt;loc</span> <span class=\"na\">osisId=</span><span class=\"s\">&quot;John.3.18!9&quot;</span><span class=\"nt\">/&gt;</span>\n",
       "  <span class=\"nt\">&lt;loc</span> <span class=\"na\">osisId=</span><span class=\"s\">&quot;John.3.36!2&quot;</span><span class=\"nt\">/&gt;</span>\n",
       "  <span class=\"nt\">&lt;loc</span> <span class=\"na\">osisId=</span><span class=\"s\">&quot;John.5.24!12&quot;</span><span class=\"nt\">/&gt;</span>\n",
       "  <span class=\"nt\">&lt;loc</span> <span class=\"na\">osisId=</span><span class=\"s\">&quot;John.6.35!20&quot;</span><span class=\"nt\">/&gt;</span>\n",
       "  <span class=\"nt\">&lt;loc</span> <span class=\"na\">osisId=</span><span class=\"s\">&quot;John.6.40!16&quot;</span><span class=\"nt\">/&gt;</span>\n",
       "  <span class=\"nt\">&lt;loc</span> <span class=\"na\">osisId=</span><span class=\"s\">&quot;John.6.47!6&quot;</span><span class=\"nt\">/&gt;</span>\n",
       "  <span class=\"nt\">&lt;loc</span> <span class=\"na\">osisId=</span><span class=\"s\">&quot;John.7.38!2&quot;</span><span class=\"nt\">/&gt;</span>\n",
       "  <span class=\"nt\">&lt;loc</span> <span class=\"na\">osisId=</span><span class=\"s\">&quot;John.11.25!13&quot;</span><span class=\"nt\">/&gt;</span>\n",
       "  <span class=\"nt\">&lt;loc</span> <span class=\"na\">osisId=</span><span class=\"s\">&quot;John.11.26!6&quot;</span><span class=\"nt\">/&gt;</span>\n",
       "  <span class=\"nt\">&lt;loc</span> <span class=\"na\">osisId=</span><span class=\"s\">&quot;John.12.44!7&quot;</span><span class=\"nt\">/&gt;</span>\n",
       "  <span class=\"nt\">&lt;loc</span> <span class=\"na\">osisId=</span><span class=\"s\">&quot;John.12.46!10&quot;</span><span class=\"nt\">/&gt;</span>\n",
       "  <span class=\"nt\">&lt;loc</span> <span class=\"na\">osisId=</span><span class=\"s\">&quot;John.14.12!6&quot;</span><span class=\"nt\">/&gt;</span>\n",
       "  <span class=\"nt\">&lt;loc</span> <span class=\"na\">osisId=</span><span class=\"s\">&quot;Acts.13.39!5&quot;</span><span class=\"nt\">/&gt;</span>\n",
       "  <span class=\"nt\">&lt;loc</span> <span class=\"na\">osisId=</span><span class=\"s\">&quot;Acts.24.14!17&quot;</span><span class=\"nt\">/&gt;</span>\n",
       "  <span class=\"nt\">&lt;loc</span> <span class=\"na\">osisId=</span><span class=\"s\">&quot;Rom.9.33!14&quot;</span><span class=\"nt\">/&gt;</span>\n",
       "  <span class=\"nt\">&lt;loc</span> <span class=\"na\">osisId=</span><span class=\"s\">&quot;Rom.10.11!7&quot;</span><span class=\"nt\">/&gt;</span>\n",
       "  <span class=\"nt\">&lt;loc</span> <span class=\"na\">osisId=</span><span class=\"s\">&quot;1Pet.2.6!15&quot;</span><span class=\"nt\">/&gt;</span>\n",
       "  <span class=\"nt\">&lt;loc</span> <span class=\"na\">osisId=</span><span class=\"s\">&quot;1John.5.1!3&quot;</span><span class=\"nt\">/&gt;</span>\n",
       "  <span class=\"nt\">&lt;loc</span> <span class=\"na\">osisId=</span><span class=\"s\">&quot;1John.5.5!10&quot;</span><span class=\"nt\">/&gt;</span>\n",
       "  <span class=\"nt\">&lt;loc</span> <span class=\"na\">osisId=</span><span class=\"s\">&quot;1John.5.10!2&quot;</span><span class=\"nt\">/&gt;</span>\n",
       "  <span class=\"nt\">&lt;loc</span> <span class=\"na\">osisId=</span><span class=\"s\">&quot;1John.5.10!15&quot;</span><span class=\"nt\">/&gt;</span>\n",
       "<span class=\"nt\">&lt;/form&gt;</span>\n",
       "</pre></div>\n"
      ],
      "text/plain": [
       "<IPython.core.display.HTML object>"
      ]
     },
     "metadata": {},
     "output_type": "display_data"
    }
   ],
   "source": [
    "q = \"\"\"   \n",
    "    for $w in //w[@lemma=\"πιστεύω\"]\n",
    "    for $id in $w/@osisId\n",
    "    where $w/@number=\"singular\"  \n",
    "      and $w/@gender=\"masculine\"\n",
    "      and $w/@case=\"nominative\"\n",
    "    let $form := $w/@normalized ! lower-case(.)\n",
    "    group by $form\n",
    "    order by $form\n",
    "    return \n",
    "      <form>\n",
    "       { attribute n  {$form}}\n",
    "       { $id ! <loc>{ .}</loc> }\n",
    "      </form>\n",
    "\"\"\" \n",
    "\n",
    "xquery_display(q)"
   ]
  },
  {
   "cell_type": "markdown",
   "metadata": {},
   "source": [
    "## Syntax\n",
    "\n",
    "Syntax is largely about exploring relationships within a clause, and the `@role` attribute identifies these relationships."
   ]
  },
  {
   "cell_type": "markdown",
   "metadata": {},
   "source": [
    "Adverbial clauses are marked with the role `adv`. Let's count adverbial clauses:"
   ]
  },
  {
   "cell_type": "code",
   "execution_count": 38,
   "metadata": {},
   "outputs": [
    {
     "data": {
      "text/plain": [
       "'2622'"
      ]
     },
     "execution_count": 38,
     "metadata": {},
     "output_type": "execute_result"
    }
   ],
   "source": [
    "xquery('count(//wg[@role=\"adv\" and @class=\"cl\"])')"
   ]
  },
  {
   "cell_type": "markdown",
   "metadata": {},
   "source": [
    "Let's look at the first adverbial clause. To make it easier to read, we will use the `string-join()` function to show just the text of the words in the clause."
   ]
  },
  {
   "cell_type": "code",
   "execution_count": 39,
   "metadata": {},
   "outputs": [
    {
     "data": {
      "text/html": [
       "<style type=\"text/css\">.highlight .hll { background-color: #ffffcc }\n",
       ".highlight  { background: #f8f8f8; }\n",
       ".highlight .c { color: #408080; font-style: italic } /* Comment */\n",
       ".highlight .err { border: 1px solid #FF0000 } /* Error */\n",
       ".highlight .k { color: #008000; font-weight: bold } /* Keyword */\n",
       ".highlight .o { color: #666666 } /* Operator */\n",
       ".highlight .ch { color: #408080; font-style: italic } /* Comment.Hashbang */\n",
       ".highlight .cm { color: #408080; font-style: italic } /* Comment.Multiline */\n",
       ".highlight .cp { color: #BC7A00 } /* Comment.Preproc */\n",
       ".highlight .cpf { color: #408080; font-style: italic } /* Comment.PreprocFile */\n",
       ".highlight .c1 { color: #408080; font-style: italic } /* Comment.Single */\n",
       ".highlight .cs { color: #408080; font-style: italic } /* Comment.Special */\n",
       ".highlight .gd { color: #A00000 } /* Generic.Deleted */\n",
       ".highlight .ge { font-style: italic } /* Generic.Emph */\n",
       ".highlight .gr { color: #FF0000 } /* Generic.Error */\n",
       ".highlight .gh { color: #000080; font-weight: bold } /* Generic.Heading */\n",
       ".highlight .gi { color: #00A000 } /* Generic.Inserted */\n",
       ".highlight .go { color: #888888 } /* Generic.Output */\n",
       ".highlight .gp { color: #000080; font-weight: bold } /* Generic.Prompt */\n",
       ".highlight .gs { font-weight: bold } /* Generic.Strong */\n",
       ".highlight .gu { color: #800080; font-weight: bold } /* Generic.Subheading */\n",
       ".highlight .gt { color: #0044DD } /* Generic.Traceback */\n",
       ".highlight .kc { color: #008000; font-weight: bold } /* Keyword.Constant */\n",
       ".highlight .kd { color: #008000; font-weight: bold } /* Keyword.Declaration */\n",
       ".highlight .kn { color: #008000; font-weight: bold } /* Keyword.Namespace */\n",
       ".highlight .kp { color: #008000 } /* Keyword.Pseudo */\n",
       ".highlight .kr { color: #008000; font-weight: bold } /* Keyword.Reserved */\n",
       ".highlight .kt { color: #B00040 } /* Keyword.Type */\n",
       ".highlight .m { color: #666666 } /* Literal.Number */\n",
       ".highlight .s { color: #BA2121 } /* Literal.String */\n",
       ".highlight .na { color: #7D9029 } /* Name.Attribute */\n",
       ".highlight .nb { color: #008000 } /* Name.Builtin */\n",
       ".highlight .nc { color: #0000FF; font-weight: bold } /* Name.Class */\n",
       ".highlight .no { color: #880000 } /* Name.Constant */\n",
       ".highlight .nd { color: #AA22FF } /* Name.Decorator */\n",
       ".highlight .ni { color: #999999; font-weight: bold } /* Name.Entity */\n",
       ".highlight .ne { color: #D2413A; font-weight: bold } /* Name.Exception */\n",
       ".highlight .nf { color: #0000FF } /* Name.Function */\n",
       ".highlight .nl { color: #A0A000 } /* Name.Label */\n",
       ".highlight .nn { color: #0000FF; font-weight: bold } /* Name.Namespace */\n",
       ".highlight .nt { color: #008000; font-weight: bold } /* Name.Tag */\n",
       ".highlight .nv { color: #19177C } /* Name.Variable */\n",
       ".highlight .ow { color: #AA22FF; font-weight: bold } /* Operator.Word */\n",
       ".highlight .w { color: #bbbbbb } /* Text.Whitespace */\n",
       ".highlight .mb { color: #666666 } /* Literal.Number.Bin */\n",
       ".highlight .mf { color: #666666 } /* Literal.Number.Float */\n",
       ".highlight .mh { color: #666666 } /* Literal.Number.Hex */\n",
       ".highlight .mi { color: #666666 } /* Literal.Number.Integer */\n",
       ".highlight .mo { color: #666666 } /* Literal.Number.Oct */\n",
       ".highlight .sa { color: #BA2121 } /* Literal.String.Affix */\n",
       ".highlight .sb { color: #BA2121 } /* Literal.String.Backtick */\n",
       ".highlight .sc { color: #BA2121 } /* Literal.String.Char */\n",
       ".highlight .dl { color: #BA2121 } /* Literal.String.Delimiter */\n",
       ".highlight .sd { color: #BA2121; font-style: italic } /* Literal.String.Doc */\n",
       ".highlight .s2 { color: #BA2121 } /* Literal.String.Double */\n",
       ".highlight .se { color: #BB6622; font-weight: bold } /* Literal.String.Escape */\n",
       ".highlight .sh { color: #BA2121 } /* Literal.String.Heredoc */\n",
       ".highlight .si { color: #BB6688; font-weight: bold } /* Literal.String.Interpol */\n",
       ".highlight .sx { color: #008000 } /* Literal.String.Other */\n",
       ".highlight .sr { color: #BB6688 } /* Literal.String.Regex */\n",
       ".highlight .s1 { color: #BA2121 } /* Literal.String.Single */\n",
       ".highlight .ss { color: #19177C } /* Literal.String.Symbol */\n",
       ".highlight .bp { color: #008000 } /* Name.Builtin.Pseudo */\n",
       ".highlight .fm { color: #0000FF } /* Name.Function.Magic */\n",
       ".highlight .vc { color: #19177C } /* Name.Variable.Class */\n",
       ".highlight .vg { color: #19177C } /* Name.Variable.Global */\n",
       ".highlight .vi { color: #19177C } /* Name.Variable.Instance */\n",
       ".highlight .vm { color: #19177C } /* Name.Variable.Magic */\n",
       ".highlight .il { color: #666666 } /* Literal.Number.Integer.Long */</style><div class=\"highlight\"><pre><span></span>πρὶν ἢ συνελθεῖν αὐτοὺς\n",
       "</pre></div>\n"
      ],
      "text/plain": [
       "<IPython.core.display.HTML object>"
      ]
     },
     "metadata": {},
     "output_type": "display_data"
    }
   ],
   "source": [
    "q = \"\"\"\n",
    "    let $adv := (//wg[@class=\"cl\" and @role=\"adv\"])[1]\n",
    "    return string-join($adv//w, \" \")\n",
    "\"\"\"\n",
    "\n",
    "xquery_display(q)"
   ]
  },
  {
   "cell_type": "markdown",
   "metadata": {},
   "source": [
    "We can look at the parent of this clause to see the clause that contains it.  "
   ]
  },
  {
   "cell_type": "code",
   "execution_count": 40,
   "metadata": {},
   "outputs": [
    {
     "data": {
      "text/html": [
       "<style type=\"text/css\">.highlight .hll { background-color: #ffffcc }\n",
       ".highlight  { background: #f8f8f8; }\n",
       ".highlight .c { color: #408080; font-style: italic } /* Comment */\n",
       ".highlight .err { border: 1px solid #FF0000 } /* Error */\n",
       ".highlight .k { color: #008000; font-weight: bold } /* Keyword */\n",
       ".highlight .o { color: #666666 } /* Operator */\n",
       ".highlight .ch { color: #408080; font-style: italic } /* Comment.Hashbang */\n",
       ".highlight .cm { color: #408080; font-style: italic } /* Comment.Multiline */\n",
       ".highlight .cp { color: #BC7A00 } /* Comment.Preproc */\n",
       ".highlight .cpf { color: #408080; font-style: italic } /* Comment.PreprocFile */\n",
       ".highlight .c1 { color: #408080; font-style: italic } /* Comment.Single */\n",
       ".highlight .cs { color: #408080; font-style: italic } /* Comment.Special */\n",
       ".highlight .gd { color: #A00000 } /* Generic.Deleted */\n",
       ".highlight .ge { font-style: italic } /* Generic.Emph */\n",
       ".highlight .gr { color: #FF0000 } /* Generic.Error */\n",
       ".highlight .gh { color: #000080; font-weight: bold } /* Generic.Heading */\n",
       ".highlight .gi { color: #00A000 } /* Generic.Inserted */\n",
       ".highlight .go { color: #888888 } /* Generic.Output */\n",
       ".highlight .gp { color: #000080; font-weight: bold } /* Generic.Prompt */\n",
       ".highlight .gs { font-weight: bold } /* Generic.Strong */\n",
       ".highlight .gu { color: #800080; font-weight: bold } /* Generic.Subheading */\n",
       ".highlight .gt { color: #0044DD } /* Generic.Traceback */\n",
       ".highlight .kc { color: #008000; font-weight: bold } /* Keyword.Constant */\n",
       ".highlight .kd { color: #008000; font-weight: bold } /* Keyword.Declaration */\n",
       ".highlight .kn { color: #008000; font-weight: bold } /* Keyword.Namespace */\n",
       ".highlight .kp { color: #008000 } /* Keyword.Pseudo */\n",
       ".highlight .kr { color: #008000; font-weight: bold } /* Keyword.Reserved */\n",
       ".highlight .kt { color: #B00040 } /* Keyword.Type */\n",
       ".highlight .m { color: #666666 } /* Literal.Number */\n",
       ".highlight .s { color: #BA2121 } /* Literal.String */\n",
       ".highlight .na { color: #7D9029 } /* Name.Attribute */\n",
       ".highlight .nb { color: #008000 } /* Name.Builtin */\n",
       ".highlight .nc { color: #0000FF; font-weight: bold } /* Name.Class */\n",
       ".highlight .no { color: #880000 } /* Name.Constant */\n",
       ".highlight .nd { color: #AA22FF } /* Name.Decorator */\n",
       ".highlight .ni { color: #999999; font-weight: bold } /* Name.Entity */\n",
       ".highlight .ne { color: #D2413A; font-weight: bold } /* Name.Exception */\n",
       ".highlight .nf { color: #0000FF } /* Name.Function */\n",
       ".highlight .nl { color: #A0A000 } /* Name.Label */\n",
       ".highlight .nn { color: #0000FF; font-weight: bold } /* Name.Namespace */\n",
       ".highlight .nt { color: #008000; font-weight: bold } /* Name.Tag */\n",
       ".highlight .nv { color: #19177C } /* Name.Variable */\n",
       ".highlight .ow { color: #AA22FF; font-weight: bold } /* Operator.Word */\n",
       ".highlight .w { color: #bbbbbb } /* Text.Whitespace */\n",
       ".highlight .mb { color: #666666 } /* Literal.Number.Bin */\n",
       ".highlight .mf { color: #666666 } /* Literal.Number.Float */\n",
       ".highlight .mh { color: #666666 } /* Literal.Number.Hex */\n",
       ".highlight .mi { color: #666666 } /* Literal.Number.Integer */\n",
       ".highlight .mo { color: #666666 } /* Literal.Number.Oct */\n",
       ".highlight .sa { color: #BA2121 } /* Literal.String.Affix */\n",
       ".highlight .sb { color: #BA2121 } /* Literal.String.Backtick */\n",
       ".highlight .sc { color: #BA2121 } /* Literal.String.Char */\n",
       ".highlight .dl { color: #BA2121 } /* Literal.String.Delimiter */\n",
       ".highlight .sd { color: #BA2121; font-style: italic } /* Literal.String.Doc */\n",
       ".highlight .s2 { color: #BA2121 } /* Literal.String.Double */\n",
       ".highlight .se { color: #BB6622; font-weight: bold } /* Literal.String.Escape */\n",
       ".highlight .sh { color: #BA2121 } /* Literal.String.Heredoc */\n",
       ".highlight .si { color: #BB6688; font-weight: bold } /* Literal.String.Interpol */\n",
       ".highlight .sx { color: #008000 } /* Literal.String.Other */\n",
       ".highlight .sr { color: #BB6688 } /* Literal.String.Regex */\n",
       ".highlight .s1 { color: #BA2121 } /* Literal.String.Single */\n",
       ".highlight .ss { color: #19177C } /* Literal.String.Symbol */\n",
       ".highlight .bp { color: #008000 } /* Name.Builtin.Pseudo */\n",
       ".highlight .fm { color: #0000FF } /* Name.Function.Magic */\n",
       ".highlight .vc { color: #19177C } /* Name.Variable.Class */\n",
       ".highlight .vg { color: #19177C } /* Name.Variable.Global */\n",
       ".highlight .vi { color: #19177C } /* Name.Variable.Instance */\n",
       ".highlight .vm { color: #19177C } /* Name.Variable.Magic */\n",
       ".highlight .il { color: #666666 } /* Literal.Number.Integer.Long */</style><div class=\"highlight\"><pre><span></span>πρὶν ἢ συνελθεῖν αὐτοὺς εὑρέθη ἐν γαστρὶ ἔχουσα ἐκ Πνεύματος Ἁγίου.\n",
       "</pre></div>\n"
      ],
      "text/plain": [
       "<IPython.core.display.HTML object>"
      ]
     },
     "metadata": {},
     "output_type": "display_data"
    }
   ],
   "source": [
    "q = \"\"\"\n",
    "    let $adv := (//wg[@class=\"cl\" and @role=\"adv\"])[1]\n",
    "    let $parent := $adv/parent::wg\n",
    "    return string-join($parent//w, \" \")\n",
    "\"\"\"\n",
    "\n",
    "xquery_display(q)"
   ]
  },
  {
   "cell_type": "markdown",
   "metadata": {},
   "source": [
    "If we show the parent in XML, we can see that the verb is marked with the attribute `role=\"v\"` and ἐν γαστρὶ ἔχουσα ἐκ Πνεύματος Ἁγίου is interpreted as an object of the verb:"
   ]
  },
  {
   "cell_type": "code",
   "execution_count": 41,
   "metadata": {},
   "outputs": [
    {
     "data": {
      "text/html": [
       "<style type=\"text/css\">.highlight .hll { background-color: #ffffcc }\n",
       ".highlight  { background: #f8f8f8; }\n",
       ".highlight .c { color: #408080; font-style: italic } /* Comment */\n",
       ".highlight .err { border: 1px solid #FF0000 } /* Error */\n",
       ".highlight .k { color: #008000; font-weight: bold } /* Keyword */\n",
       ".highlight .o { color: #666666 } /* Operator */\n",
       ".highlight .ch { color: #408080; font-style: italic } /* Comment.Hashbang */\n",
       ".highlight .cm { color: #408080; font-style: italic } /* Comment.Multiline */\n",
       ".highlight .cp { color: #BC7A00 } /* Comment.Preproc */\n",
       ".highlight .cpf { color: #408080; font-style: italic } /* Comment.PreprocFile */\n",
       ".highlight .c1 { color: #408080; font-style: italic } /* Comment.Single */\n",
       ".highlight .cs { color: #408080; font-style: italic } /* Comment.Special */\n",
       ".highlight .gd { color: #A00000 } /* Generic.Deleted */\n",
       ".highlight .ge { font-style: italic } /* Generic.Emph */\n",
       ".highlight .gr { color: #FF0000 } /* Generic.Error */\n",
       ".highlight .gh { color: #000080; font-weight: bold } /* Generic.Heading */\n",
       ".highlight .gi { color: #00A000 } /* Generic.Inserted */\n",
       ".highlight .go { color: #888888 } /* Generic.Output */\n",
       ".highlight .gp { color: #000080; font-weight: bold } /* Generic.Prompt */\n",
       ".highlight .gs { font-weight: bold } /* Generic.Strong */\n",
       ".highlight .gu { color: #800080; font-weight: bold } /* Generic.Subheading */\n",
       ".highlight .gt { color: #0044DD } /* Generic.Traceback */\n",
       ".highlight .kc { color: #008000; font-weight: bold } /* Keyword.Constant */\n",
       ".highlight .kd { color: #008000; font-weight: bold } /* Keyword.Declaration */\n",
       ".highlight .kn { color: #008000; font-weight: bold } /* Keyword.Namespace */\n",
       ".highlight .kp { color: #008000 } /* Keyword.Pseudo */\n",
       ".highlight .kr { color: #008000; font-weight: bold } /* Keyword.Reserved */\n",
       ".highlight .kt { color: #B00040 } /* Keyword.Type */\n",
       ".highlight .m { color: #666666 } /* Literal.Number */\n",
       ".highlight .s { color: #BA2121 } /* Literal.String */\n",
       ".highlight .na { color: #7D9029 } /* Name.Attribute */\n",
       ".highlight .nb { color: #008000 } /* Name.Builtin */\n",
       ".highlight .nc { color: #0000FF; font-weight: bold } /* Name.Class */\n",
       ".highlight .no { color: #880000 } /* Name.Constant */\n",
       ".highlight .nd { color: #AA22FF } /* Name.Decorator */\n",
       ".highlight .ni { color: #999999; font-weight: bold } /* Name.Entity */\n",
       ".highlight .ne { color: #D2413A; font-weight: bold } /* Name.Exception */\n",
       ".highlight .nf { color: #0000FF } /* Name.Function */\n",
       ".highlight .nl { color: #A0A000 } /* Name.Label */\n",
       ".highlight .nn { color: #0000FF; font-weight: bold } /* Name.Namespace */\n",
       ".highlight .nt { color: #008000; font-weight: bold } /* Name.Tag */\n",
       ".highlight .nv { color: #19177C } /* Name.Variable */\n",
       ".highlight .ow { color: #AA22FF; font-weight: bold } /* Operator.Word */\n",
       ".highlight .w { color: #bbbbbb } /* Text.Whitespace */\n",
       ".highlight .mb { color: #666666 } /* Literal.Number.Bin */\n",
       ".highlight .mf { color: #666666 } /* Literal.Number.Float */\n",
       ".highlight .mh { color: #666666 } /* Literal.Number.Hex */\n",
       ".highlight .mi { color: #666666 } /* Literal.Number.Integer */\n",
       ".highlight .mo { color: #666666 } /* Literal.Number.Oct */\n",
       ".highlight .sa { color: #BA2121 } /* Literal.String.Affix */\n",
       ".highlight .sb { color: #BA2121 } /* Literal.String.Backtick */\n",
       ".highlight .sc { color: #BA2121 } /* Literal.String.Char */\n",
       ".highlight .dl { color: #BA2121 } /* Literal.String.Delimiter */\n",
       ".highlight .sd { color: #BA2121; font-style: italic } /* Literal.String.Doc */\n",
       ".highlight .s2 { color: #BA2121 } /* Literal.String.Double */\n",
       ".highlight .se { color: #BB6622; font-weight: bold } /* Literal.String.Escape */\n",
       ".highlight .sh { color: #BA2121 } /* Literal.String.Heredoc */\n",
       ".highlight .si { color: #BB6688; font-weight: bold } /* Literal.String.Interpol */\n",
       ".highlight .sx { color: #008000 } /* Literal.String.Other */\n",
       ".highlight .sr { color: #BB6688 } /* Literal.String.Regex */\n",
       ".highlight .s1 { color: #BA2121 } /* Literal.String.Single */\n",
       ".highlight .ss { color: #19177C } /* Literal.String.Symbol */\n",
       ".highlight .bp { color: #008000 } /* Name.Builtin.Pseudo */\n",
       ".highlight .fm { color: #0000FF } /* Name.Function.Magic */\n",
       ".highlight .vc { color: #19177C } /* Name.Variable.Class */\n",
       ".highlight .vg { color: #19177C } /* Name.Variable.Global */\n",
       ".highlight .vi { color: #19177C } /* Name.Variable.Instance */\n",
       ".highlight .vm { color: #19177C } /* Name.Variable.Magic */\n",
       ".highlight .il { color: #666666 } /* Literal.Number.Integer.Long */</style><div class=\"highlight\"><pre><span></span><span class=\"nt\">&lt;wg</span> <span class=\"na\">xmlns:xi=</span><span class=\"s\">&quot;http://www.w3.org/2001/XInclude&quot;</span> <span class=\"na\">class=</span><span class=\"s\">&quot;cl&quot;</span> <span class=\"na\">n=</span><span class=\"s\">&quot;400010180160110&quot;</span> <span class=\"na\">head=</span><span class=\"s\">&quot;true&quot;</span><span class=\"nt\">&gt;</span>\n",
       "  <span class=\"nt\">&lt;wg</span> <span class=\"na\">role=</span><span class=\"s\">&quot;adv&quot;</span> <span class=\"na\">class=</span><span class=\"s\">&quot;cl&quot;</span> <span class=\"na\">n=</span><span class=\"s\">&quot;400010180160040&quot;</span><span class=\"nt\">&gt;</span>\n",
       "    <span class=\"nt\">&lt;w</span> <span class=\"na\">class=</span><span class=\"s\">&quot;adv&quot;</span> <span class=\"na\">osisId=</span><span class=\"s\">&quot;Matt.1.18!16&quot;</span> <span class=\"na\">n=</span><span class=\"s\">&quot;400010180160010&quot;</span> <span class=\"na\">lemma=</span><span class=\"s\">&quot;πρίν&quot;</span> <span class=\"na\">normalized=</span><span class=\"s\">&quot;πρίν&quot;</span> <span class=\"na\">strong=</span><span class=\"s\">&quot;4250&quot;</span><span class=\"nt\">&gt;</span>πρὶν<span class=\"nt\">&lt;/w&gt;</span>\n",
       "    <span class=\"nt\">&lt;wg</span> <span class=\"na\">class=</span><span class=\"s\">&quot;cl&quot;</span> <span class=\"na\">n=</span><span class=\"s\">&quot;400010180170030&quot;</span> <span class=\"na\">head=</span><span class=\"s\">&quot;true&quot;</span><span class=\"nt\">&gt;</span>\n",
       "      <span class=\"nt\">&lt;w</span> <span class=\"na\">class=</span><span class=\"s\">&quot;conj&quot;</span> <span class=\"na\">osisId=</span><span class=\"s\">&quot;Matt.1.18!17&quot;</span> <span class=\"na\">n=</span><span class=\"s\">&quot;400010180170010&quot;</span> <span class=\"na\">lemma=</span><span class=\"s\">&quot;ἤ&quot;</span> <span class=\"na\">normalized=</span><span class=\"s\">&quot;ἤ&quot;</span> <span class=\"na\">strong=</span><span class=\"s\">&quot;2228&quot;</span><span class=\"nt\">&gt;</span>ἢ<span class=\"nt\">&lt;/w&gt;</span>\n",
       "      <span class=\"nt\">&lt;wg</span> <span class=\"na\">class=</span><span class=\"s\">&quot;cl&quot;</span> <span class=\"na\">n=</span><span class=\"s\">&quot;400010180180020&quot;</span><span class=\"nt\">&gt;</span>\n",
       "        <span class=\"nt\">&lt;w</span> <span class=\"na\">role=</span><span class=\"s\">&quot;v&quot;</span> <span class=\"na\">class=</span><span class=\"s\">&quot;verb&quot;</span> <span class=\"na\">osisId=</span><span class=\"s\">&quot;Matt.1.18!18&quot;</span> <span class=\"na\">n=</span><span class=\"s\">&quot;400010180180010&quot;</span> <span class=\"na\">lemma=</span><span class=\"s\">&quot;συνέρχομαι&quot;</span> <span class=\"na\">normalized=</span><span class=\"s\">&quot;συνελθεῖν&quot;</span> <span class=\"na\">strong=</span><span class=\"s\">&quot;4905&quot;</span> <span class=\"na\">tense=</span><span class=\"s\">&quot;aorist&quot;</span> <span class=\"na\">voice=</span><span class=\"s\">&quot;active&quot;</span> <span class=\"na\">mood=</span><span class=\"s\">&quot;infinitive&quot;</span> <span class=\"na\">type=</span><span class=\"s\">&quot;?&quot;</span> <span class=\"na\">head=</span><span class=\"s\">&quot;true&quot;</span><span class=\"nt\">&gt;</span>συνελθεῖν<span class=\"nt\">&lt;/w&gt;</span>\n",
       "        <span class=\"nt\">&lt;w</span> <span class=\"na\">role=</span><span class=\"s\">&quot;s&quot;</span> <span class=\"na\">class=</span><span class=\"s\">&quot;pron&quot;</span> <span class=\"na\">type=</span><span class=\"s\">&quot;personal&quot;</span> <span class=\"na\">osisId=</span><span class=\"s\">&quot;Matt.1.18!19&quot;</span> <span class=\"na\">n=</span><span class=\"s\">&quot;400010180190010&quot;</span> <span class=\"na\">lemma=</span><span class=\"s\">&quot;αὐτός&quot;</span> <span class=\"na\">normalized=</span><span class=\"s\">&quot;αὐτούς&quot;</span> <span class=\"na\">strong=</span><span class=\"s\">&quot;846&quot;</span> <span class=\"na\">number=</span><span class=\"s\">&quot;plural&quot;</span> <span class=\"na\">gender=</span><span class=\"s\">&quot;masculine&quot;</span> <span class=\"na\">case=</span><span class=\"s\">&quot;accusative&quot;</span><span class=\"nt\">&gt;</span>αὐτοὺς<span class=\"nt\">&lt;/w&gt;</span>\n",
       "      <span class=\"nt\">&lt;/wg&gt;</span>\n",
       "    <span class=\"nt\">&lt;/wg&gt;</span>\n",
       "  <span class=\"nt\">&lt;/wg&gt;</span>\n",
       "  <span class=\"nt\">&lt;w</span> <span class=\"na\">role=</span><span class=\"s\">&quot;v&quot;</span> <span class=\"na\">class=</span><span class=\"s\">&quot;verb&quot;</span> <span class=\"na\">osisId=</span><span class=\"s\">&quot;Matt.1.18!20&quot;</span> <span class=\"na\">n=</span><span class=\"s\">&quot;400010180200010&quot;</span> <span class=\"na\">lemma=</span><span class=\"s\">&quot;εὑρίσκω&quot;</span> <span class=\"na\">normalized=</span><span class=\"s\">&quot;εὑρέθη&quot;</span> <span class=\"na\">strong=</span><span class=\"s\">&quot;2147&quot;</span> <span class=\"na\">number=</span><span class=\"s\">&quot;singular&quot;</span> <span class=\"na\">person=</span><span class=\"s\">&quot;third&quot;</span> <span class=\"na\">tense=</span><span class=\"s\">&quot;aorist&quot;</span> <span class=\"na\">voice=</span><span class=\"s\">&quot;passive&quot;</span> <span class=\"na\">mood=</span><span class=\"s\">&quot;indicative&quot;</span> <span class=\"na\">head=</span><span class=\"s\">&quot;true&quot;</span><span class=\"nt\">&gt;</span>εὑρέθη<span class=\"nt\">&lt;/w&gt;</span>\n",
       "  <span class=\"nt\">&lt;wg</span> <span class=\"na\">role=</span><span class=\"s\">&quot;o&quot;</span> <span class=\"na\">class=</span><span class=\"s\">&quot;cl&quot;</span> <span class=\"na\">n=</span><span class=\"s\">&quot;400010180210060&quot;</span><span class=\"nt\">&gt;</span>\n",
       "    <span class=\"nt\">&lt;wg</span> <span class=\"na\">role=</span><span class=\"s\">&quot;adv&quot;</span> <span class=\"na\">class=</span><span class=\"s\">&quot;pp&quot;</span> <span class=\"na\">n=</span><span class=\"s\">&quot;400010180210020&quot;</span><span class=\"nt\">&gt;</span>\n",
       "      <span class=\"nt\">&lt;w</span> <span class=\"na\">class=</span><span class=\"s\">&quot;prep&quot;</span> <span class=\"na\">osisId=</span><span class=\"s\">&quot;Matt.1.18!21&quot;</span> <span class=\"na\">n=</span><span class=\"s\">&quot;400010180210010&quot;</span> <span class=\"na\">lemma=</span><span class=\"s\">&quot;ἐν&quot;</span> <span class=\"na\">normalized=</span><span class=\"s\">&quot;ἐν&quot;</span> <span class=\"na\">strong=</span><span class=\"s\">&quot;1722&quot;</span><span class=\"nt\">&gt;</span>ἐν<span class=\"nt\">&lt;/w&gt;</span>\n",
       "      <span class=\"nt\">&lt;w</span> <span class=\"na\">class=</span><span class=\"s\">&quot;noun&quot;</span> <span class=\"na\">type=</span><span class=\"s\">&quot;common&quot;</span> <span class=\"na\">osisId=</span><span class=\"s\">&quot;Matt.1.18!22&quot;</span> <span class=\"na\">n=</span><span class=\"s\">&quot;400010180220010&quot;</span> <span class=\"na\">lemma=</span><span class=\"s\">&quot;γαστήρ&quot;</span> <span class=\"na\">normalized=</span><span class=\"s\">&quot;γαστρί&quot;</span> <span class=\"na\">strong=</span><span class=\"s\">&quot;1064&quot;</span> <span class=\"na\">number=</span><span class=\"s\">&quot;singular&quot;</span> <span class=\"na\">gender=</span><span class=\"s\">&quot;feminine&quot;</span> <span class=\"na\">case=</span><span class=\"s\">&quot;dative&quot;</span> <span class=\"na\">head=</span><span class=\"s\">&quot;true&quot;</span><span class=\"nt\">&gt;</span>γαστρὶ<span class=\"nt\">&lt;/w&gt;</span>\n",
       "    <span class=\"nt\">&lt;/wg&gt;</span>\n",
       "    <span class=\"nt\">&lt;w</span> <span class=\"na\">role=</span><span class=\"s\">&quot;v&quot;</span> <span class=\"na\">class=</span><span class=\"s\">&quot;verb&quot;</span> <span class=\"na\">osisId=</span><span class=\"s\">&quot;Matt.1.18!23&quot;</span> <span class=\"na\">n=</span><span class=\"s\">&quot;400010180230010&quot;</span> <span class=\"na\">lemma=</span><span class=\"s\">&quot;ἔχω&quot;</span> <span class=\"na\">normalized=</span><span class=\"s\">&quot;ἔχουσα&quot;</span> <span class=\"na\">strong=</span><span class=\"s\">&quot;2192&quot;</span> <span class=\"na\">number=</span><span class=\"s\">&quot;singular&quot;</span> <span class=\"na\">gender=</span><span class=\"s\">&quot;feminine&quot;</span> <span class=\"na\">case=</span><span class=\"s\">&quot;nominative&quot;</span> <span class=\"na\">tense=</span><span class=\"s\">&quot;present&quot;</span> <span class=\"na\">voice=</span><span class=\"s\">&quot;active&quot;</span> <span class=\"na\">mood=</span><span class=\"s\">&quot;participle&quot;</span> <span class=\"na\">type=</span><span class=\"s\">&quot;?&quot;</span> <span class=\"na\">head=</span><span class=\"s\">&quot;true&quot;</span><span class=\"nt\">&gt;</span>ἔχουσα<span class=\"nt\">&lt;/w&gt;</span>\n",
       "    <span class=\"nt\">&lt;wg</span> <span class=\"na\">role=</span><span class=\"s\">&quot;adv&quot;</span> <span class=\"na\">class=</span><span class=\"s\">&quot;pp&quot;</span> <span class=\"na\">n=</span><span class=\"s\">&quot;400010180240030&quot;</span><span class=\"nt\">&gt;</span>\n",
       "      <span class=\"nt\">&lt;w</span> <span class=\"na\">class=</span><span class=\"s\">&quot;prep&quot;</span> <span class=\"na\">osisId=</span><span class=\"s\">&quot;Matt.1.18!24&quot;</span> <span class=\"na\">n=</span><span class=\"s\">&quot;400010180240010&quot;</span> <span class=\"na\">lemma=</span><span class=\"s\">&quot;ἐκ&quot;</span> <span class=\"na\">normalized=</span><span class=\"s\">&quot;ἐκ&quot;</span> <span class=\"na\">strong=</span><span class=\"s\">&quot;1537&quot;</span><span class=\"nt\">&gt;</span>ἐκ<span class=\"nt\">&lt;/w&gt;</span>\n",
       "      <span class=\"nt\">&lt;wg</span> <span class=\"na\">class=</span><span class=\"s\">&quot;np&quot;</span> <span class=\"na\">n=</span><span class=\"s\">&quot;400010180250020&quot;</span> <span class=\"na\">head=</span><span class=\"s\">&quot;true&quot;</span><span class=\"nt\">&gt;</span>\n",
       "        <span class=\"nt\">&lt;w</span> <span class=\"na\">class=</span><span class=\"s\">&quot;noun&quot;</span> <span class=\"na\">type=</span><span class=\"s\">&quot;common&quot;</span> <span class=\"na\">osisId=</span><span class=\"s\">&quot;Matt.1.18!25&quot;</span> <span class=\"na\">n=</span><span class=\"s\">&quot;400010180250010&quot;</span> <span class=\"na\">lemma=</span><span class=\"s\">&quot;πνεῦμα&quot;</span> <span class=\"na\">normalized=</span><span class=\"s\">&quot;Πνεύματος&quot;</span> <span class=\"na\">strong=</span><span class=\"s\">&quot;4151&quot;</span> <span class=\"na\">number=</span><span class=\"s\">&quot;singular&quot;</span> <span class=\"na\">gender=</span><span class=\"s\">&quot;neuter&quot;</span> <span class=\"na\">case=</span><span class=\"s\">&quot;genitive&quot;</span> <span class=\"na\">head=</span><span class=\"s\">&quot;true&quot;</span><span class=\"nt\">&gt;</span>Πνεύματος<span class=\"nt\">&lt;/w&gt;</span>\n",
       "        <span class=\"nt\">&lt;w</span> <span class=\"na\">class=</span><span class=\"s\">&quot;adj&quot;</span> <span class=\"na\">osisId=</span><span class=\"s\">&quot;Matt.1.18!26&quot;</span> <span class=\"na\">n=</span><span class=\"s\">&quot;400010180260010&quot;</span> <span class=\"na\">lemma=</span><span class=\"s\">&quot;ἅγιος&quot;</span> <span class=\"na\">normalized=</span><span class=\"s\">&quot;Ἁγίου&quot;</span> <span class=\"na\">strong=</span><span class=\"s\">&quot;40&quot;</span> <span class=\"na\">number=</span><span class=\"s\">&quot;singular&quot;</span> <span class=\"na\">gender=</span><span class=\"s\">&quot;neuter&quot;</span> <span class=\"na\">case=</span><span class=\"s\">&quot;genitive&quot;</span><span class=\"nt\">&gt;</span>Ἁγίου.<span class=\"nt\">&lt;/w&gt;</span>\n",
       "      <span class=\"nt\">&lt;/wg&gt;</span>\n",
       "    <span class=\"nt\">&lt;/wg&gt;</span>\n",
       "  <span class=\"nt\">&lt;/wg&gt;</span>\n",
       "<span class=\"nt\">&lt;/wg&gt;</span>\n",
       "</pre></div>\n"
      ],
      "text/plain": [
       "<IPython.core.display.HTML object>"
      ]
     },
     "metadata": {},
     "output_type": "display_data"
    }
   ],
   "source": [
    "q = \"\"\"\n",
    "    let $adv := (//wg[@class=\"cl\" and @role=\"adv\"])[1]\n",
    "    let $parent := $adv/parent::wg\n",
    "    return $parent\n",
    "\"\"\"\n",
    "\n",
    "xquery_display(q)"
   ]
  },
  {
   "cell_type": "markdown",
   "metadata": {},
   "source": [
    "Let's find the verb using that `role=\"v\"` attribute:"
   ]
  },
  {
   "cell_type": "code",
   "execution_count": 42,
   "metadata": {},
   "outputs": [
    {
     "data": {
      "text/html": [
       "<style type=\"text/css\">.highlight .hll { background-color: #ffffcc }\n",
       ".highlight  { background: #f8f8f8; }\n",
       ".highlight .c { color: #408080; font-style: italic } /* Comment */\n",
       ".highlight .err { border: 1px solid #FF0000 } /* Error */\n",
       ".highlight .k { color: #008000; font-weight: bold } /* Keyword */\n",
       ".highlight .o { color: #666666 } /* Operator */\n",
       ".highlight .ch { color: #408080; font-style: italic } /* Comment.Hashbang */\n",
       ".highlight .cm { color: #408080; font-style: italic } /* Comment.Multiline */\n",
       ".highlight .cp { color: #BC7A00 } /* Comment.Preproc */\n",
       ".highlight .cpf { color: #408080; font-style: italic } /* Comment.PreprocFile */\n",
       ".highlight .c1 { color: #408080; font-style: italic } /* Comment.Single */\n",
       ".highlight .cs { color: #408080; font-style: italic } /* Comment.Special */\n",
       ".highlight .gd { color: #A00000 } /* Generic.Deleted */\n",
       ".highlight .ge { font-style: italic } /* Generic.Emph */\n",
       ".highlight .gr { color: #FF0000 } /* Generic.Error */\n",
       ".highlight .gh { color: #000080; font-weight: bold } /* Generic.Heading */\n",
       ".highlight .gi { color: #00A000 } /* Generic.Inserted */\n",
       ".highlight .go { color: #888888 } /* Generic.Output */\n",
       ".highlight .gp { color: #000080; font-weight: bold } /* Generic.Prompt */\n",
       ".highlight .gs { font-weight: bold } /* Generic.Strong */\n",
       ".highlight .gu { color: #800080; font-weight: bold } /* Generic.Subheading */\n",
       ".highlight .gt { color: #0044DD } /* Generic.Traceback */\n",
       ".highlight .kc { color: #008000; font-weight: bold } /* Keyword.Constant */\n",
       ".highlight .kd { color: #008000; font-weight: bold } /* Keyword.Declaration */\n",
       ".highlight .kn { color: #008000; font-weight: bold } /* Keyword.Namespace */\n",
       ".highlight .kp { color: #008000 } /* Keyword.Pseudo */\n",
       ".highlight .kr { color: #008000; font-weight: bold } /* Keyword.Reserved */\n",
       ".highlight .kt { color: #B00040 } /* Keyword.Type */\n",
       ".highlight .m { color: #666666 } /* Literal.Number */\n",
       ".highlight .s { color: #BA2121 } /* Literal.String */\n",
       ".highlight .na { color: #7D9029 } /* Name.Attribute */\n",
       ".highlight .nb { color: #008000 } /* Name.Builtin */\n",
       ".highlight .nc { color: #0000FF; font-weight: bold } /* Name.Class */\n",
       ".highlight .no { color: #880000 } /* Name.Constant */\n",
       ".highlight .nd { color: #AA22FF } /* Name.Decorator */\n",
       ".highlight .ni { color: #999999; font-weight: bold } /* Name.Entity */\n",
       ".highlight .ne { color: #D2413A; font-weight: bold } /* Name.Exception */\n",
       ".highlight .nf { color: #0000FF } /* Name.Function */\n",
       ".highlight .nl { color: #A0A000 } /* Name.Label */\n",
       ".highlight .nn { color: #0000FF; font-weight: bold } /* Name.Namespace */\n",
       ".highlight .nt { color: #008000; font-weight: bold } /* Name.Tag */\n",
       ".highlight .nv { color: #19177C } /* Name.Variable */\n",
       ".highlight .ow { color: #AA22FF; font-weight: bold } /* Operator.Word */\n",
       ".highlight .w { color: #bbbbbb } /* Text.Whitespace */\n",
       ".highlight .mb { color: #666666 } /* Literal.Number.Bin */\n",
       ".highlight .mf { color: #666666 } /* Literal.Number.Float */\n",
       ".highlight .mh { color: #666666 } /* Literal.Number.Hex */\n",
       ".highlight .mi { color: #666666 } /* Literal.Number.Integer */\n",
       ".highlight .mo { color: #666666 } /* Literal.Number.Oct */\n",
       ".highlight .sa { color: #BA2121 } /* Literal.String.Affix */\n",
       ".highlight .sb { color: #BA2121 } /* Literal.String.Backtick */\n",
       ".highlight .sc { color: #BA2121 } /* Literal.String.Char */\n",
       ".highlight .dl { color: #BA2121 } /* Literal.String.Delimiter */\n",
       ".highlight .sd { color: #BA2121; font-style: italic } /* Literal.String.Doc */\n",
       ".highlight .s2 { color: #BA2121 } /* Literal.String.Double */\n",
       ".highlight .se { color: #BB6622; font-weight: bold } /* Literal.String.Escape */\n",
       ".highlight .sh { color: #BA2121 } /* Literal.String.Heredoc */\n",
       ".highlight .si { color: #BB6688; font-weight: bold } /* Literal.String.Interpol */\n",
       ".highlight .sx { color: #008000 } /* Literal.String.Other */\n",
       ".highlight .sr { color: #BB6688 } /* Literal.String.Regex */\n",
       ".highlight .s1 { color: #BA2121 } /* Literal.String.Single */\n",
       ".highlight .ss { color: #19177C } /* Literal.String.Symbol */\n",
       ".highlight .bp { color: #008000 } /* Name.Builtin.Pseudo */\n",
       ".highlight .fm { color: #0000FF } /* Name.Function.Magic */\n",
       ".highlight .vc { color: #19177C } /* Name.Variable.Class */\n",
       ".highlight .vg { color: #19177C } /* Name.Variable.Global */\n",
       ".highlight .vi { color: #19177C } /* Name.Variable.Instance */\n",
       ".highlight .vm { color: #19177C } /* Name.Variable.Magic */\n",
       ".highlight .il { color: #666666 } /* Literal.Number.Integer.Long */</style><div class=\"highlight\"><pre><span></span>εὑρέθη\n",
       "</pre></div>\n"
      ],
      "text/plain": [
       "<IPython.core.display.HTML object>"
      ]
     },
     "metadata": {},
     "output_type": "display_data"
    }
   ],
   "source": [
    "q = \"\"\"\n",
    "    let $adv := (//wg[@class=\"cl\" and @role=\"adv\"])[1]\n",
    "    let $parent := $adv/parent::wg\n",
    "    let $verb := $parent/*[@role=\"v\"]\n",
    "    return string($verb)\n",
    "\"\"\"\n",
    "\n",
    "xquery_display(q)"
   ]
  },
  {
   "cell_type": "markdown",
   "metadata": {},
   "source": [
    "And we can look for the object within this same parent clause using the `role=\"o\"` attribute:"
   ]
  },
  {
   "cell_type": "code",
   "execution_count": 43,
   "metadata": {},
   "outputs": [
    {
     "data": {
      "text/html": [
       "<style type=\"text/css\">.highlight .hll { background-color: #ffffcc }\n",
       ".highlight  { background: #f8f8f8; }\n",
       ".highlight .c { color: #408080; font-style: italic } /* Comment */\n",
       ".highlight .err { border: 1px solid #FF0000 } /* Error */\n",
       ".highlight .k { color: #008000; font-weight: bold } /* Keyword */\n",
       ".highlight .o { color: #666666 } /* Operator */\n",
       ".highlight .ch { color: #408080; font-style: italic } /* Comment.Hashbang */\n",
       ".highlight .cm { color: #408080; font-style: italic } /* Comment.Multiline */\n",
       ".highlight .cp { color: #BC7A00 } /* Comment.Preproc */\n",
       ".highlight .cpf { color: #408080; font-style: italic } /* Comment.PreprocFile */\n",
       ".highlight .c1 { color: #408080; font-style: italic } /* Comment.Single */\n",
       ".highlight .cs { color: #408080; font-style: italic } /* Comment.Special */\n",
       ".highlight .gd { color: #A00000 } /* Generic.Deleted */\n",
       ".highlight .ge { font-style: italic } /* Generic.Emph */\n",
       ".highlight .gr { color: #FF0000 } /* Generic.Error */\n",
       ".highlight .gh { color: #000080; font-weight: bold } /* Generic.Heading */\n",
       ".highlight .gi { color: #00A000 } /* Generic.Inserted */\n",
       ".highlight .go { color: #888888 } /* Generic.Output */\n",
       ".highlight .gp { color: #000080; font-weight: bold } /* Generic.Prompt */\n",
       ".highlight .gs { font-weight: bold } /* Generic.Strong */\n",
       ".highlight .gu { color: #800080; font-weight: bold } /* Generic.Subheading */\n",
       ".highlight .gt { color: #0044DD } /* Generic.Traceback */\n",
       ".highlight .kc { color: #008000; font-weight: bold } /* Keyword.Constant */\n",
       ".highlight .kd { color: #008000; font-weight: bold } /* Keyword.Declaration */\n",
       ".highlight .kn { color: #008000; font-weight: bold } /* Keyword.Namespace */\n",
       ".highlight .kp { color: #008000 } /* Keyword.Pseudo */\n",
       ".highlight .kr { color: #008000; font-weight: bold } /* Keyword.Reserved */\n",
       ".highlight .kt { color: #B00040 } /* Keyword.Type */\n",
       ".highlight .m { color: #666666 } /* Literal.Number */\n",
       ".highlight .s { color: #BA2121 } /* Literal.String */\n",
       ".highlight .na { color: #7D9029 } /* Name.Attribute */\n",
       ".highlight .nb { color: #008000 } /* Name.Builtin */\n",
       ".highlight .nc { color: #0000FF; font-weight: bold } /* Name.Class */\n",
       ".highlight .no { color: #880000 } /* Name.Constant */\n",
       ".highlight .nd { color: #AA22FF } /* Name.Decorator */\n",
       ".highlight .ni { color: #999999; font-weight: bold } /* Name.Entity */\n",
       ".highlight .ne { color: #D2413A; font-weight: bold } /* Name.Exception */\n",
       ".highlight .nf { color: #0000FF } /* Name.Function */\n",
       ".highlight .nl { color: #A0A000 } /* Name.Label */\n",
       ".highlight .nn { color: #0000FF; font-weight: bold } /* Name.Namespace */\n",
       ".highlight .nt { color: #008000; font-weight: bold } /* Name.Tag */\n",
       ".highlight .nv { color: #19177C } /* Name.Variable */\n",
       ".highlight .ow { color: #AA22FF; font-weight: bold } /* Operator.Word */\n",
       ".highlight .w { color: #bbbbbb } /* Text.Whitespace */\n",
       ".highlight .mb { color: #666666 } /* Literal.Number.Bin */\n",
       ".highlight .mf { color: #666666 } /* Literal.Number.Float */\n",
       ".highlight .mh { color: #666666 } /* Literal.Number.Hex */\n",
       ".highlight .mi { color: #666666 } /* Literal.Number.Integer */\n",
       ".highlight .mo { color: #666666 } /* Literal.Number.Oct */\n",
       ".highlight .sa { color: #BA2121 } /* Literal.String.Affix */\n",
       ".highlight .sb { color: #BA2121 } /* Literal.String.Backtick */\n",
       ".highlight .sc { color: #BA2121 } /* Literal.String.Char */\n",
       ".highlight .dl { color: #BA2121 } /* Literal.String.Delimiter */\n",
       ".highlight .sd { color: #BA2121; font-style: italic } /* Literal.String.Doc */\n",
       ".highlight .s2 { color: #BA2121 } /* Literal.String.Double */\n",
       ".highlight .se { color: #BB6622; font-weight: bold } /* Literal.String.Escape */\n",
       ".highlight .sh { color: #BA2121 } /* Literal.String.Heredoc */\n",
       ".highlight .si { color: #BB6688; font-weight: bold } /* Literal.String.Interpol */\n",
       ".highlight .sx { color: #008000 } /* Literal.String.Other */\n",
       ".highlight .sr { color: #BB6688 } /* Literal.String.Regex */\n",
       ".highlight .s1 { color: #BA2121 } /* Literal.String.Single */\n",
       ".highlight .ss { color: #19177C } /* Literal.String.Symbol */\n",
       ".highlight .bp { color: #008000 } /* Name.Builtin.Pseudo */\n",
       ".highlight .fm { color: #0000FF } /* Name.Function.Magic */\n",
       ".highlight .vc { color: #19177C } /* Name.Variable.Class */\n",
       ".highlight .vg { color: #19177C } /* Name.Variable.Global */\n",
       ".highlight .vi { color: #19177C } /* Name.Variable.Instance */\n",
       ".highlight .vm { color: #19177C } /* Name.Variable.Magic */\n",
       ".highlight .il { color: #666666 } /* Literal.Number.Integer.Long */</style><div class=\"highlight\"><pre><span></span>ἐν γαστρὶ ἔχουσα ἐκ Πνεύματος Ἁγίου.\n",
       "</pre></div>\n"
      ],
      "text/plain": [
       "<IPython.core.display.HTML object>"
      ]
     },
     "metadata": {},
     "output_type": "display_data"
    }
   ],
   "source": [
    "q = \"\"\"\n",
    "    let $adv := (//wg[@class=\"cl\" and @role=\"adv\"])[1]\n",
    "    let $parent := $adv/parent::wg\n",
    "    let $object := $parent/*[@role=\"o\"]\n",
    "    return string-join($object//w, \" \")\n",
    "\"\"\"\n",
    "\n",
    "xquery_display(q)"
   ]
  }
 ],
 "metadata": {
  "kernelspec": {
   "display_name": "Python 3",
   "language": "python",
   "name": "python3"
  },
  "language_info": {
   "codemirror_mode": {
    "name": "ipython",
    "version": 3
   },
   "file_extension": ".py",
   "mimetype": "text/x-python",
   "name": "python",
   "nbconvert_exporter": "python",
   "pygments_lexer": "ipython3",
   "version": "3.6.3"
  }
 },
 "nbformat": 4,
 "nbformat_minor": 2
}

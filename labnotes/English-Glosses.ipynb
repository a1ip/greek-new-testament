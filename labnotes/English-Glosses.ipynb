{
 "cells": [
  {
   "cell_type": "markdown",
   "metadata": {},
   "source": [
    "# English Glosses"
   ]
  },
  {
   "cell_type": "markdown",
   "metadata": {},
   "source": [
    "Contextual glosses in English are now available in the Nestle 1904 Lowfat trees.  These glosses are available in the [Nestle1904 repository](https://github.com/biblicalhumanities/Nestle1904/tree/master/glosses) and were extracted from the Berean Interlinear Bible.\n",
    "\n",
    "http://interlinearbible.com/\n",
    "\n",
    "The Holy Bible, Berean Interlinear Bible, BIB\n",
    "Copyright ©2016 by Bible Hub\n",
    "Used by Permission. All Rights Reserved Worldwide.\n",
    "\n",
    "Licensing terms are found here: http://berean.bible/terms.htm\n",
    "\n",
    "They can be used in two ways:\n",
    "\n",
    "- In query results, words have tooltips. If you wave your mouse over a word, you can see the glosses and parsing information.\n",
    "- The `glosses()` method shows glosses for a word or for all words in a passage.\n",
    "\n",
    "Let's explore this feature by opening up a database and looking at a verse."
   ]
  },
  {
   "cell_type": "code",
   "execution_count": 1,
   "metadata": {},
   "outputs": [
    {
     "name": "stdout",
     "output_type": "stream",
     "text": [
      "Database 'nestle1904lowfat' was opened in 72.18 ms.\n",
      "\n"
     ]
    }
   ],
   "source": [
    "from greeksyntax.lowfat import *\n",
    "\n",
    "q = lowfat(\"nestle1904lowfat\")"
   ]
  },
  {
   "cell_type": "code",
   "execution_count": 2,
   "metadata": {},
   "outputs": [
    {
     "data": {
      "text/html": [
       "<p>\n",
       "  <b>Matt.5.6!1</b> <span title=\"adj :  μακάριος plural masculine nominative  -  Blessed [are]\">μακάριοι</span>\n",
       "  <span title=\"det :  ὁ plural masculine nominative  -  those\">οἱ</span>\n",
       "  <span title=\"verb :  πεινάω plural masculine nominative present active participle  -  hungering\">πεινῶντες</span>\n",
       "  <span title=\"conj :  καί  -  and\">καὶ</span>\n",
       "  <span title=\"verb :  διψάω plural masculine nominative present active participle  -  thirsting for\">διψῶντες</span>\n",
       "  <span title=\"det :  ὁ singular feminine accusative  -  -\">τὴν</span>\n",
       "  <span title=\"noun :  δικαιοσύνη singular feminine accusative  -  righteousness\">δικαιοσύνην,</span>\n",
       "  <span title=\"conj :  ὅτι  -  for\">ὅτι</span>\n",
       "  <span title=\"pron :  αὐτός plural masculine nominative  -  they\">αὐτοὶ</span>\n",
       "  <span title=\"verb :  χορτάζω plural future passive indicative  -  will be filled\">χορτασθήσονται.</span>\n",
       "</p>"
      ],
      "text/plain": [
       "<IPython.core.display.HTML object>"
      ]
     },
     "metadata": {},
     "output_type": "display_data"
    }
   ],
   "source": [
    "q.find(milestone(\"Matt.5.6\"))"
   ]
  },
  {
   "cell_type": "markdown",
   "metadata": {},
   "source": [
    "If you wave your mouse over a word, you should see a window with morphological information and a contextual gloss.  You can also create a table that contains glosses using the `interlinear()` method:"
   ]
  },
  {
   "cell_type": "code",
   "execution_count": 3,
   "metadata": {},
   "outputs": [
    {
     "data": {
      "text/html": [
       "<table>\n",
       "  <tr>\n",
       "    <td style=\"text-align:left;\">μακάριοι</td>\n",
       "    <td style=\"text-align:left;\">Blessed [are]</td>\n",
       "    <td style=\"text-align:left;\">adj :  μακάριος plural masculine nominative</td>\n",
       "  </tr>\n",
       "  <tr>\n",
       "    <td style=\"text-align:left;\">οἱ</td>\n",
       "    <td style=\"text-align:left;\">those</td>\n",
       "    <td style=\"text-align:left;\">det :  ὁ plural masculine nominative</td>\n",
       "  </tr>\n",
       "  <tr>\n",
       "    <td style=\"text-align:left;\">πεινῶντες</td>\n",
       "    <td style=\"text-align:left;\">hungering</td>\n",
       "    <td style=\"text-align:left;\">verb :  πεινάω plural masculine nominative present active participle</td>\n",
       "  </tr>\n",
       "  <tr>\n",
       "    <td style=\"text-align:left;\">καὶ</td>\n",
       "    <td style=\"text-align:left;\">and</td>\n",
       "    <td style=\"text-align:left;\">conj :  καί</td>\n",
       "  </tr>\n",
       "  <tr>\n",
       "    <td style=\"text-align:left;\">διψῶντες</td>\n",
       "    <td style=\"text-align:left;\">thirsting for</td>\n",
       "    <td style=\"text-align:left;\">verb :  διψάω plural masculine nominative present active participle</td>\n",
       "  </tr>\n",
       "  <tr>\n",
       "    <td style=\"text-align:left;\">τὴν</td>\n",
       "    <td style=\"text-align:left;\">-</td>\n",
       "    <td style=\"text-align:left;\">det :  ὁ singular feminine accusative</td>\n",
       "  </tr>\n",
       "  <tr>\n",
       "    <td style=\"text-align:left;\">δικαιοσύνην,</td>\n",
       "    <td style=\"text-align:left;\">righteousness</td>\n",
       "    <td style=\"text-align:left;\">noun :  δικαιοσύνη singular feminine accusative</td>\n",
       "  </tr>\n",
       "  <tr>\n",
       "    <td style=\"text-align:left;\">ὅτι</td>\n",
       "    <td style=\"text-align:left;\">for</td>\n",
       "    <td style=\"text-align:left;\">conj :  ὅτι</td>\n",
       "  </tr>\n",
       "  <tr>\n",
       "    <td style=\"text-align:left;\">αὐτοὶ</td>\n",
       "    <td style=\"text-align:left;\">they</td>\n",
       "    <td style=\"text-align:left;\">pron :  αὐτός plural masculine nominative</td>\n",
       "  </tr>\n",
       "  <tr>\n",
       "    <td style=\"text-align:left;\">χορτασθήσονται.</td>\n",
       "    <td style=\"text-align:left;\">will be filled</td>\n",
       "    <td style=\"text-align:left;\">verb :  χορτάζω plural future passive indicative</td>\n",
       "  </tr>\n",
       "</table>"
      ],
      "text/plain": [
       "<IPython.core.display.HTML object>"
      ]
     },
     "metadata": {},
     "output_type": "display_data"
    }
   ],
   "source": [
    "q.interlinear(milestone(\"Matt.5.6\"))"
   ]
  },
  {
   "cell_type": "code",
   "execution_count": null,
   "metadata": {
    "collapsed": true
   },
   "outputs": [],
   "source": []
  }
 ],
 "metadata": {
  "kernelspec": {
   "display_name": "Python 3",
   "language": "python",
   "name": "python3"
  },
  "language_info": {
   "codemirror_mode": {
    "name": "ipython",
    "version": 3
   },
   "file_extension": ".py",
   "mimetype": "text/x-python",
   "name": "python",
   "nbconvert_exporter": "python",
   "pygments_lexer": "ipython3",
   "version": "3.6.3"
  }
 },
 "nbformat": 4,
 "nbformat_minor": 2
}

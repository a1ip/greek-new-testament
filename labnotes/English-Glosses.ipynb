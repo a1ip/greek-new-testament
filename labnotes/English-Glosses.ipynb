{
 "cells": [
  {
   "cell_type": "markdown",
   "metadata": {},
   "source": [
    "# English Glosses"
   ]
  },
  {
   "cell_type": "markdown",
   "metadata": {},
   "source": [
    "Contextual glosses in English are now available in the Nestle 1904 Lowfat trees.  These glosses are available in the [Nestle1904 repository](https://github.com/biblicalhumanities/Nestle1904/tree/master/glosses) and were extracted, with permission, from the Berean Interlinear Bible.\n",
    "\n",
    "They can be used in three ways:\n",
    "\n",
    "- In query results, words have tooltips. If you wave your mouse over a word, you can see the glosses and parsing information.\n",
    "- The `interlinear()` method shows morphology and glosses for a word or for all words in a passage.\n",
    "- As data in queries.\n",
    "\n",
    "Let's explore this feature by opening up a database and looking at a verse."
   ]
  },
  {
   "cell_type": "code",
   "execution_count": 2,
   "metadata": {},
   "outputs": [
    {
     "name": "stdout",
     "output_type": "stream",
     "text": [
      "Database 'nestle1904lowfat' was opened in 0.06 ms.\n",
      "\n"
     ]
    }
   ],
   "source": [
    "from greeksyntax.lowfat import *\n",
    "q = lowfat(\"nestle1904lowfat\")"
   ]
  },
  {
   "cell_type": "code",
   "execution_count": 3,
   "metadata": {},
   "outputs": [
    {
     "data": {
      "text/html": [
       "<p>\n",
       "  <b>Matt.5.6!1</b> <span title=\"adj :  μακάριος plural masculine nominative  -  Blessed [are]\">μακάριοι</span>\n",
       "  <span title=\"det :  ὁ plural masculine nominative  -  those\">οἱ</span>\n",
       "  <span title=\"verb :  πεινάω plural masculine nominative present active participle  -  hungering\">πεινῶντες</span>\n",
       "  <span title=\"conj :  καί  -  and\">καὶ</span>\n",
       "  <span title=\"verb :  διψάω plural masculine nominative present active participle  -  thirsting for\">διψῶντες</span>\n",
       "  <span title=\"det :  ὁ singular feminine accusative  -  -\">τὴν</span>\n",
       "  <span title=\"noun :  δικαιοσύνη singular feminine accusative  -  righteousness\">δικαιοσύνην,</span>\n",
       "  <span title=\"conj :  ὅτι  -  for\">ὅτι</span>\n",
       "  <span title=\"pron :  αὐτός plural masculine nominative  -  they\">αὐτοὶ</span>\n",
       "  <span title=\"verb :  χορτάζω plural future passive indicative  -  will be filled\">χορτασθήσονται.</span>\n",
       "</p>"
      ],
      "text/plain": [
       "<IPython.core.display.HTML object>"
      ]
     },
     "metadata": {},
     "output_type": "display_data"
    }
   ],
   "source": [
    "q.find(milestone(\"Matt.5.6\"))"
   ]
  },
  {
   "cell_type": "markdown",
   "metadata": {},
   "source": [
    "If you wave your mouse over a word, you should see a window with morphological information and a contextual gloss.  You can also create a table that contains glosses using the `interlinear()` method:"
   ]
  },
  {
   "cell_type": "code",
   "execution_count": 4,
   "metadata": {},
   "outputs": [
    {
     "data": {
      "text/html": [
       "<table>\n",
       "  <tr>\n",
       "    <td style=\"text-align:left;\">μακάριοι</td>\n",
       "    <td style=\"text-align:left;\">Blessed [are]</td>\n",
       "    <td style=\"text-align:left;\">adj :  μακάριος plural masculine nominative</td>\n",
       "  </tr>\n",
       "  <tr>\n",
       "    <td style=\"text-align:left;\">οἱ</td>\n",
       "    <td style=\"text-align:left;\">those</td>\n",
       "    <td style=\"text-align:left;\">det :  ὁ plural masculine nominative</td>\n",
       "  </tr>\n",
       "  <tr>\n",
       "    <td style=\"text-align:left;\">πεινῶντες</td>\n",
       "    <td style=\"text-align:left;\">hungering</td>\n",
       "    <td style=\"text-align:left;\">verb :  πεινάω plural masculine nominative present active participle</td>\n",
       "  </tr>\n",
       "  <tr>\n",
       "    <td style=\"text-align:left;\">καὶ</td>\n",
       "    <td style=\"text-align:left;\">and</td>\n",
       "    <td style=\"text-align:left;\">conj :  καί</td>\n",
       "  </tr>\n",
       "  <tr>\n",
       "    <td style=\"text-align:left;\">διψῶντες</td>\n",
       "    <td style=\"text-align:left;\">thirsting for</td>\n",
       "    <td style=\"text-align:left;\">verb :  διψάω plural masculine nominative present active participle</td>\n",
       "  </tr>\n",
       "  <tr>\n",
       "    <td style=\"text-align:left;\">τὴν</td>\n",
       "    <td style=\"text-align:left;\">-</td>\n",
       "    <td style=\"text-align:left;\">det :  ὁ singular feminine accusative</td>\n",
       "  </tr>\n",
       "  <tr>\n",
       "    <td style=\"text-align:left;\">δικαιοσύνην,</td>\n",
       "    <td style=\"text-align:left;\">righteousness</td>\n",
       "    <td style=\"text-align:left;\">noun :  δικαιοσύνη singular feminine accusative</td>\n",
       "  </tr>\n",
       "  <tr>\n",
       "    <td style=\"text-align:left;\">ὅτι</td>\n",
       "    <td style=\"text-align:left;\">for</td>\n",
       "    <td style=\"text-align:left;\">conj :  ὅτι</td>\n",
       "  </tr>\n",
       "  <tr>\n",
       "    <td style=\"text-align:left;\">αὐτοὶ</td>\n",
       "    <td style=\"text-align:left;\">they</td>\n",
       "    <td style=\"text-align:left;\">pron :  αὐτός plural masculine nominative</td>\n",
       "  </tr>\n",
       "  <tr>\n",
       "    <td style=\"text-align:left;\">χορτασθήσονται.</td>\n",
       "    <td style=\"text-align:left;\">will be filled</td>\n",
       "    <td style=\"text-align:left;\">verb :  χορτάζω plural future passive indicative</td>\n",
       "  </tr>\n",
       "</table>"
      ],
      "text/plain": [
       "<IPython.core.display.HTML object>"
      ]
     },
     "metadata": {},
     "output_type": "display_data"
    }
   ],
   "source": [
    "q.interlinear(milestone(\"Matt.5.6\"))"
   ]
  },
  {
   "cell_type": "markdown",
   "metadata": {},
   "source": [
    "You can also use glosses as data in queries.  Here are all of the forms translated \"out of\" in these glosses:"
   ]
  },
  {
   "cell_type": "code",
   "execution_count": 7,
   "metadata": {},
   "outputs": [
    {
     "name": "stdout",
     "output_type": "stream",
     "text": [
      "ἐκ\n",
      "ἐξ\n",
      "ἔξω\n",
      "ἀπ’\n",
      "ἀπό\n",
      "ἐκτός\n",
      "χωρίς\n",
      "κατά\n"
     ]
    }
   ],
   "source": [
    "query = \"\"\"\n",
    "   distinct-values(//w[@gloss = 'out of']/@normalized)\n",
    "\"\"\"\n",
    "\n",
    "print(q.xquery(query))"
   ]
  },
  {
   "cell_type": "markdown",
   "metadata": {},
   "source": [
    "Here are all of the glosses given for κατά in various contexts:"
   ]
  },
  {
   "cell_type": "code",
   "execution_count": 8,
   "metadata": {},
   "outputs": [
    {
     "name": "stdout",
     "output_type": "stream",
     "text": [
      "according to\n",
      "against\n",
      "down\n",
      "for\n",
      "After\n",
      "in\n",
      "by\n",
      "with\n",
      "throughout\n",
      "before\n",
      "According to\n",
      "from each\n",
      "through\n",
      "on\n",
      "By\n",
      "to\n",
      "According\n",
      "in different\n",
      "during\n",
      "[are] around\n",
      "[houses] after\n",
      "toward\n",
      "along\n",
      "in every\n",
      "down to\n",
      "at\n",
      "among\n",
      "according to [the]\n",
      "in each\n",
      "relating to\n",
      "of\n",
      "off\n",
      "Because of\n",
      "As regards\n",
      "over\n",
      "by way of\n",
      "[anything] on\n",
      "[let it be] by\n",
      "concerning\n",
      "Every\n",
      "as to\n",
      "As to\n",
      "[is] contrary to\n",
      "like\n",
      "Against\n",
      "out of\n",
      "in regard to\n",
      "as\n",
      "after\n"
     ]
    }
   ],
   "source": [
    "query = \"\"\"\n",
    "   distinct-values(//w[@normalized = 'κατά']/@gloss)\n",
    "\"\"\"\n",
    "\n",
    "print(q.xquery(query))"
   ]
  },
  {
   "cell_type": "code",
   "execution_count": null,
   "metadata": {
    "collapsed": true
   },
   "outputs": [],
   "source": []
  },
  {
   "cell_type": "code",
   "execution_count": null,
   "metadata": {
    "collapsed": true
   },
   "outputs": [],
   "source": []
  }
 ],
 "metadata": {
  "kernelspec": {
   "display_name": "Python 3",
   "language": "python",
   "name": "python3"
  },
  "language_info": {
   "codemirror_mode": {
    "name": "ipython",
    "version": 3
   },
   "file_extension": ".py",
   "mimetype": "text/x-python",
   "name": "python",
   "nbconvert_exporter": "python",
   "pygments_lexer": "ipython3",
   "version": "3.6.3"
  }
 },
 "nbformat": 4,
 "nbformat_minor": 2
}
